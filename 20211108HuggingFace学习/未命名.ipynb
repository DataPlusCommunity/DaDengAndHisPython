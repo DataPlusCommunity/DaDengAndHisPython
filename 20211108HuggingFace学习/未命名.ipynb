{
 "cells": [
  {
   "cell_type": "markdown",
   "metadata": {},
   "source": [
    "\n",
    "\n",
    "Huggingface（抱抱脸）总部位于纽约，是一家专注于自然语言处理、人工智能和分布式系统的创业公司。他们所提供的聊天机器人技术一直颇受欢迎，但更出名的是他们在NLP开源社区上的贡献。\n",
    "\n",
    "Huggingface一直致力于自然语言处理NLP技术的平民化(democratize)，希望每个人都能用上最先进(SOTA, state-of-the-art)的NLP技术，而非困窘于训练资源的匮乏。\n",
    "\n",
    "![](img/huggingface.png)\n",
    "\n",
    "\n",
    "**Hugging Face所有模型的地址**\n",
    "\n",
    "https://huggingface.co/models\n",
    "\n",
    "你可以在这里下载所需要的模型，也可以上传你微调之后用于特定task的模型。\n",
    "\n",
    "<br>\n",
    "\n",
    "**Hugging Face使用文档的地址**\n",
    "\n",
    "https://huggingface.co/transformers/master/index.html\n",
    "\n",
    "\n",
    "\n",
    "## 英汉互译"
   ]
  },
  {
   "cell_type": "code",
   "execution_count": 26,
   "metadata": {},
   "outputs": [],
   "source": [
    "from transformers import AutoTokenizer, AutoModelForSeq2SeqLM, pipeline\n",
    "\n",
    "zh2en_model = AutoModelForSeq2SeqLM.from_pretrained('Helsinki-NLP/opus-mt-zh-en')\n",
    "zh2en_tokenizer = AutoTokenizer.from_pretrained('Helsinki-NLP/opus-mt-zh-en')\n",
    "zh2en_translation = pipeline('translation_zh_to_en', \n",
    "                       model=zh2en_model, \n",
    "                       tokenizer=zh2en_tokenizer)"
   ]
  },
  {
   "cell_type": "code",
   "execution_count": 22,
   "metadata": {
    "scrolled": true
   },
   "outputs": [
    {
     "data": {
      "text/plain": [
       "[{'translation_text': 'Python is a very powerful programming language!'}]"
      ]
     },
     "execution_count": 22,
     "metadata": {},
     "output_type": "execute_result"
    }
   ],
   "source": [
    "zh2en_translation('Python是一门非常强大的编程语言!')"
   ]
  },
  {
   "cell_type": "code",
   "execution_count": null,
   "metadata": {},
   "outputs": [],
   "source": [
    "en2zh_model = AutoModelForSeq2SeqLM.from_pretrained('Helsinki-NLP/opus-mt-en-zh')\n",
    "en2zh_tokenizer = AutoTokenizer.from_pretrained('Helsinki-NLP/opus-mt-en-zh')\n",
    "\n",
    "en2zh_translation = pipeline('translation_en_to_zh', \n",
    "                       model=en2zh_model, \n",
    "                       tokenizer=en2zh_tokenizer)"
   ]
  },
  {
   "cell_type": "code",
   "execution_count": 32,
   "metadata": {},
   "outputs": [
    {
     "data": {
      "text/plain": [
       "[{'translation_text': 'Python是一个非常强大的编程语言!'}]"
      ]
     },
     "execution_count": 32,
     "metadata": {},
     "output_type": "execute_result"
    }
   ],
   "source": [
    "en2zh_translation('Python is a very powerful programming language!')"
   ]
  },
  {
   "cell_type": "markdown",
   "metadata": {},
   "source": [
    "## 文本分类\n",
    "模型 **uer/roberta-base-finetuned-chinanews-chinese**是使用5个中文文本分类数据集训练得到\n",
    "- 京东full、京东binary和大众点评数据集包含不同情感极性的用户评论数据。 \n",
    "- 凤凰网 和 China Daily 包含不同主题类的新闻文本数据"
   ]
  },
  {
   "cell_type": "code",
   "execution_count": null,
   "metadata": {},
   "outputs": [],
   "source": [
    "from transformers import AutoModelForSequenceClassification, AutoTokenizer, pipeline\n",
    "\n",
    "model = AutoModelForSequenceClassification.from_pretrained('uer/roberta-base-finetuned-chinanews-chinese')\n",
    "tokenizer = AutoTokenizer.from_pretrained('uer/roberta-base-finetuned-chinanews-chinese')\n",
    "text_classification = pipeline('sentiment-analysis', \n",
    "                               model=model, \n",
    "                               tokenizer=tokenizer)"
   ]
  },
  {
   "cell_type": "code",
   "execution_count": 7,
   "metadata": {},
   "outputs": [
    {
     "data": {
      "text/plain": [
       "[[{'label': 'mainland China politics', 'score': 0.0002807585697155446},\n",
       "  {'label': 'Hong Kong - Macau politics', 'score': 0.00015504546172451228},\n",
       "  {'label': 'International news', 'score': 6.818029214628041e-05},\n",
       "  {'label': 'financial news', 'score': 0.9991051554679871},\n",
       "  {'label': 'culture', 'score': 0.00011297615128569305},\n",
       "  {'label': 'entertainment', 'score': 0.00012184812658233568},\n",
       "  {'label': 'sports', 'score': 0.0001558474759804085}]]"
      ]
     },
     "execution_count": 7,
     "metadata": {},
     "output_type": "execute_result"
    }
   ],
   "source": [
    "test_text = \"上证指数大涨2%\"\n",
    "\n",
    "text_classification(test_text, return_all_scores=True)"
   ]
  },
  {
   "cell_type": "code",
   "execution_count": 29,
   "metadata": {},
   "outputs": [
    {
     "data": {
      "text/plain": [
       "[[{'label': 'mainland China politics', 'score': 0.02050291746854782},\n",
       "  {'label': 'Hong Kong - Macau politics', 'score': 0.0030984438490122557},\n",
       "  {'label': 'International news', 'score': 0.005687597207725048},\n",
       "  {'label': 'financial news', 'score': 0.03360358253121376},\n",
       "  {'label': 'culture', 'score': 0.913349986076355},\n",
       "  {'label': 'entertainment', 'score': 0.010810119099915028},\n",
       "  {'label': 'sports', 'score': 0.012947351671755314}]]"
      ]
     },
     "execution_count": 29,
     "metadata": {},
     "output_type": "execute_result"
    }
   ],
   "source": [
    "test_text = \"Python是一门强大的编程语言\"\n",
    "text_classification(test_text, return_all_scores=True)"
   ]
  },
  {
   "cell_type": "code",
   "execution_count": null,
   "metadata": {},
   "outputs": [],
   "source": []
  }
 ],
 "metadata": {
  "kernelspec": {
   "display_name": "Python 3",
   "language": "python",
   "name": "python3"
  },
  "language_info": {
   "codemirror_mode": {
    "name": "ipython",
    "version": 3
   },
   "file_extension": ".py",
   "mimetype": "text/x-python",
   "name": "python",
   "nbconvert_exporter": "python",
   "pygments_lexer": "ipython3",
   "version": "3.7.5"
  },
  "toc": {
   "base_numbering": 1,
   "nav_menu": {},
   "number_sections": false,
   "sideBar": true,
   "skip_h1_title": false,
   "title_cell": "Table of Contents",
   "title_sidebar": "Contents",
   "toc_cell": false,
   "toc_position": {},
   "toc_section_display": true,
   "toc_window_display": false
  }
 },
 "nbformat": 4,
 "nbformat_minor": 4
}
