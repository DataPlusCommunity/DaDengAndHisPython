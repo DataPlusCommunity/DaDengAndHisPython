{
 "cells": [
  {
   "cell_type": "markdown",
   "metadata": {},
   "source": [
    "stylecloud库\n",
    "\n",
    "stylecloud基于wordcloud库，使用方法更简单一些。该库的特点有\n",
    "- 支持词云图图标形状设置\n",
    "- 可直接读取csv文件（csv有两列，word和freq）\n",
    "- 可调色\n",
    "- ...\n",
    "\n",
    "# 安装"
   ]
  },
  {
   "cell_type": "code",
   "execution_count": null,
   "metadata": {},
   "outputs": [],
   "source": [
    "pip install stylecloud"
   ]
  },
  {
   "cell_type": "markdown",
   "metadata": {},
   "source": [
    "# 数据\n",
    "csv为词频统计结果，两个字段，分别为**word和freq**。\n",
    "\n",
    "今天准备了两个csv\n",
    "- data/高考.csv\n",
    "- data/股市.csv"
   ]
  },
  {
   "cell_type": "code",
   "execution_count": 81,
   "metadata": {},
   "outputs": [
    {
     "data": {
      "text/html": [
       "<div>\n",
       "<style scoped>\n",
       "    .dataframe tbody tr th:only-of-type {\n",
       "        vertical-align: middle;\n",
       "    }\n",
       "\n",
       "    .dataframe tbody tr th {\n",
       "        vertical-align: top;\n",
       "    }\n",
       "\n",
       "    .dataframe thead th {\n",
       "        text-align: right;\n",
       "    }\n",
       "</style>\n",
       "<table border=\"1\" class=\"dataframe\">\n",
       "  <thead>\n",
       "    <tr style=\"text-align: right;\">\n",
       "      <th></th>\n",
       "      <th>word</th>\n",
       "      <th>freq</th>\n",
       "    </tr>\n",
       "  </thead>\n",
       "  <tbody>\n",
       "    <tr>\n",
       "      <th>0</th>\n",
       "      <td>高考</td>\n",
       "      <td>2198</td>\n",
       "    </tr>\n",
       "    <tr>\n",
       "      <th>1</th>\n",
       "      <td>未来</td>\n",
       "      <td>1549</td>\n",
       "    </tr>\n",
       "    <tr>\n",
       "      <th>2</th>\n",
       "      <td>决定</td>\n",
       "      <td>1443</td>\n",
       "    </tr>\n",
       "    <tr>\n",
       "      <th>3</th>\n",
       "      <td>一个</td>\n",
       "      <td>806</td>\n",
       "    </tr>\n",
       "    <tr>\n",
       "      <th>4</th>\n",
       "      <td>可以</td>\n",
       "      <td>644</td>\n",
       "    </tr>\n",
       "  </tbody>\n",
       "</table>\n",
       "</div>"
      ],
      "text/plain": [
       "  word  freq\n",
       "0   高考  2198\n",
       "1   未来  1549\n",
       "2   决定  1443\n",
       "3   一个   806\n",
       "4   可以   644"
      ]
     },
     "execution_count": 81,
     "metadata": {},
     "output_type": "execute_result"
    }
   ],
   "source": [
    "import pandas as pd\n",
    "\n",
    "df1 = pd.read_csv('data/高考.csv')\n",
    "df1.head()"
   ]
  },
  {
   "cell_type": "code",
   "execution_count": 82,
   "metadata": {},
   "outputs": [
    {
     "data": {
      "text/html": [
       "<div>\n",
       "<style scoped>\n",
       "    .dataframe tbody tr th:only-of-type {\n",
       "        vertical-align: middle;\n",
       "    }\n",
       "\n",
       "    .dataframe tbody tr th {\n",
       "        vertical-align: top;\n",
       "    }\n",
       "\n",
       "    .dataframe thead th {\n",
       "        text-align: right;\n",
       "    }\n",
       "</style>\n",
       "<table border=\"1\" class=\"dataframe\">\n",
       "  <thead>\n",
       "    <tr style=\"text-align: right;\">\n",
       "      <th></th>\n",
       "      <th>word</th>\n",
       "      <th>freq</th>\n",
       "    </tr>\n",
       "  </thead>\n",
       "  <tbody>\n",
       "    <tr>\n",
       "      <th>0</th>\n",
       "      <td>牛市</td>\n",
       "      <td>1993</td>\n",
       "    </tr>\n",
       "    <tr>\n",
       "      <th>1</th>\n",
       "      <td>图片</td>\n",
       "      <td>649</td>\n",
       "    </tr>\n",
       "    <tr>\n",
       "      <th>2</th>\n",
       "      <td>市场</td>\n",
       "      <td>530</td>\n",
       "    </tr>\n",
       "    <tr>\n",
       "      <th>3</th>\n",
       "      <td>A股</td>\n",
       "      <td>527</td>\n",
       "    </tr>\n",
       "    <tr>\n",
       "      <th>4</th>\n",
       "      <td>股市</td>\n",
       "      <td>520</td>\n",
       "    </tr>\n",
       "  </tbody>\n",
       "</table>\n",
       "</div>"
      ],
      "text/plain": [
       "  word  freq\n",
       "0   牛市  1993\n",
       "1   图片   649\n",
       "2   市场   530\n",
       "3   A股   527\n",
       "4   股市   520"
      ]
     },
     "execution_count": 82,
     "metadata": {},
     "output_type": "execute_result"
    }
   ],
   "source": [
    "df2 = pd.read_csv('data/股市.csv')\n",
    "df2.head()"
   ]
  },
  {
   "cell_type": "markdown",
   "metadata": {},
   "source": [
    "# 快速上手"
   ]
  },
  {
   "cell_type": "code",
   "execution_count": 77,
   "metadata": {},
   "outputs": [],
   "source": [
    "import stylecloud\n",
    "\n",
    "stopwords = open('data/stopwords.txt', encoding='utf-8').read().split('\\n')\n",
    "\n",
    "stylecloud.gen_stylecloud(file_path='data/高考.csv',\n",
    "                          font_path='data/SourceHanSansCN-Regular.otf',\n",
    "                          output_name='output/高考1.png',\n",
    "                          size=500,\n",
    "                          custom_stopwords=stopwords)"
   ]
  },
  {
   "cell_type": "markdown",
   "metadata": {},
   "source": [
    "![](output/高考1.png)"
   ]
  },
  {
   "cell_type": "code",
   "execution_count": 78,
   "metadata": {},
   "outputs": [],
   "source": [
    "import stylecloud\n",
    "stopwords = open('data/stopwords.txt', encoding='utf-8').read().split('\\n')\n",
    "\n",
    "stylecloud.gen_stylecloud(file_path='data/股市.csv',\n",
    "                          font_path='data/SourceHanSansCN-Regular.otf',\n",
    "                          output_name='output/股市1.png',\n",
    "                          size=500,\n",
    "                          custom_stopwords=stopwords)"
   ]
  },
  {
   "cell_type": "markdown",
   "metadata": {},
   "source": [
    "![](output/牛市1.png)"
   ]
  },
  {
   "cell_type": "markdown",
   "metadata": {},
   "source": [
    "https://jiffyclub.github.io/palettable/"
   ]
  },
  {
   "cell_type": "markdown",
   "metadata": {},
   "source": [
    "\n",
    "# stylecloud参数介绍\n",
    "- **file_path**：CSV的文件路径,需要注意的是csv文件格式为两列(word, freq)\n",
    "- **size**：词云图尺寸[默认值:512]\n",
    "- **custom_stopwords**： 自定义停用词列表\n",
    "- **output_name**：输出的词云图路径\n",
    "- **font_path**：字体路径\n",
    "- icon_name：图标名（fas fa-iconname）只需要改iconname,[默认值: fas fa-flag]\n",
    "- palette：调色板（通过 palettable 实现）[默认值:cartocolors.qualitative.Bold_6]\n",
    "- background_color：词云图背景色[默认值:white]\n",
    "- max_font_size：词云图最大字号[默认值:200]\n",
    "- random_state：控制单词和颜色的随机状态,如不设置，每次运行的效果会发生变化\n",
    "\n",
    "\n",
    "\n",
    "# 图标形状设置\n",
    "\n",
    "icon_name参数的模板【fas fa-iconname】只需要改动iconname即可。\n",
    "\n",
    "\n",
    "iconname并不是随便起的，必须能在https://fontawesome.com/license/free 搜到才可以。\n",
    "\n",
    "![](output/icon.png)\n",
    "比如以**高考**为例，我会在搜索框搜索跟**教育**相关的关键词\n",
    "- university\n",
    "- education\n",
    "等\n",
    "\n",
    "截图中找到最能体现文本主题的图标**user-graduate**\n",
    "\n",
    "所以**icon_name = 'fas fa-user-graduate'**"
   ]
  },
  {
   "cell_type": "code",
   "execution_count": 79,
   "metadata": {},
   "outputs": [],
   "source": [
    "import stylecloud\n",
    "stopwords = open('data/stopwords.txt', encoding='utf-8').read().split('\\n')\n",
    "\n",
    "stylecloud.gen_stylecloud(file_path='data/高考.csv',\n",
    "                          font_path='data/SourceHanSansCN-Regular.otf',\n",
    "                          output_name='output/高考2.png',\n",
    "                          icon_name='fas fa-user-graduate',\n",
    "                          size=500,\n",
    "                          custom_stopwords=stopwords)"
   ]
  },
  {
   "cell_type": "markdown",
   "metadata": {},
   "source": [
    "![](output/高考2.png)"
   ]
  },
  {
   "cell_type": "code",
   "execution_count": 80,
   "metadata": {},
   "outputs": [],
   "source": [
    "import stylecloud\n",
    "stopwords = open('data/stopwords.txt', encoding='utf-8').read().split('\\n')\n",
    "\n",
    "stylecloud.gen_stylecloud(file_path='data/股市.csv',\n",
    "                          font_path='data/SourceHanSansCN-Regular.otf',\n",
    "                          output_name='output/股市2.png',\n",
    "                          icon_name='fas fa-question-circle',\n",
    "                          size=500,\n",
    "                          custom_stopwords=stopwords)"
   ]
  },
  {
   "cell_type": "markdown",
   "metadata": {},
   "source": [
    "![](output/牛市2.png)"
   ]
  }
 ],
 "metadata": {
  "kernelspec": {
   "display_name": "Python 3",
   "language": "python",
   "name": "python3"
  },
  "language_info": {
   "codemirror_mode": {
    "name": "ipython",
    "version": 3
   },
   "file_extension": ".py",
   "mimetype": "text/x-python",
   "name": "python",
   "nbconvert_exporter": "python",
   "pygments_lexer": "ipython3",
   "version": "3.7.5"
  },
  "toc": {
   "base_numbering": 1,
   "nav_menu": {},
   "number_sections": false,
   "sideBar": true,
   "skip_h1_title": true,
   "title_cell": "Table of Contents",
   "title_sidebar": "Contents",
   "toc_cell": false,
   "toc_position": {},
   "toc_section_display": true,
   "toc_window_display": true
  },
  "varInspector": {
   "cols": {
    "lenName": 16,
    "lenType": 16,
    "lenVar": 40
   },
   "kernels_config": {
    "python": {
     "delete_cmd_postfix": "",
     "delete_cmd_prefix": "del ",
     "library": "var_list.py",
     "varRefreshCmd": "print(var_dic_list())"
    },
    "r": {
     "delete_cmd_postfix": ") ",
     "delete_cmd_prefix": "rm(",
     "library": "var_list.r",
     "varRefreshCmd": "cat(var_dic_list()) "
    }
   },
   "types_to_exclude": [
    "module",
    "function",
    "builtin_function_or_method",
    "instance",
    "_Feature"
   ],
   "window_display": false
  }
 },
 "nbformat": 4,
 "nbformat_minor": 4
}
