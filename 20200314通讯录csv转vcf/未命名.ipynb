{
 "cells": [
  {
   "cell_type": "markdown",
   "metadata": {},
   "source": [
    "最近遇到一个问题\n",
    "- 如何将通讯录信息导出到csv\n",
    "- 如何将csv导入到通讯录\n",
    "网上大多都是在说使用Vcard文件，这种文件是手机自带通讯录app能识别的文件格式。\n",
    "\n",
    "但是试了网上各种服务，废了很大的劲头儿也没将csv转为vcf格式（Vcard文件）。后来github一搜csv2vcf，还真让我找到代码。直接封装成函数，各位回去直接调用即可。\n",
    "\n",
    "![](图片.jpg)"
   ]
  },
  {
   "cell_type": "code",
   "execution_count": 12,
   "metadata": {},
   "outputs": [],
   "source": [
    "import os\n",
    "import re\n",
    "import quopri\n",
    "\n",
    "def csv2vcf(csv_filename, encoding='utf-8'):\n",
    "    \"\"\"csv格式文件转换为vcf格式文件\"\"\"\n",
    "    # 1.读取csv文件\n",
    "    with open(csv_filename, 'r', encoding='utf-8') as f:\n",
    "        ftext_list = f.readlines()\n",
    "        f.close()\n",
    "    # 2.将cvs转换为vcf格式\n",
    "    vcards = ''\n",
    "    for line in ftext_list[1:]:\n",
    "        tel_numbers = ''\n",
    "        name_tel_list = line.strip().split(',')\n",
    "        if name_tel_list[0]:\n",
    "            tel_name = name_tel_list[0]  # 姓名\n",
    "            for tel in name_tel_list[1:]:  # 电话\n",
    "                tel_numbers += f'TEL;CELL:{tel}\\n'\n",
    "            vcard = f'BEGIN:VCARD\\nN:{tel_name}\\n{tel_numbers}END:VCARD\\n'\n",
    "            vcards += vcard\n",
    "    # 3.保存转换后的vcf格式文件\n",
    "    (fpath, temp_fname) = os.path.split(csv_filename)\n",
    "    (fname, fextension) = os.path.splitext(temp_fname)\n",
    "    with open(f'{fpath}{fname}.vcf', \"w\", encoding=encoding) as f:\n",
    "        try:\n",
    "            f.write(vcards)\n",
    "        finally:\n",
    "            f.close()\n",
    "            \n",
    "           \n",
    "def vcf2csv(vcf_filename, encoding=\"gbk\"):\n",
    "    \"\"\"vcf格式文件转换为csv格式文件\"\"\"\n",
    "    # 1.读取vcf文件\n",
    "    with open(vcf_filename, 'r', encoding='utf-8') as f:\n",
    "        try:\n",
    "            ftext = f.read()\n",
    "        finally:\n",
    "            f.close()\n",
    "    # 2.正则替换清洗数据\n",
    "    re_dic = {\n",
    "        r\"(EMAIL;)(.*)(\\n)\": \"\",\n",
    "        r\"(ADR;)(.*)(\\n)\": \"\",\n",
    "        r\"(ORG;)(.*)(\\n)\": \"\",\n",
    "        r\"(NOTE:)(.*)(\\n)\": \"\",\n",
    "        r\"(\\n)(VERSION:2.1)\": \"\",\n",
    "        r\"\\nEND:VCARD\\nBEGIN:VCARD\": \"\",\n",
    "        r\"\\nEND:VCARD\": \"\",\n",
    "        r\"BEGIN:VCARD\\n\": \"\",\n",
    "        r\"(;;;)([\\s\\S]*?)(TEL;CELL:)\": \",\",\n",
    "        r\"N;CHARSET=UTF-8;ENCODING=QUOTED-PRINTABLE:\": \"\",\n",
    "        r\"(\\nTEL;)(.*?)(:)\": \",\",\n",
    "        r\"N:;\": \"\",\n",
    "        r\";\": \"\",\n",
    "        r\" \": \"\",\n",
    "        r\"=\\n\": \"\"\n",
    "    }\n",
    "    for re_rule, replace_str in re_dic.items():\n",
    "        p1 = re.compile(re_rule)\n",
    "        ftext = p1.sub(replace_str, ftext)\n",
    "    # 3.解码quopri编码\n",
    "    #ftext = quopri.decodestring(ftext).replace(\" \", \"\")\n",
    "    ftext = \"\".join([s for s in ftext.splitlines(True) if s.strip()])\n",
    "    # 4.保存cvs文件\n",
    "    csv_str = f'姓名,手机\\n{ftext}'\n",
    "    (fpath, temp_fname) = os.path.split(vcf_filename)\n",
    "    (fname, fextension) = os.path.splitext(temp_fname)\n",
    "    with open(f'{fpath}{fname}.csv', \"w\", encoding=encoding) as f:\n",
    "        try:\n",
    "            f.write(csv_str)\n",
    "        finally:\n",
    "            f.close()\n",
    "\n",
    "\n",
    "\n",
    "\n",
    "#vcf2csv(vcf_filename='通讯录.vcf', encoding='gbk')"
   ]
  },
  {
   "cell_type": "markdown",
   "metadata": {},
   "source": [
    "### 将csv转为vcf"
   ]
  },
  {
   "cell_type": "code",
   "execution_count": null,
   "metadata": {},
   "outputs": [],
   "source": [
    "csv2vcf(csv_filename='通讯录.csv')"
   ]
  },
  {
   "cell_type": "markdown",
   "metadata": {},
   "source": [
    "### 将vcf转为csv"
   ]
  },
  {
   "cell_type": "code",
   "execution_count": null,
   "metadata": {},
   "outputs": [],
   "source": [
    "vcf2csv(vcf_filename='通讯录.vcf')"
   ]
  }
 ],
 "metadata": {
  "kernelspec": {
   "display_name": "Python 3",
   "language": "python",
   "name": "python3"
  },
  "language_info": {
   "codemirror_mode": {
    "name": "ipython",
    "version": 3
   },
   "file_extension": ".py",
   "mimetype": "text/x-python",
   "name": "python",
   "nbconvert_exporter": "python",
   "pygments_lexer": "ipython3",
   "version": "3.8.1"
  }
 },
 "nbformat": 4,
 "nbformat_minor": 4
}
