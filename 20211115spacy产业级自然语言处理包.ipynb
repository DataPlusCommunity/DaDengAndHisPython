{
 "cells": [
  {
   "cell_type": "markdown",
   "metadata": {},
   "source": [
    "# spacy\n",
    "产业级自然语言处理python包  https://spacy.io/\n",
    "\n",
    "## 特性\n",
    "- 支持64+语言\n",
    "- 针对19门语言的64流水线pipeline处理函数\n",
    "- 多任务预训练transformers，如BERT\n",
    "- 预训练词向量\n",
    "- 支持命名实体识别\n",
    "- 支持 POS词性标注\n",
    "- 支持 句法依存\n",
    "- 支持 文本分类\n",
    "- 支持 词干化\n",
    "- 内置可视化\n",
    "\n",
    "## spacy安装\n",
    "\n",
    "```\n",
    "pip install spacy==3.2.0\n",
    "```\n",
    "\n",
    "## 模型\n",
    "\n",
    "sm小型/ md中型/ lg大型\n",
    "\n",
    "- **中文模型3.2.0版**  \n",
    "   - zh_core_web_sm  https://github.com/explosion/spacy-models/releases/download/zh_core_web_sm-3.2.0/zh_core_web_sm-3.2.0-py3-none-any.whl\n",
    "   - zh_core_web_md https://github.com/explosion/spacy-models/releases/download/zh_core_web_md-3.2.0/zh_core_web_md-3.2.0-py3-none-any.whl\n",
    "   - zh_core_web_lg   https://github.com/explosion/spacy-models/releases/download/zh_core_web_lg-3.2.0/zh_core_web_lg-3.2.0-py3-none-any.whl\n",
    "\n",
    "\n",
    "- **英文模型3.2.0版**\n",
    "   - en_core_web_sm https://github.com/explosion/spacy-models/releases/download/en_core_web_sm-3.2.0/en_core_web_sm-3.2.0-py3-none-any.whl\n",
    "   - en_core_web_md  https://github.com/explosion/spacy-models/releases/download/en_core_web_md-3.2.0/en_core_web_md-3.2.0-py3-none-any.whl\n",
    "   - en_core_web_lg  https://github.com/explosion/spacy-models/releases/download/en_core_web_lg-3.2.0/en_core_web_lg-3.2.0-py3-none-any.whl\n",
    "   \n",
    "   \n",
    "注意： 模型大小的区别主要体现在词向量维度数的差距，模型越大， 词向量的维度越多。\n",
    "   "
   ]
  },
  {
   "cell_type": "markdown",
   "metadata": {},
   "source": [
    "## Doc类型\n",
    "- ``doc.lang_``  doc的语言\n",
    "- ``doc.text``   doc的文本\n",
    "- ``doc.ents`` 文本中的实体词"
   ]
  },
  {
   "cell_type": "code",
   "execution_count": 127,
   "metadata": {},
   "outputs": [
    {
     "data": {
      "text/plain": [
       "国家管网微信公众号11月13日消息，11月12日，国家管网集团首期绿色超短期融资券在全国银行间市场成功发行。此次债券发行是国家管网集团成立后首次在公开市场亮相，由工商银行独家承销，发行金额60亿元、期限270天，为本年度单笔最大金额绿色超短期融资券，募集资金将全部用于储气库等绿色低碳天然气储运基础设施建设；发行票面利率2.41%，认购总规模达2.53倍，低于资本市场同期可比产品利率超10个BP，反映了市场对绿色基础设施建设项目的青睐。"
      ]
     },
     "execution_count": 127,
     "metadata": {},
     "output_type": "execute_result"
    }
   ],
   "source": [
    "import spacy\n",
    "\n",
    "#使用中文zh_core_web_sm模型\n",
    "zh_nlp = spacy.load(\"zh_core_web_sm\")\n",
    "\n",
    "test1 = '国家管网微信公众号11月13日消息，11月12日，国家管网集团首期绿色超短期融资券在全国银行间市场成功发行。此次债券发行是国家管网集团成立后首次在公开市场亮相，由工商银行独家承销，发行金额60亿元、期限270天，为本年度单笔最大金额绿色超短期融资券，募集资金将全部用于储气库等绿色低碳天然气储运基础设施建设；发行票面利率2.41%，认购总规模达2.53倍，低于资本市场同期可比产品利率超10个BP，反映了市场对绿色基础设施建设项目的青睐。'\n",
    "\n",
    "doc1 = zh_nlp(test1)\n",
    "\n",
    "doc1"
   ]
  },
  {
   "cell_type": "code",
   "execution_count": 128,
   "metadata": {},
   "outputs": [
    {
     "data": {
      "text/plain": [
       "'zh'"
      ]
     },
     "execution_count": 128,
     "metadata": {},
     "output_type": "execute_result"
    }
   ],
   "source": [
    "doc1.lang_"
   ]
  },
  {
   "cell_type": "code",
   "execution_count": 129,
   "metadata": {},
   "outputs": [
    {
     "data": {
      "text/plain": [
       "'国家管网微信公众号11月13日消息，11月12日，国家管网集团首期绿色超短期融资券在全国银行间市场成功发行。此次债券发行是国家管网集团成立后首次在公开市场亮相，由工商银行独家承销，发行金额60亿元、期限270天，为本年度单笔最大金额绿色超短期融资券，募集资金将全部用于储气库等绿色低碳天然气储运基础设施建设；发行票面利率2.41%，认购总规模达2.53倍，低于资本市场同期可比产品利率超10个BP，反映了市场对绿色基础设施建设项目的青睐。'"
      ]
     },
     "execution_count": 129,
     "metadata": {},
     "output_type": "execute_result"
    }
   ],
   "source": [
    "doc1.text"
   ]
  },
  {
   "cell_type": "code",
   "execution_count": 130,
   "metadata": {},
   "outputs": [
    {
     "data": {
      "text/plain": [
       "array([-1.81135774e-01,  2.31929451e-01,  1.45746097e-01,  6.82696044e-01,\n",
       "       -8.44623148e-03, -2.21295916e-02,  4.06811416e-01, -4.60287899e-01,\n",
       "       -5.73987663e-01, -1.33687481e-01, -5.34314513e-01, -6.64901555e-01,\n",
       "       -3.94947737e-01,  6.35875063e-03, -2.03339502e-01,  5.78875951e-02,\n",
       "       -3.34325433e-01, -3.77648622e-01,  2.43863747e-01, -5.56892566e-02,\n",
       "       -7.30801523e-01, -2.41785884e-01, -4.50579911e-01, -3.13598923e-02,\n",
       "        9.07084942e-02, -8.06667805e-01,  7.28501499e-01, -8.59559357e-01,\n",
       "       -4.44110222e-02,  9.64611948e-01, -2.57230818e-01,  1.09481342e-01,\n",
       "       -3.73580456e-01, -8.51007993e-04,  5.30374162e-02, -5.51876485e-01,\n",
       "       -4.82654065e-01,  2.68822908e-01, -4.20012563e-01,  4.33068752e-01,\n",
       "       -5.14427841e-01,  5.53584039e-01, -2.00293139e-02,  9.45062563e-02,\n",
       "        1.04523234e-01,  1.34134221e+00, -5.23905218e-01,  1.31230903e+00,\n",
       "        3.28943968e-01,  3.39987069e-01,  8.26785386e-01,  5.35273492e-01,\n",
       "       -4.27510649e-01, -1.02807179e-01, -1.91500232e-01,  2.63696283e-01,\n",
       "        6.33961499e-01, -5.65908328e-02, -1.94336250e-01, -5.89190602e-01,\n",
       "        2.22078279e-01,  3.41992415e-02,  5.37312031e-01,  2.77926654e-01,\n",
       "       -3.00608397e-01, -6.42910838e-01, -1.33188680e-01,  2.82793492e-01,\n",
       "        6.25911206e-02,  2.08833948e-01,  2.69211121e-02,  1.65822819e-01,\n",
       "       -4.32190485e-02, -6.67634964e-01,  6.50937319e-01, -2.43003711e-01,\n",
       "        9.57057327e-02, -3.56370257e-03, -1.13566548e-01, -1.65319979e-01,\n",
       "        7.40000159e-02,  3.65676880e-01, -2.21356809e-01,  2.03256473e-01,\n",
       "        2.26293072e-01,  3.11525285e-01,  3.37869138e-01, -3.12896192e-01,\n",
       "        5.31899095e-01, -1.86223835e-01, -6.03411011e-02,  4.97923464e-01,\n",
       "        3.10418844e-01, -2.48594299e-01, -3.67455184e-01, -4.46804255e-01],\n",
       "      dtype=float32)"
      ]
     },
     "execution_count": 130,
     "metadata": {},
     "output_type": "execute_result"
    }
   ],
   "source": [
    "doc1.vector"
   ]
  },
  {
   "cell_type": "code",
   "execution_count": 136,
   "metadata": {},
   "outputs": [
    {
     "data": {
      "text/plain": [
       "(11月13日, 11月12日, 国家管网集团, 全国银行, 国家管网集团, 工商银行, 60亿元, 270天, 2, 2, 53, 超10)"
      ]
     },
     "execution_count": 136,
     "metadata": {},
     "output_type": "execute_result"
    }
   ],
   "source": [
    "#doc1中的实体词\n",
    "doc1.ents"
   ]
  },
  {
   "cell_type": "code",
   "execution_count": 137,
   "metadata": {},
   "outputs": [
    {
     "data": {
      "text/plain": [
       "['DATE',\n",
       " 'DATE',\n",
       " 'ORG',\n",
       " 'ORG',\n",
       " 'ORG',\n",
       " 'ORG',\n",
       " 'MONEY',\n",
       " 'DATE',\n",
       " 'CARDINAL',\n",
       " 'CARDINAL',\n",
       " 'CARDINAL',\n",
       " 'CARDINAL']"
      ]
     },
     "execution_count": 137,
     "metadata": {},
     "output_type": "execute_result"
    }
   ],
   "source": [
    "#doc1中的实体词类别\n",
    "[ent.label_ for ent in doc1.ents]"
   ]
  },
  {
   "cell_type": "markdown",
   "metadata": {},
   "source": [
    "## Token类型\n",
    "- ``token.text``   文本\n",
    "- ``token.pos_``  词性"
   ]
  },
  {
   "cell_type": "code",
   "execution_count": 138,
   "metadata": {},
   "outputs": [
    {
     "name": "stdout",
     "output_type": "stream",
     "text": [
      "国家   NOUN\n",
      "管网   NOUN\n",
      "微信   ADJ\n",
      "公众号   NOUN\n",
      "11月   NOUN\n",
      "13日   NOUN\n",
      "消息   NOUN\n",
      "，   PUNCT\n",
      "11月   NOUN\n",
      "12日   NOUN\n",
      "，   PUNCT\n",
      "国家   NOUN\n",
      "管网   NOUN\n",
      "集团   NOUN\n",
      "首期   ADV\n",
      "绿色   VERB\n",
      "超短   NOUN\n",
      "期融   NOUN\n",
      "资券   VERB\n",
      "在   ADP\n",
      "全国   ADJ\n",
      "银行   NOUN\n",
      "间   PART\n",
      "市场   NOUN\n",
      "成功   ADV\n",
      "发行   VERB\n",
      "。   PUNCT\n",
      "此次   DET\n",
      "债券   NOUN\n",
      "发行   VERB\n",
      "是   VERB\n",
      "国家   NOUN\n",
      "管网   NOUN\n",
      "集团   NOUN\n",
      "成立   VERB\n",
      "后   PART\n",
      "首次   ADV\n",
      "在   ADP\n",
      "公开   ADJ\n",
      "市场   NOUN\n",
      "亮相   VERB\n",
      "，   PUNCT\n",
      "由   ADP\n",
      "工商   NOUN\n",
      "银行   NOUN\n",
      "独家   ADV\n",
      "承销   VERB\n",
      "，   PUNCT\n",
      "发行   NOUN\n",
      "金额   NOUN\n",
      "60亿   NUM\n",
      "元   NUM\n",
      "、   PUNCT\n",
      "期限   NOUN\n",
      "270   NUM\n",
      "天   NUM\n",
      "，   PUNCT\n",
      "为   ADP\n",
      "本   DET\n",
      "年度   NOUN\n",
      "单笔   NOUN\n",
      "最   ADV\n",
      "大   ADJ\n",
      "金额   NOUN\n",
      "绿色   ADJ\n",
      "超短   NOUN\n",
      "期融   NOUN\n",
      "资券   NOUN\n",
      "，   PUNCT\n",
      "募集   NOUN\n",
      "资金   NOUN\n",
      "将   ADV\n",
      "全部   ADV\n",
      "用于   VERB\n",
      "储气库   NOUN\n",
      "等   PART\n",
      "绿色   ADJ\n",
      "低碳   VERB\n",
      "天然气   NOUN\n",
      "储运   NOUN\n",
      "基础   NOUN\n",
      "设施   NOUN\n",
      "建设   NOUN\n",
      "；   PUNCT\n",
      "发行   VERB\n",
      "票面   ADJ\n",
      "利率   NOUN\n",
      "2   NUM\n",
      ".   PUNCT\n",
      "41%   NOUN\n",
      "，   PUNCT\n",
      "认购   NOUN\n",
      "总   ADJ\n",
      "规模   NOUN\n",
      "达   VERB\n",
      "2   NUM\n",
      ".   PUNCT\n",
      "53   NUM\n",
      "倍   NUM\n",
      "，   PUNCT\n",
      "低于   VERB\n",
      "资本   NOUN\n",
      "市场   NOUN\n",
      "同期   NOUN\n",
      "可比   ADV\n",
      "产品   NOUN\n",
      "利率   NOUN\n",
      "超10   VERB\n",
      "个   NUM\n",
      "BP   NOUN\n",
      "，   PUNCT\n",
      "反映   VERB\n",
      "了   PART\n",
      "市场   NOUN\n",
      "对   ADP\n",
      "绿色   ADJ\n",
      "基础   NOUN\n",
      "设施   NOUN\n",
      "建设   NOUN\n",
      "项目   NOUN\n",
      "的   PART\n",
      "青睐   NOUN\n",
      "。   PUNCT\n"
     ]
    }
   ],
   "source": [
    "for token in doc1:\n",
    "    print(token.text, ' ', token.pos_)"
   ]
  },
  {
   "cell_type": "markdown",
   "metadata": {},
   "source": [
    "## python网络爬虫与文本分析 \n",
    "\n",
    "课程链接https://m.qlchat.com/wechat/page/channel-intro?channelId=2000015158133596\n",
    "\n",
    "每邀请一位学员，返现150元。"
   ]
  }
 ],
 "metadata": {
  "kernelspec": {
   "display_name": "Python 3",
   "language": "python",
   "name": "python3"
  },
  "language_info": {
   "codemirror_mode": {
    "name": "ipython",
    "version": 3
   },
   "file_extension": ".py",
   "mimetype": "text/x-python",
   "name": "python",
   "nbconvert_exporter": "python",
   "pygments_lexer": "ipython3",
   "version": "3.7.5"
  },
  "toc": {
   "base_numbering": 1,
   "nav_menu": {},
   "number_sections": false,
   "sideBar": true,
   "skip_h1_title": false,
   "title_cell": "Table of Contents",
   "title_sidebar": "Contents",
   "toc_cell": false,
   "toc_position": {},
   "toc_section_display": true,
   "toc_window_display": true
  }
 },
 "nbformat": 4,
 "nbformat_minor": 4
}
