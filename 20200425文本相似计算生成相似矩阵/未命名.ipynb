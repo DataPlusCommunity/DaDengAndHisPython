{
 "cells": [
  {
   "cell_type": "markdown",
   "metadata": {},
   "source": [
    "今天要计算texts中两两文本计算相似性，生成texts对应的相似矩阵。我们需要先将text转为为向量，texts转化后就是文档-词频矩阵。"
   ]
  },
  {
   "cell_type": "code",
   "execution_count": 4,
   "metadata": {},
   "outputs": [
    {
     "data": {
      "text/plain": [
       "['吃着火锅唱着歌，突然失业了怎么办？',\n",
       " '北京今年高考外语口试取消!外语口试费用将全额退还',\n",
       " '北京取消外语口试到底怎么回事？',\n",
       " '最新：今年北京市统一高考外语口试不再举行',\n",
       " '北京市取消2020年高考外语口试',\n",
       " '先上岗、再考证！2020年上半年中小学教师资格考试推迟',\n",
       " '上万个公司都在用的机器学习服务SageMaker，AWS宣布要在中国推出了']"
      ]
     },
     "execution_count": 4,
     "metadata": {},
     "output_type": "execute_result"
    }
   ],
   "source": [
    "texts = ['吃着火锅唱着歌，突然失业了怎么办？',\n",
    "        '北京今年高考外语口试取消!外语口试费用将全额退还',\n",
    "        '北京取消外语口试到底怎么回事？',\n",
    "        '最新：今年北京市统一高考外语口试不再举行',\n",
    "        '北京市取消2020年高考外语口试',\n",
    "        '先上岗、再考证！2020年上半年中小学教师资格考试推迟',\n",
    "        '上万个公司都在用的机器学习服务SageMaker，AWS宣布要在中国推出了']\n",
    "\n",
    "\n",
    "texts"
   ]
  },
  {
   "cell_type": "markdown",
   "metadata": {},
   "source": [
    "### 中文语料准备\n",
    "现在有texts，希望将其变成文档词频矩阵，已知有scikit-learn机器学习库可以将英文语料转化为文档词频矩阵。\n",
    "\n",
    "但并不能直接使用scikit-learn，我们一定要先将中文转为成 **类英文形态** ，即词语之间用空格间隔。\n",
    "\n",
    "转化代码如下"
   ]
  },
  {
   "cell_type": "code",
   "execution_count": 5,
   "metadata": {},
   "outputs": [
    {
     "name": "stderr",
     "output_type": "stream",
     "text": [
      "Building prefix dict from the default dictionary ...\n",
      "Dumping model to file cache /var/folders/sc/3mnt5tgs419_hk7s16gq61p80000gn/T/jieba.cache\n",
      "Loading model cost 0.768 seconds.\n",
      "Prefix dict has been built successfully.\n"
     ]
    },
    {
     "data": {
      "text/plain": [
       "['吃 着 火锅 唱着歌 ， 突然 失业 了 怎么办 ？',\n",
       " '北京 今年 高考 外语 口试 取消 ! 外语 口试 费用 将 全额 退还',\n",
       " '北京 取消 外语 口试 到底 怎么回事 ？',\n",
       " '最新 ： 今年 北京市 统一 高考 外语 口试 不再 举行',\n",
       " '北京市 取消 2020 年 高考 外语 口试',\n",
       " '先 上岗 、 再 考证 ！ 2020 年 上半年 中小学 教师资格 考试 推迟',\n",
       " '上万个 公司 都 在 用 的 机器 学习 服务 SageMaker ， AWS 宣布 要 在 中国 推出 了']"
      ]
     },
     "execution_count": 5,
     "metadata": {},
     "output_type": "execute_result"
    }
   ],
   "source": [
    "import jieba\n",
    "\n",
    "corpus = [' '.join(jieba.lcut(text)) \n",
    "          for text in texts]\n",
    "\n",
    "\n",
    "corpus"
   ]
  },
  {
   "cell_type": "markdown",
   "metadata": {},
   "source": [
    "### 生成文档词频矩阵\n",
    "有了符合scikit-learn输入要求的数据格式，我们就可以很方便的将语料数据转化为中文文档词频矩阵(doc-term-matrix)。\n",
    "\n",
    "有两种统计词频的方法\n",
    "- TfidfVectorizer\n",
    "- CountVectorizer\n",
    "\n",
    "一般情况下用TfidfVectorizer，关于两者区别大家有精力去看一下这篇。\n",
    "\n",
    "### [如何从文本中提取特征信息？](https://mp.weixin.qq.com/s?__biz=MzI1MTE2ODg4MA==&mid=2650068998&idx=1&sn=af10c62d945129c92e9cf6d99f02ae3f&chksm=f1f76919c680e00f7e85b05f0ac223c4f09e2c47d45968736c6d01ed0e763fa5142869327062&token=1871668379&lang=zh_CN#rd)"
   ]
  },
  {
   "cell_type": "code",
   "execution_count": 6,
   "metadata": {},
   "outputs": [
    {
     "data": {
      "text/plain": [
       "<7x39 sparse matrix of type '<class 'numpy.float64'>'\n",
       "\twith 53 stored elements in Compressed Sparse Row format>"
      ]
     },
     "execution_count": 6,
     "metadata": {},
     "output_type": "execute_result"
    }
   ],
   "source": [
    "from sklearn.feature_extraction.text import TfidfVectorizer\n",
    "\n",
    "tfidf = TfidfVectorizer()\n",
    "#dtm(doc-term-matrix)\n",
    "dtm = tfidf.fit_transform(corpus)\n",
    "dtm"
   ]
  },
  {
   "cell_type": "markdown",
   "metadata": {},
   "source": [
    "dtm是一个形状为``7*39``矩阵\n",
    "\n",
    "- 7  文档数（文本数）\n",
    "- 39 词语数（语料中涉及到的词语数）"
   ]
  },
  {
   "cell_type": "markdown",
   "metadata": {},
   "source": [
    "这里我们看一下tfidf一共发现了39个词，分别是"
   ]
  },
  {
   "cell_type": "code",
   "execution_count": 13,
   "metadata": {},
   "outputs": [
    {
     "name": "stdout",
     "output_type": "stream",
     "text": [
      "['2020', 'aws', 'sagemaker', '上万个', '上半年', '上岗', '不再', '中国', '中小学', '举行', '今年', '全额', '公司', '到底', '北京', '北京市', '取消', '口试', '唱着歌', '外语', '失业', '学习', '宣布', '怎么办', '怎么回事', '推出', '推迟', '教师资格', '最新', '服务', '机器', '火锅', '突然', '统一', '考证', '考试', '费用', '退还', '高考']\n"
     ]
    }
   ],
   "source": [
    "feature_words = tfidf.get_feature_names()\n",
    "print(feature_words)"
   ]
  },
  {
   "cell_type": "markdown",
   "metadata": {},
   "source": [
    "### 计算文本相似矩阵\n",
    "现在已经可以确定，我们已经拥有了文档-词频矩阵，\n",
    "\n",
    "```python\n",
    "from sklearn.metrics.pairwise import cosine_similarity, pairwise_distances\n",
    "```\n",
    "接下来我们要计算出``7*7``文档相似矩阵（这里我们的测试文本有7条）。"
   ]
  },
  {
   "cell_type": "code",
   "execution_count": 30,
   "metadata": {},
   "outputs": [
    {
     "name": "stdout",
     "output_type": "stream",
     "text": [
      "(7, 7)\n",
      "\n",
      "[[1.         0.         0.         0.         0.         0.\n",
      "  0.        ]\n",
      " [0.         1.         0.4698711  0.362457   0.49069644 0.\n",
      "  0.        ]\n",
      " [0.         0.4698711  1.         0.14816366 0.35816398 0.\n",
      "  0.        ]\n",
      " [0.         0.362457   0.14816366 1.         0.42708997 0.\n",
      "  0.        ]\n",
      " [0.         0.49069644 0.35816398 0.42708997 1.         0.14014411\n",
      "  0.        ]\n",
      " [0.         0.         0.         0.         0.14014411 1.\n",
      "  0.        ]\n",
      " [0.         0.         0.         0.         0.         0.\n",
      "  1.        ]]\n"
     ]
    }
   ],
   "source": [
    "from sklearn.metrics.pairwise import cosine_similarity, pairwise_distances\n",
    "\n",
    "cos_sim_matrix = cosine_similarity(dtm)\n",
    "\n",
    "#相似矩阵形状\n",
    "print(cos_sim_matrix.shape)\n",
    "print()\n",
    "print(cos_sim_matrix)"
   ]
  },
  {
   "cell_type": "code",
   "execution_count": 31,
   "metadata": {},
   "outputs": [
    {
     "name": "stdout",
     "output_type": "stream",
     "text": [
      "(7, 7)\n",
      "\n",
      "[[0.         1.41421356 1.41421356 1.41421356 1.41421356 1.41421356\n",
      "  1.41421356]\n",
      " [1.41421356 0.         1.02968821 1.12919706 1.00926068 1.41421356\n",
      "  1.41421356]\n",
      " [1.41421356 1.02968821 0.         1.30524813 1.13299252 1.41421356\n",
      "  1.41421356]\n",
      " [1.41421356 1.12919706 1.30524813 0.         1.07042985 1.41421356\n",
      "  1.41421356]\n",
      " [1.41421356 1.00926068 1.13299252 1.07042985 0.         1.31137782\n",
      "  1.41421356]\n",
      " [1.41421356 1.41421356 1.41421356 1.41421356 1.31137782 0.\n",
      "  1.41421356]\n",
      " [1.41421356 1.41421356 1.41421356 1.41421356 1.41421356 1.41421356\n",
      "  0.        ]]\n"
     ]
    }
   ],
   "source": [
    "pairwise_sim_matrix = pairwise_distances(dtm)\n",
    "\n",
    "print(pairwise_sim_matrix.shape)\n",
    "print()\n",
    "print(pairwise_sim_matrix)"
   ]
  },
  {
   "cell_type": "markdown",
   "metadata": {},
   "source": [
    "pairwise_distances方法是 cosine_similarity减1后取绝对值得到的。"
   ]
  },
  {
   "cell_type": "markdown",
   "metadata": {},
   "source": [
    "### 将相似矩阵存到txt中\n",
    "计算得到的cos_sim_matrix和pairwise_sim_matrix是numpy中的array数据类型，可以使用numpy.savetxt函数将矩阵信息存储到txt中。\n",
    "\n",
    "当然到这一步，也可以想办法存到别的文件格式中"
   ]
  },
  {
   "cell_type": "code",
   "execution_count": 24,
   "metadata": {},
   "outputs": [],
   "source": [
    "import numpy as np\n",
    "\n",
    "np.savetxt('cos_sim_matrix.txt', cos_sim_matrix)\n",
    "np.savetxt('pairwise_sim_matrix.txt', pairwise_sim_matrix)"
   ]
  },
  {
   "cell_type": "markdown",
   "metadata": {},
   "source": [
    "### 读取txt中的相似矩阵\n",
    "如果后续需要在python中分析，可能需要用到数据读取。"
   ]
  },
  {
   "cell_type": "code",
   "execution_count": 32,
   "metadata": {},
   "outputs": [
    {
     "data": {
      "text/plain": [
       "array([[1.        , 0.        , 0.        , 0.        , 0.        ,\n",
       "        0.        , 0.        ],\n",
       "       [0.        , 1.        , 0.4698711 , 0.362457  , 0.49069644,\n",
       "        0.        , 0.        ],\n",
       "       [0.        , 0.4698711 , 1.        , 0.14816366, 0.35816398,\n",
       "        0.        , 0.        ],\n",
       "       [0.        , 0.362457  , 0.14816366, 1.        , 0.42708997,\n",
       "        0.        , 0.        ],\n",
       "       [0.        , 0.49069644, 0.35816398, 0.42708997, 1.        ,\n",
       "        0.14014411, 0.        ],\n",
       "       [0.        , 0.        , 0.        , 0.        , 0.14014411,\n",
       "        1.        , 0.        ],\n",
       "       [0.        , 0.        , 0.        , 0.        , 0.        ,\n",
       "        0.        , 1.        ]])"
      ]
     },
     "execution_count": 32,
     "metadata": {},
     "output_type": "execute_result"
    }
   ],
   "source": [
    "import numpy as np\n",
    "\n",
    "matrix = np.loadtxt('cos_sim_matrix.txt')\n",
    "matrix"
   ]
  }
 ],
 "metadata": {
  "kernelspec": {
   "display_name": "Python 3",
   "language": "python",
   "name": "python3"
  },
  "language_info": {
   "codemirror_mode": {
    "name": "ipython",
    "version": 3
   },
   "file_extension": ".py",
   "mimetype": "text/x-python",
   "name": "python",
   "nbconvert_exporter": "python",
   "pygments_lexer": "ipython3",
   "version": "3.7.5"
  },
  "toc": {
   "base_numbering": 1,
   "nav_menu": {},
   "number_sections": false,
   "sideBar": true,
   "skip_h1_title": false,
   "title_cell": "Table of Contents",
   "title_sidebar": "Contents",
   "toc_cell": false,
   "toc_position": {},
   "toc_section_display": true,
   "toc_window_display": true
  },
  "varInspector": {
   "cols": {
    "lenName": 16,
    "lenType": 16,
    "lenVar": 40
   },
   "kernels_config": {
    "python": {
     "delete_cmd_postfix": "",
     "delete_cmd_prefix": "del ",
     "library": "var_list.py",
     "varRefreshCmd": "print(var_dic_list())"
    },
    "r": {
     "delete_cmd_postfix": ") ",
     "delete_cmd_prefix": "rm(",
     "library": "var_list.r",
     "varRefreshCmd": "cat(var_dic_list()) "
    }
   },
   "types_to_exclude": [
    "module",
    "function",
    "builtin_function_or_method",
    "instance",
    "_Feature"
   ],
   "window_display": false
  }
 },
 "nbformat": 4,
 "nbformat_minor": 4
}
