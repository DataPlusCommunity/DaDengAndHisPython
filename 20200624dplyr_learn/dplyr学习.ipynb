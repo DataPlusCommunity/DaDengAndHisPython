{
 "cells": [
  {
   "cell_type": "markdown",
   "metadata": {},
   "source": [
    "# 1. dplyr简介\n",
    "dplyr是R语言的数据分析包，类似于python中的pandas，能对dataframe类型的数据做很方便的数据处理和分析操作。最初我也很奇怪dplyr这个奇怪的名字，我查到其中一种解释 - d代表dataframe - plyr是英文钳子plier的谐音\n",
    "\n",
    "dplyr如同R的大多数包，都是函数式编程，这点跟Python面向对象编程区别很大。优点是初学者比较容易接受这种函数式思维，有点类似于流水线，每个函数就是一个车间，多个车间共同完成一个生产（数据分析）任务。\n",
    "\n",
    "而在dplyr中，就有一个管道符 %>% ，符号左侧表示数据的输入，右侧表示下游数据处理环节。"
   ]
  },
  {
   "cell_type": "markdown",
   "metadata": {},
   "source": [
    "# 2. 安装并导入dplyr库\n",
    "pacman库的p_load函数功能包含了 \n",
    "1. install.packages(“dplyr”) \n",
    "2. library(dplyr) \n",
    "\n",
    "该写法更简单易用\n",
    "\n"
   ]
  },
  {
   "cell_type": "code",
   "execution_count": 1,
   "metadata": {},
   "outputs": [],
   "source": [
    "pacman::p_load(\"dplyr\")"
   ]
  },
  {
   "cell_type": "markdown",
   "metadata": {},
   "source": [
    "# 3. 读取数据"
   ]
  },
  {
   "cell_type": "code",
   "execution_count": 3,
   "metadata": {},
   "outputs": [
    {
     "data": {
      "text/html": [
       "<table>\n",
       "<caption>A tibble: 6 × 6</caption>\n",
       "<thead>\n",
       "\t<tr><th scope=col>Date</th><th scope=col>Open</th><th scope=col>High</th><th scope=col>Low</th><th scope=col>Close</th><th scope=col>Volume</th></tr>\n",
       "\t<tr><th scope=col>&lt;chr&gt;</th><th scope=col>&lt;dbl&gt;</th><th scope=col>&lt;dbl&gt;</th><th scope=col>&lt;dbl&gt;</th><th scope=col>&lt;dbl&gt;</th><th scope=col>&lt;int&gt;</th></tr>\n",
       "</thead>\n",
       "<tbody>\n",
       "\t<tr><td>7-Jul-17 </td><td>142.90</td><td>144.75</td><td>142.90</td><td>144.18</td><td>19201712</td></tr>\n",
       "\t<tr><td>6-Jul-17 </td><td>143.02</td><td>143.50</td><td>142.41</td><td>142.73</td><td>24128782</td></tr>\n",
       "\t<tr><td>5-Jul-17 </td><td>143.69</td><td>144.79</td><td>142.72</td><td>144.09</td><td>21569557</td></tr>\n",
       "\t<tr><td>3-Jul-17 </td><td>144.88</td><td>145.30</td><td>143.10</td><td>143.50</td><td>14277848</td></tr>\n",
       "\t<tr><td>30-Jun-17</td><td>144.45</td><td>144.96</td><td>143.78</td><td>144.02</td><td>23024107</td></tr>\n",
       "\t<tr><td>29-Jun-17</td><td>144.71</td><td>145.13</td><td>142.28</td><td>143.68</td><td>31499368</td></tr>\n",
       "</tbody>\n",
       "</table>\n"
      ],
      "text/latex": [
       "A tibble: 6 × 6\n",
       "\\begin{tabular}{llllll}\n",
       " Date & Open & High & Low & Close & Volume\\\\\n",
       " <chr> & <dbl> & <dbl> & <dbl> & <dbl> & <int>\\\\\n",
       "\\hline\n",
       "\t 7-Jul-17  & 142.90 & 144.75 & 142.90 & 144.18 & 19201712\\\\\n",
       "\t 6-Jul-17  & 143.02 & 143.50 & 142.41 & 142.73 & 24128782\\\\\n",
       "\t 5-Jul-17  & 143.69 & 144.79 & 142.72 & 144.09 & 21569557\\\\\n",
       "\t 3-Jul-17  & 144.88 & 145.30 & 143.10 & 143.50 & 14277848\\\\\n",
       "\t 30-Jun-17 & 144.45 & 144.96 & 143.78 & 144.02 & 23024107\\\\\n",
       "\t 29-Jun-17 & 144.71 & 145.13 & 142.28 & 143.68 & 31499368\\\\\n",
       "\\end{tabular}\n"
      ],
      "text/markdown": [
       "\n",
       "A tibble: 6 × 6\n",
       "\n",
       "| Date &lt;chr&gt; | Open &lt;dbl&gt; | High &lt;dbl&gt; | Low &lt;dbl&gt; | Close &lt;dbl&gt; | Volume &lt;int&gt; |\n",
       "|---|---|---|---|---|---|\n",
       "| 7-Jul-17  | 142.90 | 144.75 | 142.90 | 144.18 | 19201712 |\n",
       "| 6-Jul-17  | 143.02 | 143.50 | 142.41 | 142.73 | 24128782 |\n",
       "| 5-Jul-17  | 143.69 | 144.79 | 142.72 | 144.09 | 21569557 |\n",
       "| 3-Jul-17  | 144.88 | 145.30 | 143.10 | 143.50 | 14277848 |\n",
       "| 30-Jun-17 | 144.45 | 144.96 | 143.78 | 144.02 | 23024107 |\n",
       "| 29-Jun-17 | 144.71 | 145.13 | 142.28 | 143.68 | 31499368 |\n",
       "\n"
      ],
      "text/plain": [
       "  Date      Open   High   Low    Close  Volume  \n",
       "1 7-Jul-17  142.90 144.75 142.90 144.18 19201712\n",
       "2 6-Jul-17  143.02 143.50 142.41 142.73 24128782\n",
       "3 5-Jul-17  143.69 144.79 142.72 144.09 21569557\n",
       "4 3-Jul-17  144.88 145.30 143.10 143.50 14277848\n",
       "5 30-Jun-17 144.45 144.96 143.78 144.02 23024107\n",
       "6 29-Jun-17 144.71 145.13 142.28 143.68 31499368"
      ]
     },
     "metadata": {},
     "output_type": "display_data"
    }
   ],
   "source": [
    "#设置工作目录\n",
    "setwd(\"/Users/thunderhit/Desktop/dplyr_learn\")\n",
    "\n",
    "#导入csv数据\n",
    "aapl <- read.csv('aapl.csv', \n",
    "                 header=TRUE,\n",
    "                 sep=',',\n",
    "                 stringsAsFactors = FALSE) %>% as_tibble()\n",
    "head(aapl)"
   ]
  },
  {
   "cell_type": "markdown",
   "metadata": {},
   "source": [
    "查看数据类型"
   ]
  },
  {
   "cell_type": "code",
   "execution_count": 4,
   "metadata": {},
   "outputs": [
    {
     "data": {
      "text/html": [
       "<style>\n",
       ".list-inline {list-style: none; margin:0; padding: 0}\n",
       ".list-inline>li {display: inline-block}\n",
       ".list-inline>li:not(:last-child)::after {content: \"\\00b7\"; padding: 0 .5ex}\n",
       "</style>\n",
       "<ol class=list-inline><li>'tbl_df'</li><li>'tbl'</li><li>'data.frame'</li></ol>\n"
      ],
      "text/latex": [
       "\\begin{enumerate*}\n",
       "\\item 'tbl\\_df'\n",
       "\\item 'tbl'\n",
       "\\item 'data.frame'\n",
       "\\end{enumerate*}\n"
      ],
      "text/markdown": [
       "1. 'tbl_df'\n",
       "2. 'tbl'\n",
       "3. 'data.frame'\n",
       "\n",
       "\n"
      ],
      "text/plain": [
       "[1] \"tbl_df\"     \"tbl\"        \"data.frame\""
      ]
     },
     "metadata": {},
     "output_type": "display_data"
    }
   ],
   "source": [
    "class(aapl)"
   ]
  },
  {
   "cell_type": "markdown",
   "metadata": {},
   "source": [
    "查看数据的字段"
   ]
  },
  {
   "cell_type": "code",
   "execution_count": 5,
   "metadata": {},
   "outputs": [
    {
     "data": {
      "text/html": [
       "<style>\n",
       ".list-inline {list-style: none; margin:0; padding: 0}\n",
       ".list-inline>li {display: inline-block}\n",
       ".list-inline>li:not(:last-child)::after {content: \"\\00b7\"; padding: 0 .5ex}\n",
       "</style>\n",
       "<ol class=list-inline><li>'Date'</li><li>'Open'</li><li>'High'</li><li>'Low'</li><li>'Close'</li><li>'Volume'</li></ol>\n"
      ],
      "text/latex": [
       "\\begin{enumerate*}\n",
       "\\item 'Date'\n",
       "\\item 'Open'\n",
       "\\item 'High'\n",
       "\\item 'Low'\n",
       "\\item 'Close'\n",
       "\\item 'Volume'\n",
       "\\end{enumerate*}\n"
      ],
      "text/markdown": [
       "1. 'Date'\n",
       "2. 'Open'\n",
       "3. 'High'\n",
       "4. 'Low'\n",
       "5. 'Close'\n",
       "6. 'Volume'\n",
       "\n",
       "\n"
      ],
      "text/plain": [
       "[1] \"Date\"   \"Open\"   \"High\"   \"Low\"    \"Close\"  \"Volume\""
      ]
     },
     "metadata": {},
     "output_type": "display_data"
    }
   ],
   "source": [
    "colnames(aapl)"
   ]
  },
  {
   "cell_type": "markdown",
   "metadata": {},
   "source": [
    "查看记录数、字段数"
   ]
  },
  {
   "cell_type": "code",
   "execution_count": 6,
   "metadata": {},
   "outputs": [
    {
     "data": {
      "text/html": [
       "<style>\n",
       ".list-inline {list-style: none; margin:0; padding: 0}\n",
       ".list-inline>li {display: inline-block}\n",
       ".list-inline>li:not(:last-child)::after {content: \"\\00b7\"; padding: 0 .5ex}\n",
       "</style>\n",
       "<ol class=list-inline><li>251</li><li>6</li></ol>\n"
      ],
      "text/latex": [
       "\\begin{enumerate*}\n",
       "\\item 251\n",
       "\\item 6\n",
       "\\end{enumerate*}\n"
      ],
      "text/markdown": [
       "1. 251\n",
       "2. 6\n",
       "\n",
       "\n"
      ],
      "text/plain": [
       "[1] 251   6"
      ]
     },
     "metadata": {},
     "output_type": "display_data"
    }
   ],
   "source": [
    "dim(aapl)"
   ]
  },
  {
   "cell_type": "markdown",
   "metadata": {},
   "source": [
    "# 4. dplyr常用函数\n",
    "## 4.1 Arrange\n",
    "对appl数据按照字段Volume进行降序排序"
   ]
  },
  {
   "cell_type": "code",
   "execution_count": 8,
   "metadata": {},
   "outputs": [
    {
     "data": {
      "text/html": [
       "<table>\n",
       "<caption>A tibble: 6 × 6</caption>\n",
       "<thead>\n",
       "\t<tr><th scope=col>Date</th><th scope=col>Open</th><th scope=col>High</th><th scope=col>Low</th><th scope=col>Close</th><th scope=col>Volume</th></tr>\n",
       "\t<tr><th scope=col>&lt;chr&gt;</th><th scope=col>&lt;dbl&gt;</th><th scope=col>&lt;dbl&gt;</th><th scope=col>&lt;dbl&gt;</th><th scope=col>&lt;dbl&gt;</th><th scope=col>&lt;int&gt;</th></tr>\n",
       "</thead>\n",
       "<tbody>\n",
       "\t<tr><td>14-Sep-16</td><td>108.73</td><td>113.03</td><td>108.60</td><td>111.77</td><td>112340318</td></tr>\n",
       "\t<tr><td>1-Feb-17 </td><td>127.03</td><td>130.49</td><td>127.01</td><td>128.75</td><td>111985040</td></tr>\n",
       "\t<tr><td>27-Jul-16</td><td>104.26</td><td>104.35</td><td>102.75</td><td>102.95</td><td> 92344820</td></tr>\n",
       "\t<tr><td>15-Sep-16</td><td>113.86</td><td>115.73</td><td>113.49</td><td>115.57</td><td> 90613177</td></tr>\n",
       "\t<tr><td>16-Sep-16</td><td>115.12</td><td>116.13</td><td>114.04</td><td>114.92</td><td> 79886911</td></tr>\n",
       "\t<tr><td>12-Jun-17</td><td>145.74</td><td>146.09</td><td>142.51</td><td>145.42</td><td> 72307330</td></tr>\n",
       "</tbody>\n",
       "</table>\n"
      ],
      "text/latex": [
       "A tibble: 6 × 6\n",
       "\\begin{tabular}{llllll}\n",
       " Date & Open & High & Low & Close & Volume\\\\\n",
       " <chr> & <dbl> & <dbl> & <dbl> & <dbl> & <int>\\\\\n",
       "\\hline\n",
       "\t 14-Sep-16 & 108.73 & 113.03 & 108.60 & 111.77 & 112340318\\\\\n",
       "\t 1-Feb-17  & 127.03 & 130.49 & 127.01 & 128.75 & 111985040\\\\\n",
       "\t 27-Jul-16 & 104.26 & 104.35 & 102.75 & 102.95 &  92344820\\\\\n",
       "\t 15-Sep-16 & 113.86 & 115.73 & 113.49 & 115.57 &  90613177\\\\\n",
       "\t 16-Sep-16 & 115.12 & 116.13 & 114.04 & 114.92 &  79886911\\\\\n",
       "\t 12-Jun-17 & 145.74 & 146.09 & 142.51 & 145.42 &  72307330\\\\\n",
       "\\end{tabular}\n"
      ],
      "text/markdown": [
       "\n",
       "A tibble: 6 × 6\n",
       "\n",
       "| Date &lt;chr&gt; | Open &lt;dbl&gt; | High &lt;dbl&gt; | Low &lt;dbl&gt; | Close &lt;dbl&gt; | Volume &lt;int&gt; |\n",
       "|---|---|---|---|---|---|\n",
       "| 14-Sep-16 | 108.73 | 113.03 | 108.60 | 111.77 | 112340318 |\n",
       "| 1-Feb-17  | 127.03 | 130.49 | 127.01 | 128.75 | 111985040 |\n",
       "| 27-Jul-16 | 104.26 | 104.35 | 102.75 | 102.95 |  92344820 |\n",
       "| 15-Sep-16 | 113.86 | 115.73 | 113.49 | 115.57 |  90613177 |\n",
       "| 16-Sep-16 | 115.12 | 116.13 | 114.04 | 114.92 |  79886911 |\n",
       "| 12-Jun-17 | 145.74 | 146.09 | 142.51 | 145.42 |  72307330 |\n",
       "\n"
      ],
      "text/plain": [
       "  Date      Open   High   Low    Close  Volume   \n",
       "1 14-Sep-16 108.73 113.03 108.60 111.77 112340318\n",
       "2 1-Feb-17  127.03 130.49 127.01 128.75 111985040\n",
       "3 27-Jul-16 104.26 104.35 102.75 102.95  92344820\n",
       "4 15-Sep-16 113.86 115.73 113.49 115.57  90613177\n",
       "5 16-Sep-16 115.12 116.13 114.04 114.92  79886911\n",
       "6 12-Jun-17 145.74 146.09 142.51 145.42  72307330"
      ]
     },
     "metadata": {},
     "output_type": "display_data"
    }
   ],
   "source": [
    "arrange(aapl, -Volume)"
   ]
  },
  {
   "cell_type": "markdown",
   "metadata": {},
   "source": [
    "我们也可以用管道符 %>% ，两种写法得到的运行结果是一致的，可能用久了会觉得管道符 %>% 可读性更强，后面我们都会用 %>% 来写代码。"
   ]
  },
  {
   "cell_type": "code",
   "execution_count": 9,
   "metadata": {},
   "outputs": [
    {
     "data": {
      "text/html": [
       "<table>\n",
       "<caption>A tibble: 6 × 6</caption>\n",
       "<thead>\n",
       "\t<tr><th scope=col>Date</th><th scope=col>Open</th><th scope=col>High</th><th scope=col>Low</th><th scope=col>Close</th><th scope=col>Volume</th></tr>\n",
       "\t<tr><th scope=col>&lt;chr&gt;</th><th scope=col>&lt;dbl&gt;</th><th scope=col>&lt;dbl&gt;</th><th scope=col>&lt;dbl&gt;</th><th scope=col>&lt;dbl&gt;</th><th scope=col>&lt;int&gt;</th></tr>\n",
       "</thead>\n",
       "<tbody>\n",
       "\t<tr><td>14-Sep-16</td><td>108.73</td><td>113.03</td><td>108.60</td><td>111.77</td><td>112340318</td></tr>\n",
       "\t<tr><td>1-Feb-17 </td><td>127.03</td><td>130.49</td><td>127.01</td><td>128.75</td><td>111985040</td></tr>\n",
       "\t<tr><td>27-Jul-16</td><td>104.26</td><td>104.35</td><td>102.75</td><td>102.95</td><td> 92344820</td></tr>\n",
       "\t<tr><td>15-Sep-16</td><td>113.86</td><td>115.73</td><td>113.49</td><td>115.57</td><td> 90613177</td></tr>\n",
       "\t<tr><td>16-Sep-16</td><td>115.12</td><td>116.13</td><td>114.04</td><td>114.92</td><td> 79886911</td></tr>\n",
       "\t<tr><td>12-Jun-17</td><td>145.74</td><td>146.09</td><td>142.51</td><td>145.42</td><td> 72307330</td></tr>\n",
       "</tbody>\n",
       "</table>\n"
      ],
      "text/latex": [
       "A tibble: 6 × 6\n",
       "\\begin{tabular}{llllll}\n",
       " Date & Open & High & Low & Close & Volume\\\\\n",
       " <chr> & <dbl> & <dbl> & <dbl> & <dbl> & <int>\\\\\n",
       "\\hline\n",
       "\t 14-Sep-16 & 108.73 & 113.03 & 108.60 & 111.77 & 112340318\\\\\n",
       "\t 1-Feb-17  & 127.03 & 130.49 & 127.01 & 128.75 & 111985040\\\\\n",
       "\t 27-Jul-16 & 104.26 & 104.35 & 102.75 & 102.95 &  92344820\\\\\n",
       "\t 15-Sep-16 & 113.86 & 115.73 & 113.49 & 115.57 &  90613177\\\\\n",
       "\t 16-Sep-16 & 115.12 & 116.13 & 114.04 & 114.92 &  79886911\\\\\n",
       "\t 12-Jun-17 & 145.74 & 146.09 & 142.51 & 145.42 &  72307330\\\\\n",
       "\\end{tabular}\n"
      ],
      "text/markdown": [
       "\n",
       "A tibble: 6 × 6\n",
       "\n",
       "| Date &lt;chr&gt; | Open &lt;dbl&gt; | High &lt;dbl&gt; | Low &lt;dbl&gt; | Close &lt;dbl&gt; | Volume &lt;int&gt; |\n",
       "|---|---|---|---|---|---|\n",
       "| 14-Sep-16 | 108.73 | 113.03 | 108.60 | 111.77 | 112340318 |\n",
       "| 1-Feb-17  | 127.03 | 130.49 | 127.01 | 128.75 | 111985040 |\n",
       "| 27-Jul-16 | 104.26 | 104.35 | 102.75 | 102.95 |  92344820 |\n",
       "| 15-Sep-16 | 113.86 | 115.73 | 113.49 | 115.57 |  90613177 |\n",
       "| 16-Sep-16 | 115.12 | 116.13 | 114.04 | 114.92 |  79886911 |\n",
       "| 12-Jun-17 | 145.74 | 146.09 | 142.51 | 145.42 |  72307330 |\n",
       "\n"
      ],
      "text/plain": [
       "  Date      Open   High   Low    Close  Volume   \n",
       "1 14-Sep-16 108.73 113.03 108.60 111.77 112340318\n",
       "2 1-Feb-17  127.03 130.49 127.01 128.75 111985040\n",
       "3 27-Jul-16 104.26 104.35 102.75 102.95  92344820\n",
       "4 15-Sep-16 113.86 115.73 113.49 115.57  90613177\n",
       "5 16-Sep-16 115.12 116.13 114.04 114.92  79886911\n",
       "6 12-Jun-17 145.74 146.09 142.51 145.42  72307330"
      ]
     },
     "metadata": {},
     "output_type": "display_data"
    }
   ],
   "source": [
    "aapl %>% arrange(-Volume)"
   ]
  },
  {
   "cell_type": "markdown",
   "metadata": {},
   "source": [
    "## 4.2 Select\n",
    "选取 Date、Close和Volume三列"
   ]
  },
  {
   "cell_type": "code",
   "execution_count": 10,
   "metadata": {},
   "outputs": [
    {
     "data": {
      "text/html": [
       "<table>\n",
       "<caption>A tibble: 6 × 3</caption>\n",
       "<thead>\n",
       "\t<tr><th scope=col>Date</th><th scope=col>Close</th><th scope=col>Volume</th></tr>\n",
       "\t<tr><th scope=col>&lt;chr&gt;</th><th scope=col>&lt;dbl&gt;</th><th scope=col>&lt;int&gt;</th></tr>\n",
       "</thead>\n",
       "<tbody>\n",
       "\t<tr><td>7-Jul-17 </td><td>144.18</td><td>19201712</td></tr>\n",
       "\t<tr><td>6-Jul-17 </td><td>142.73</td><td>24128782</td></tr>\n",
       "\t<tr><td>5-Jul-17 </td><td>144.09</td><td>21569557</td></tr>\n",
       "\t<tr><td>3-Jul-17 </td><td>143.50</td><td>14277848</td></tr>\n",
       "\t<tr><td>30-Jun-17</td><td>144.02</td><td>23024107</td></tr>\n",
       "\t<tr><td>29-Jun-17</td><td>143.68</td><td>31499368</td></tr>\n",
       "</tbody>\n",
       "</table>\n"
      ],
      "text/latex": [
       "A tibble: 6 × 3\n",
       "\\begin{tabular}{lll}\n",
       " Date & Close & Volume\\\\\n",
       " <chr> & <dbl> & <int>\\\\\n",
       "\\hline\n",
       "\t 7-Jul-17  & 144.18 & 19201712\\\\\n",
       "\t 6-Jul-17  & 142.73 & 24128782\\\\\n",
       "\t 5-Jul-17  & 144.09 & 21569557\\\\\n",
       "\t 3-Jul-17  & 143.50 & 14277848\\\\\n",
       "\t 30-Jun-17 & 144.02 & 23024107\\\\\n",
       "\t 29-Jun-17 & 143.68 & 31499368\\\\\n",
       "\\end{tabular}\n"
      ],
      "text/markdown": [
       "\n",
       "A tibble: 6 × 3\n",
       "\n",
       "| Date &lt;chr&gt; | Close &lt;dbl&gt; | Volume &lt;int&gt; |\n",
       "|---|---|---|\n",
       "| 7-Jul-17  | 144.18 | 19201712 |\n",
       "| 6-Jul-17  | 142.73 | 24128782 |\n",
       "| 5-Jul-17  | 144.09 | 21569557 |\n",
       "| 3-Jul-17  | 143.50 | 14277848 |\n",
       "| 30-Jun-17 | 144.02 | 23024107 |\n",
       "| 29-Jun-17 | 143.68 | 31499368 |\n",
       "\n"
      ],
      "text/plain": [
       "  Date      Close  Volume  \n",
       "1 7-Jul-17  144.18 19201712\n",
       "2 6-Jul-17  142.73 24128782\n",
       "3 5-Jul-17  144.09 21569557\n",
       "4 3-Jul-17  143.50 14277848\n",
       "5 30-Jun-17 144.02 23024107\n",
       "6 29-Jun-17 143.68 31499368"
      ]
     },
     "metadata": {},
     "output_type": "display_data"
    }
   ],
   "source": [
    "aapl %>% select(Date, Close, Volume)"
   ]
  },
  {
   "cell_type": "markdown",
   "metadata": {},
   "source": [
    "只选取Date、Close和Volume三列，其实另外一种表达方式是“排除Open、High、Low，选择剩下的字段的数据”。"
   ]
  },
  {
   "cell_type": "code",
   "execution_count": 11,
   "metadata": {},
   "outputs": [
    {
     "data": {
      "text/html": [
       "<table>\n",
       "<caption>A tibble: 6 × 3</caption>\n",
       "<thead>\n",
       "\t<tr><th scope=col>Date</th><th scope=col>Close</th><th scope=col>Volume</th></tr>\n",
       "\t<tr><th scope=col>&lt;chr&gt;</th><th scope=col>&lt;dbl&gt;</th><th scope=col>&lt;int&gt;</th></tr>\n",
       "</thead>\n",
       "<tbody>\n",
       "\t<tr><td>7-Jul-17 </td><td>144.18</td><td>19201712</td></tr>\n",
       "\t<tr><td>6-Jul-17 </td><td>142.73</td><td>24128782</td></tr>\n",
       "\t<tr><td>5-Jul-17 </td><td>144.09</td><td>21569557</td></tr>\n",
       "\t<tr><td>3-Jul-17 </td><td>143.50</td><td>14277848</td></tr>\n",
       "\t<tr><td>30-Jun-17</td><td>144.02</td><td>23024107</td></tr>\n",
       "\t<tr><td>29-Jun-17</td><td>143.68</td><td>31499368</td></tr>\n",
       "</tbody>\n",
       "</table>\n"
      ],
      "text/latex": [
       "A tibble: 6 × 3\n",
       "\\begin{tabular}{lll}\n",
       " Date & Close & Volume\\\\\n",
       " <chr> & <dbl> & <int>\\\\\n",
       "\\hline\n",
       "\t 7-Jul-17  & 144.18 & 19201712\\\\\n",
       "\t 6-Jul-17  & 142.73 & 24128782\\\\\n",
       "\t 5-Jul-17  & 144.09 & 21569557\\\\\n",
       "\t 3-Jul-17  & 143.50 & 14277848\\\\\n",
       "\t 30-Jun-17 & 144.02 & 23024107\\\\\n",
       "\t 29-Jun-17 & 143.68 & 31499368\\\\\n",
       "\\end{tabular}\n"
      ],
      "text/markdown": [
       "\n",
       "A tibble: 6 × 3\n",
       "\n",
       "| Date &lt;chr&gt; | Close &lt;dbl&gt; | Volume &lt;int&gt; |\n",
       "|---|---|---|\n",
       "| 7-Jul-17  | 144.18 | 19201712 |\n",
       "| 6-Jul-17  | 142.73 | 24128782 |\n",
       "| 5-Jul-17  | 144.09 | 21569557 |\n",
       "| 3-Jul-17  | 143.50 | 14277848 |\n",
       "| 30-Jun-17 | 144.02 | 23024107 |\n",
       "| 29-Jun-17 | 143.68 | 31499368 |\n",
       "\n"
      ],
      "text/plain": [
       "  Date      Close  Volume  \n",
       "1 7-Jul-17  144.18 19201712\n",
       "2 6-Jul-17  142.73 24128782\n",
       "3 5-Jul-17  144.09 21569557\n",
       "4 3-Jul-17  143.50 14277848\n",
       "5 30-Jun-17 144.02 23024107\n",
       "6 29-Jun-17 143.68 31499368"
      ]
     },
     "metadata": {},
     "output_type": "display_data"
    }
   ],
   "source": [
    "aapl %>% select(-c(\"Open\", \"High\", \"Low\")) "
   ]
  },
  {
   "cell_type": "markdown",
   "metadata": {},
   "source": [
    "## 4.3 Filter\n",
    "按照筛选条件选择数据"
   ]
  },
  {
   "cell_type": "code",
   "execution_count": 12,
   "metadata": {},
   "outputs": [
    {
     "data": {
      "text/html": [
       "<table>\n",
       "<caption>A tibble: 6 × 6</caption>\n",
       "<thead>\n",
       "\t<tr><th scope=col>Date</th><th scope=col>Open</th><th scope=col>High</th><th scope=col>Low</th><th scope=col>Close</th><th scope=col>Volume</th></tr>\n",
       "\t<tr><th scope=col>&lt;chr&gt;</th><th scope=col>&lt;dbl&gt;</th><th scope=col>&lt;dbl&gt;</th><th scope=col>&lt;dbl&gt;</th><th scope=col>&lt;dbl&gt;</th><th scope=col>&lt;int&gt;</th></tr>\n",
       "</thead>\n",
       "<tbody>\n",
       "\t<tr><td>8-Jun-17</td><td>155.25</td><td>155.54</td><td>154.40</td><td>154.99</td><td>21250798</td></tr>\n",
       "\t<tr><td>7-Jun-17</td><td>155.02</td><td>155.98</td><td>154.48</td><td>155.37</td><td>21069647</td></tr>\n",
       "\t<tr><td>6-Jun-17</td><td>153.90</td><td>155.81</td><td>153.78</td><td>154.45</td><td>26624926</td></tr>\n",
       "\t<tr><td>5-Jun-17</td><td>154.34</td><td>154.45</td><td>153.46</td><td>153.93</td><td>25331662</td></tr>\n",
       "\t<tr><td>2-Jun-17</td><td>153.58</td><td>155.45</td><td>152.89</td><td>155.45</td><td>27770715</td></tr>\n",
       "\t<tr><td>1-Jun-17</td><td>153.17</td><td>153.33</td><td>152.22</td><td>153.18</td><td>16404088</td></tr>\n",
       "</tbody>\n",
       "</table>\n"
      ],
      "text/latex": [
       "A tibble: 6 × 6\n",
       "\\begin{tabular}{llllll}\n",
       " Date & Open & High & Low & Close & Volume\\\\\n",
       " <chr> & <dbl> & <dbl> & <dbl> & <dbl> & <int>\\\\\n",
       "\\hline\n",
       "\t 8-Jun-17 & 155.25 & 155.54 & 154.40 & 154.99 & 21250798\\\\\n",
       "\t 7-Jun-17 & 155.02 & 155.98 & 154.48 & 155.37 & 21069647\\\\\n",
       "\t 6-Jun-17 & 153.90 & 155.81 & 153.78 & 154.45 & 26624926\\\\\n",
       "\t 5-Jun-17 & 154.34 & 154.45 & 153.46 & 153.93 & 25331662\\\\\n",
       "\t 2-Jun-17 & 153.58 & 155.45 & 152.89 & 155.45 & 27770715\\\\\n",
       "\t 1-Jun-17 & 153.17 & 153.33 & 152.22 & 153.18 & 16404088\\\\\n",
       "\\end{tabular}\n"
      ],
      "text/markdown": [
       "\n",
       "A tibble: 6 × 6\n",
       "\n",
       "| Date &lt;chr&gt; | Open &lt;dbl&gt; | High &lt;dbl&gt; | Low &lt;dbl&gt; | Close &lt;dbl&gt; | Volume &lt;int&gt; |\n",
       "|---|---|---|---|---|---|\n",
       "| 8-Jun-17 | 155.25 | 155.54 | 154.40 | 154.99 | 21250798 |\n",
       "| 7-Jun-17 | 155.02 | 155.98 | 154.48 | 155.37 | 21069647 |\n",
       "| 6-Jun-17 | 153.90 | 155.81 | 153.78 | 154.45 | 26624926 |\n",
       "| 5-Jun-17 | 154.34 | 154.45 | 153.46 | 153.93 | 25331662 |\n",
       "| 2-Jun-17 | 153.58 | 155.45 | 152.89 | 155.45 | 27770715 |\n",
       "| 1-Jun-17 | 153.17 | 153.33 | 152.22 | 153.18 | 16404088 |\n",
       "\n"
      ],
      "text/plain": [
       "  Date     Open   High   Low    Close  Volume  \n",
       "1 8-Jun-17 155.25 155.54 154.40 154.99 21250798\n",
       "2 7-Jun-17 155.02 155.98 154.48 155.37 21069647\n",
       "3 6-Jun-17 153.90 155.81 153.78 154.45 26624926\n",
       "4 5-Jun-17 154.34 154.45 153.46 153.93 25331662\n",
       "5 2-Jun-17 153.58 155.45 152.89 155.45 27770715\n",
       "6 1-Jun-17 153.17 153.33 152.22 153.18 16404088"
      ]
     },
     "metadata": {},
     "output_type": "display_data"
    }
   ],
   "source": [
    "#从数据中选择appl股价大于150美元的交易数据\n",
    "aapl %>% filter(Close>=150) "
   ]
  },
  {
   "cell_type": "markdown",
   "metadata": {},
   "source": [
    "从数据中选择appl - 股价大于150美元 且 收盘价大于开盘价\n",
    "的交易数据"
   ]
  },
  {
   "cell_type": "code",
   "execution_count": 14,
   "metadata": {},
   "outputs": [
    {
     "data": {
      "text/html": [
       "<table>\n",
       "<caption>A tibble: 11 × 6</caption>\n",
       "<thead>\n",
       "\t<tr><th scope=col>Date</th><th scope=col>Open</th><th scope=col>High</th><th scope=col>Low</th><th scope=col>Close</th><th scope=col>Volume</th></tr>\n",
       "\t<tr><th scope=col>&lt;chr&gt;</th><th scope=col>&lt;dbl&gt;</th><th scope=col>&lt;dbl&gt;</th><th scope=col>&lt;dbl&gt;</th><th scope=col>&lt;dbl&gt;</th><th scope=col>&lt;int&gt;</th></tr>\n",
       "</thead>\n",
       "<tbody>\n",
       "\t<tr><td>7-Jun-17 </td><td>155.02</td><td>155.98</td><td>154.48</td><td>155.37</td><td>21069647</td></tr>\n",
       "\t<tr><td>6-Jun-17 </td><td>153.90</td><td>155.81</td><td>153.78</td><td>154.45</td><td>26624926</td></tr>\n",
       "\t<tr><td>2-Jun-17 </td><td>153.58</td><td>155.45</td><td>152.89</td><td>155.45</td><td>27770715</td></tr>\n",
       "\t<tr><td>1-Jun-17 </td><td>153.17</td><td>153.33</td><td>152.22</td><td>153.18</td><td>16404088</td></tr>\n",
       "\t<tr><td>30-May-17</td><td>153.42</td><td>154.43</td><td>153.33</td><td>153.67</td><td>20126851</td></tr>\n",
       "\t<tr><td>25-May-17</td><td>153.73</td><td>154.35</td><td>153.03</td><td>153.87</td><td>19235598</td></tr>\n",
       "\t<tr><td>18-May-17</td><td>151.27</td><td>153.34</td><td>151.13</td><td>152.54</td><td>33568215</td></tr>\n",
       "\t<tr><td>12-May-17</td><td>154.70</td><td>156.42</td><td>154.67</td><td>156.10</td><td>32527017</td></tr>\n",
       "\t<tr><td>11-May-17</td><td>152.45</td><td>154.07</td><td>152.31</td><td>153.95</td><td>27255058</td></tr>\n",
       "\t<tr><td>9-May-17 </td><td>153.87</td><td>154.88</td><td>153.45</td><td>153.99</td><td>39130363</td></tr>\n",
       "\t<tr><td>8-May-17 </td><td>149.03</td><td>153.70</td><td>149.03</td><td>153.01</td><td>48752413</td></tr>\n",
       "</tbody>\n",
       "</table>\n"
      ],
      "text/latex": [
       "A tibble: 11 × 6\n",
       "\\begin{tabular}{llllll}\n",
       " Date & Open & High & Low & Close & Volume\\\\\n",
       " <chr> & <dbl> & <dbl> & <dbl> & <dbl> & <int>\\\\\n",
       "\\hline\n",
       "\t 7-Jun-17  & 155.02 & 155.98 & 154.48 & 155.37 & 21069647\\\\\n",
       "\t 6-Jun-17  & 153.90 & 155.81 & 153.78 & 154.45 & 26624926\\\\\n",
       "\t 2-Jun-17  & 153.58 & 155.45 & 152.89 & 155.45 & 27770715\\\\\n",
       "\t 1-Jun-17  & 153.17 & 153.33 & 152.22 & 153.18 & 16404088\\\\\n",
       "\t 30-May-17 & 153.42 & 154.43 & 153.33 & 153.67 & 20126851\\\\\n",
       "\t 25-May-17 & 153.73 & 154.35 & 153.03 & 153.87 & 19235598\\\\\n",
       "\t 18-May-17 & 151.27 & 153.34 & 151.13 & 152.54 & 33568215\\\\\n",
       "\t 12-May-17 & 154.70 & 156.42 & 154.67 & 156.10 & 32527017\\\\\n",
       "\t 11-May-17 & 152.45 & 154.07 & 152.31 & 153.95 & 27255058\\\\\n",
       "\t 9-May-17  & 153.87 & 154.88 & 153.45 & 153.99 & 39130363\\\\\n",
       "\t 8-May-17  & 149.03 & 153.70 & 149.03 & 153.01 & 48752413\\\\\n",
       "\\end{tabular}\n"
      ],
      "text/markdown": [
       "\n",
       "A tibble: 11 × 6\n",
       "\n",
       "| Date &lt;chr&gt; | Open &lt;dbl&gt; | High &lt;dbl&gt; | Low &lt;dbl&gt; | Close &lt;dbl&gt; | Volume &lt;int&gt; |\n",
       "|---|---|---|---|---|---|\n",
       "| 7-Jun-17  | 155.02 | 155.98 | 154.48 | 155.37 | 21069647 |\n",
       "| 6-Jun-17  | 153.90 | 155.81 | 153.78 | 154.45 | 26624926 |\n",
       "| 2-Jun-17  | 153.58 | 155.45 | 152.89 | 155.45 | 27770715 |\n",
       "| 1-Jun-17  | 153.17 | 153.33 | 152.22 | 153.18 | 16404088 |\n",
       "| 30-May-17 | 153.42 | 154.43 | 153.33 | 153.67 | 20126851 |\n",
       "| 25-May-17 | 153.73 | 154.35 | 153.03 | 153.87 | 19235598 |\n",
       "| 18-May-17 | 151.27 | 153.34 | 151.13 | 152.54 | 33568215 |\n",
       "| 12-May-17 | 154.70 | 156.42 | 154.67 | 156.10 | 32527017 |\n",
       "| 11-May-17 | 152.45 | 154.07 | 152.31 | 153.95 | 27255058 |\n",
       "| 9-May-17  | 153.87 | 154.88 | 153.45 | 153.99 | 39130363 |\n",
       "| 8-May-17  | 149.03 | 153.70 | 149.03 | 153.01 | 48752413 |\n",
       "\n"
      ],
      "text/plain": [
       "   Date      Open   High   Low    Close  Volume  \n",
       "1  7-Jun-17  155.02 155.98 154.48 155.37 21069647\n",
       "2  6-Jun-17  153.90 155.81 153.78 154.45 26624926\n",
       "3  2-Jun-17  153.58 155.45 152.89 155.45 27770715\n",
       "4  1-Jun-17  153.17 153.33 152.22 153.18 16404088\n",
       "5  30-May-17 153.42 154.43 153.33 153.67 20126851\n",
       "6  25-May-17 153.73 154.35 153.03 153.87 19235598\n",
       "7  18-May-17 151.27 153.34 151.13 152.54 33568215\n",
       "8  12-May-17 154.70 156.42 154.67 156.10 32527017\n",
       "9  11-May-17 152.45 154.07 152.31 153.95 27255058\n",
       "10 9-May-17  153.87 154.88 153.45 153.99 39130363\n",
       "11 8-May-17  149.03 153.70 149.03 153.01 48752413"
      ]
     },
     "metadata": {},
     "output_type": "display_data"
    }
   ],
   "source": [
    "aapl %>% filter((Close>=150) & (Close>Open))"
   ]
  },
  {
   "cell_type": "markdown",
   "metadata": {},
   "source": [
    "## 4.4 Mutate\n",
    "将现有的字段经过计算后生成新字段。"
   ]
  },
  {
   "cell_type": "code",
   "execution_count": 16,
   "metadata": {},
   "outputs": [
    {
     "data": {
      "text/html": [
       "<table>\n",
       "<caption>A tibble: 6 × 8</caption>\n",
       "<thead>\n",
       "\t<tr><th scope=col>Date</th><th scope=col>Open</th><th scope=col>High</th><th scope=col>Low</th><th scope=col>Close</th><th scope=col>Volume</th><th scope=col>maxDif</th><th scope=col>log_maxDif</th></tr>\n",
       "\t<tr><th scope=col>&lt;chr&gt;</th><th scope=col>&lt;dbl&gt;</th><th scope=col>&lt;dbl&gt;</th><th scope=col>&lt;dbl&gt;</th><th scope=col>&lt;dbl&gt;</th><th scope=col>&lt;int&gt;</th><th scope=col>&lt;dbl&gt;</th><th scope=col>&lt;dbl&gt;</th></tr>\n",
       "</thead>\n",
       "<tbody>\n",
       "\t<tr><td>7-Jul-17 </td><td>142.90</td><td>144.75</td><td>142.90</td><td>144.18</td><td>19201712</td><td>1.85</td><td>0.6151856</td></tr>\n",
       "\t<tr><td>6-Jul-17 </td><td>143.02</td><td>143.50</td><td>142.41</td><td>142.73</td><td>24128782</td><td>1.09</td><td>0.0861777</td></tr>\n",
       "\t<tr><td>5-Jul-17 </td><td>143.69</td><td>144.79</td><td>142.72</td><td>144.09</td><td>21569557</td><td>2.07</td><td>0.7275486</td></tr>\n",
       "\t<tr><td>3-Jul-17 </td><td>144.88</td><td>145.30</td><td>143.10</td><td>143.50</td><td>14277848</td><td>2.20</td><td>0.7884574</td></tr>\n",
       "\t<tr><td>30-Jun-17</td><td>144.45</td><td>144.96</td><td>143.78</td><td>144.02</td><td>23024107</td><td>1.18</td><td>0.1655144</td></tr>\n",
       "\t<tr><td>29-Jun-17</td><td>144.71</td><td>145.13</td><td>142.28</td><td>143.68</td><td>31499368</td><td>2.85</td><td>1.0473190</td></tr>\n",
       "</tbody>\n",
       "</table>\n"
      ],
      "text/latex": [
       "A tibble: 6 × 8\n",
       "\\begin{tabular}{llllllll}\n",
       " Date & Open & High & Low & Close & Volume & maxDif & log\\_maxDif\\\\\n",
       " <chr> & <dbl> & <dbl> & <dbl> & <dbl> & <int> & <dbl> & <dbl>\\\\\n",
       "\\hline\n",
       "\t 7-Jul-17  & 142.90 & 144.75 & 142.90 & 144.18 & 19201712 & 1.85 & 0.6151856\\\\\n",
       "\t 6-Jul-17  & 143.02 & 143.50 & 142.41 & 142.73 & 24128782 & 1.09 & 0.0861777\\\\\n",
       "\t 5-Jul-17  & 143.69 & 144.79 & 142.72 & 144.09 & 21569557 & 2.07 & 0.7275486\\\\\n",
       "\t 3-Jul-17  & 144.88 & 145.30 & 143.10 & 143.50 & 14277848 & 2.20 & 0.7884574\\\\\n",
       "\t 30-Jun-17 & 144.45 & 144.96 & 143.78 & 144.02 & 23024107 & 1.18 & 0.1655144\\\\\n",
       "\t 29-Jun-17 & 144.71 & 145.13 & 142.28 & 143.68 & 31499368 & 2.85 & 1.0473190\\\\\n",
       "\\end{tabular}\n"
      ],
      "text/markdown": [
       "\n",
       "A tibble: 6 × 8\n",
       "\n",
       "| Date &lt;chr&gt; | Open &lt;dbl&gt; | High &lt;dbl&gt; | Low &lt;dbl&gt; | Close &lt;dbl&gt; | Volume &lt;int&gt; | maxDif &lt;dbl&gt; | log_maxDif &lt;dbl&gt; |\n",
       "|---|---|---|---|---|---|---|---|\n",
       "| 7-Jul-17  | 142.90 | 144.75 | 142.90 | 144.18 | 19201712 | 1.85 | 0.6151856 |\n",
       "| 6-Jul-17  | 143.02 | 143.50 | 142.41 | 142.73 | 24128782 | 1.09 | 0.0861777 |\n",
       "| 5-Jul-17  | 143.69 | 144.79 | 142.72 | 144.09 | 21569557 | 2.07 | 0.7275486 |\n",
       "| 3-Jul-17  | 144.88 | 145.30 | 143.10 | 143.50 | 14277848 | 2.20 | 0.7884574 |\n",
       "| 30-Jun-17 | 144.45 | 144.96 | 143.78 | 144.02 | 23024107 | 1.18 | 0.1655144 |\n",
       "| 29-Jun-17 | 144.71 | 145.13 | 142.28 | 143.68 | 31499368 | 2.85 | 1.0473190 |\n",
       "\n"
      ],
      "text/plain": [
       "  Date      Open   High   Low    Close  Volume   maxDif log_maxDif\n",
       "1 7-Jul-17  142.90 144.75 142.90 144.18 19201712 1.85   0.6151856 \n",
       "2 6-Jul-17  143.02 143.50 142.41 142.73 24128782 1.09   0.0861777 \n",
       "3 5-Jul-17  143.69 144.79 142.72 144.09 21569557 2.07   0.7275486 \n",
       "4 3-Jul-17  144.88 145.30 143.10 143.50 14277848 2.20   0.7884574 \n",
       "5 30-Jun-17 144.45 144.96 143.78 144.02 23024107 1.18   0.1655144 \n",
       "6 29-Jun-17 144.71 145.13 142.28 143.68 31499368 2.85   1.0473190 "
      ]
     },
     "metadata": {},
     "output_type": "display_data"
    }
   ],
   "source": [
    "#将最好价High减去最低价Low的结果定义为maxDif，并取log\n",
    "aapl %>% mutate(maxDif = High-Low,\n",
    "                log_maxDif=log(maxDif)) "
   ]
  },
  {
   "cell_type": "markdown",
   "metadata": {},
   "source": [
    "得到记录的位置(行数)"
   ]
  },
  {
   "cell_type": "code",
   "execution_count": 17,
   "metadata": {},
   "outputs": [
    {
     "data": {
      "text/html": [
       "<table>\n",
       "<caption>A tibble: 6 × 7</caption>\n",
       "<thead>\n",
       "\t<tr><th scope=col>Date</th><th scope=col>Open</th><th scope=col>High</th><th scope=col>Low</th><th scope=col>Close</th><th scope=col>Volume</th><th scope=col>n</th></tr>\n",
       "\t<tr><th scope=col>&lt;chr&gt;</th><th scope=col>&lt;dbl&gt;</th><th scope=col>&lt;dbl&gt;</th><th scope=col>&lt;dbl&gt;</th><th scope=col>&lt;dbl&gt;</th><th scope=col>&lt;int&gt;</th><th scope=col>&lt;int&gt;</th></tr>\n",
       "</thead>\n",
       "<tbody>\n",
       "\t<tr><td>7-Jul-17 </td><td>142.90</td><td>144.75</td><td>142.90</td><td>144.18</td><td>19201712</td><td>1</td></tr>\n",
       "\t<tr><td>6-Jul-17 </td><td>143.02</td><td>143.50</td><td>142.41</td><td>142.73</td><td>24128782</td><td>2</td></tr>\n",
       "\t<tr><td>5-Jul-17 </td><td>143.69</td><td>144.79</td><td>142.72</td><td>144.09</td><td>21569557</td><td>3</td></tr>\n",
       "\t<tr><td>3-Jul-17 </td><td>144.88</td><td>145.30</td><td>143.10</td><td>143.50</td><td>14277848</td><td>4</td></tr>\n",
       "\t<tr><td>30-Jun-17</td><td>144.45</td><td>144.96</td><td>143.78</td><td>144.02</td><td>23024107</td><td>5</td></tr>\n",
       "\t<tr><td>29-Jun-17</td><td>144.71</td><td>145.13</td><td>142.28</td><td>143.68</td><td>31499368</td><td>6</td></tr>\n",
       "</tbody>\n",
       "</table>\n"
      ],
      "text/latex": [
       "A tibble: 6 × 7\n",
       "\\begin{tabular}{lllllll}\n",
       " Date & Open & High & Low & Close & Volume & n\\\\\n",
       " <chr> & <dbl> & <dbl> & <dbl> & <dbl> & <int> & <int>\\\\\n",
       "\\hline\n",
       "\t 7-Jul-17  & 142.90 & 144.75 & 142.90 & 144.18 & 19201712 & 1\\\\\n",
       "\t 6-Jul-17  & 143.02 & 143.50 & 142.41 & 142.73 & 24128782 & 2\\\\\n",
       "\t 5-Jul-17  & 143.69 & 144.79 & 142.72 & 144.09 & 21569557 & 3\\\\\n",
       "\t 3-Jul-17  & 144.88 & 145.30 & 143.10 & 143.50 & 14277848 & 4\\\\\n",
       "\t 30-Jun-17 & 144.45 & 144.96 & 143.78 & 144.02 & 23024107 & 5\\\\\n",
       "\t 29-Jun-17 & 144.71 & 145.13 & 142.28 & 143.68 & 31499368 & 6\\\\\n",
       "\\end{tabular}\n"
      ],
      "text/markdown": [
       "\n",
       "A tibble: 6 × 7\n",
       "\n",
       "| Date &lt;chr&gt; | Open &lt;dbl&gt; | High &lt;dbl&gt; | Low &lt;dbl&gt; | Close &lt;dbl&gt; | Volume &lt;int&gt; | n &lt;int&gt; |\n",
       "|---|---|---|---|---|---|---|\n",
       "| 7-Jul-17  | 142.90 | 144.75 | 142.90 | 144.18 | 19201712 | 1 |\n",
       "| 6-Jul-17  | 143.02 | 143.50 | 142.41 | 142.73 | 24128782 | 2 |\n",
       "| 5-Jul-17  | 143.69 | 144.79 | 142.72 | 144.09 | 21569557 | 3 |\n",
       "| 3-Jul-17  | 144.88 | 145.30 | 143.10 | 143.50 | 14277848 | 4 |\n",
       "| 30-Jun-17 | 144.45 | 144.96 | 143.78 | 144.02 | 23024107 | 5 |\n",
       "| 29-Jun-17 | 144.71 | 145.13 | 142.28 | 143.68 | 31499368 | 6 |\n",
       "\n"
      ],
      "text/plain": [
       "  Date      Open   High   Low    Close  Volume   n\n",
       "1 7-Jul-17  142.90 144.75 142.90 144.18 19201712 1\n",
       "2 6-Jul-17  143.02 143.50 142.41 142.73 24128782 2\n",
       "3 5-Jul-17  143.69 144.79 142.72 144.09 21569557 3\n",
       "4 3-Jul-17  144.88 145.30 143.10 143.50 14277848 4\n",
       "5 30-Jun-17 144.45 144.96 143.78 144.02 23024107 5\n",
       "6 29-Jun-17 144.71 145.13 142.28 143.68 31499368 6"
      ]
     },
     "metadata": {},
     "output_type": "display_data"
    }
   ],
   "source": [
    "aapl  %>% mutate(n=row_number())  "
   ]
  },
  {
   "cell_type": "markdown",
   "metadata": {},
   "source": [
    "## 4.5 Group_By\n",
    "对资料进行分组，这里导入新的 数据集 weather"
   ]
  },
  {
   "cell_type": "code",
   "execution_count": 18,
   "metadata": {},
   "outputs": [
    {
     "data": {
      "text/html": [
       "<table>\n",
       "<caption>A tibble: 6 × 5</caption>\n",
       "<thead>\n",
       "\t<tr><th scope=col>Date</th><th scope=col>city</th><th scope=col>temperature</th><th scope=col>windspeed</th><th scope=col>event</th></tr>\n",
       "\t<tr><th scope=col>&lt;chr&gt;</th><th scope=col>&lt;chr&gt;</th><th scope=col>&lt;int&gt;</th><th scope=col>&lt;int&gt;</th><th scope=col>&lt;chr&gt;</th></tr>\n",
       "</thead>\n",
       "<tbody>\n",
       "\t<tr><td>1/1/2017</td><td>new york</td><td>32</td><td> 6</td><td>Rain  </td></tr>\n",
       "\t<tr><td>1/1/2017</td><td>mumbai  </td><td>90</td><td> 5</td><td>Sunny </td></tr>\n",
       "\t<tr><td>1/1/2017</td><td>paris   </td><td>45</td><td>20</td><td>Sunny </td></tr>\n",
       "\t<tr><td>1/2/2017</td><td>new york</td><td>36</td><td> 7</td><td>Sunny </td></tr>\n",
       "\t<tr><td>1/2/2017</td><td>mumbai  </td><td>85</td><td>12</td><td>Fog   </td></tr>\n",
       "\t<tr><td>1/2/2017</td><td>paris   </td><td>50</td><td>13</td><td>Cloudy</td></tr>\n",
       "</tbody>\n",
       "</table>\n"
      ],
      "text/latex": [
       "A tibble: 6 × 5\n",
       "\\begin{tabular}{lllll}\n",
       " Date & city & temperature & windspeed & event\\\\\n",
       " <chr> & <chr> & <int> & <int> & <chr>\\\\\n",
       "\\hline\n",
       "\t 1/1/2017 & new york & 32 &  6 & Rain  \\\\\n",
       "\t 1/1/2017 & mumbai   & 90 &  5 & Sunny \\\\\n",
       "\t 1/1/2017 & paris    & 45 & 20 & Sunny \\\\\n",
       "\t 1/2/2017 & new york & 36 &  7 & Sunny \\\\\n",
       "\t 1/2/2017 & mumbai   & 85 & 12 & Fog   \\\\\n",
       "\t 1/2/2017 & paris    & 50 & 13 & Cloudy\\\\\n",
       "\\end{tabular}\n"
      ],
      "text/markdown": [
       "\n",
       "A tibble: 6 × 5\n",
       "\n",
       "| Date &lt;chr&gt; | city &lt;chr&gt; | temperature &lt;int&gt; | windspeed &lt;int&gt; | event &lt;chr&gt; |\n",
       "|---|---|---|---|---|\n",
       "| 1/1/2017 | new york | 32 |  6 | Rain   |\n",
       "| 1/1/2017 | mumbai   | 90 |  5 | Sunny  |\n",
       "| 1/1/2017 | paris    | 45 | 20 | Sunny  |\n",
       "| 1/2/2017 | new york | 36 |  7 | Sunny  |\n",
       "| 1/2/2017 | mumbai   | 85 | 12 | Fog    |\n",
       "| 1/2/2017 | paris    | 50 | 13 | Cloudy |\n",
       "\n"
      ],
      "text/plain": [
       "  Date     city     temperature windspeed event \n",
       "1 1/1/2017 new york 32           6        Rain  \n",
       "2 1/1/2017 mumbai   90           5        Sunny \n",
       "3 1/1/2017 paris    45          20        Sunny \n",
       "4 1/2/2017 new york 36           7        Sunny \n",
       "5 1/2/2017 mumbai   85          12        Fog   \n",
       "6 1/2/2017 paris    50          13        Cloudy"
      ]
     },
     "metadata": {},
     "output_type": "display_data"
    }
   ],
   "source": [
    "#导入csv数据\n",
    "weather <- read.csv('weather.csv', \n",
    "                    header=TRUE,\n",
    "                    sep=',',\n",
    "                    stringsAsFactors = FALSE) %>% as_tibble()  \n",
    "weather "
   ]
  },
  {
   "cell_type": "markdown",
   "metadata": {},
   "source": [
    "按照城市分组"
   ]
  },
  {
   "cell_type": "code",
   "execution_count": 19,
   "metadata": {},
   "outputs": [
    {
     "data": {
      "text/html": [
       "<table>\n",
       "<caption>A grouped_df: 6 × 5</caption>\n",
       "<thead>\n",
       "\t<tr><th scope=col>Date</th><th scope=col>city</th><th scope=col>temperature</th><th scope=col>windspeed</th><th scope=col>event</th></tr>\n",
       "\t<tr><th scope=col>&lt;chr&gt;</th><th scope=col>&lt;chr&gt;</th><th scope=col>&lt;int&gt;</th><th scope=col>&lt;int&gt;</th><th scope=col>&lt;chr&gt;</th></tr>\n",
       "</thead>\n",
       "<tbody>\n",
       "\t<tr><td>1/1/2017</td><td>new york</td><td>32</td><td> 6</td><td>Rain  </td></tr>\n",
       "\t<tr><td>1/1/2017</td><td>mumbai  </td><td>90</td><td> 5</td><td>Sunny </td></tr>\n",
       "\t<tr><td>1/1/2017</td><td>paris   </td><td>45</td><td>20</td><td>Sunny </td></tr>\n",
       "\t<tr><td>1/2/2017</td><td>new york</td><td>36</td><td> 7</td><td>Sunny </td></tr>\n",
       "\t<tr><td>1/2/2017</td><td>mumbai  </td><td>85</td><td>12</td><td>Fog   </td></tr>\n",
       "\t<tr><td>1/2/2017</td><td>paris   </td><td>50</td><td>13</td><td>Cloudy</td></tr>\n",
       "</tbody>\n",
       "</table>\n"
      ],
      "text/latex": [
       "A grouped\\_df: 6 × 5\n",
       "\\begin{tabular}{lllll}\n",
       " Date & city & temperature & windspeed & event\\\\\n",
       " <chr> & <chr> & <int> & <int> & <chr>\\\\\n",
       "\\hline\n",
       "\t 1/1/2017 & new york & 32 &  6 & Rain  \\\\\n",
       "\t 1/1/2017 & mumbai   & 90 &  5 & Sunny \\\\\n",
       "\t 1/1/2017 & paris    & 45 & 20 & Sunny \\\\\n",
       "\t 1/2/2017 & new york & 36 &  7 & Sunny \\\\\n",
       "\t 1/2/2017 & mumbai   & 85 & 12 & Fog   \\\\\n",
       "\t 1/2/2017 & paris    & 50 & 13 & Cloudy\\\\\n",
       "\\end{tabular}\n"
      ],
      "text/markdown": [
       "\n",
       "A grouped_df: 6 × 5\n",
       "\n",
       "| Date &lt;chr&gt; | city &lt;chr&gt; | temperature &lt;int&gt; | windspeed &lt;int&gt; | event &lt;chr&gt; |\n",
       "|---|---|---|---|---|\n",
       "| 1/1/2017 | new york | 32 |  6 | Rain   |\n",
       "| 1/1/2017 | mumbai   | 90 |  5 | Sunny  |\n",
       "| 1/1/2017 | paris    | 45 | 20 | Sunny  |\n",
       "| 1/2/2017 | new york | 36 |  7 | Sunny  |\n",
       "| 1/2/2017 | mumbai   | 85 | 12 | Fog    |\n",
       "| 1/2/2017 | paris    | 50 | 13 | Cloudy |\n",
       "\n"
      ],
      "text/plain": [
       "  Date     city     temperature windspeed event \n",
       "1 1/1/2017 new york 32           6        Rain  \n",
       "2 1/1/2017 mumbai   90           5        Sunny \n",
       "3 1/1/2017 paris    45          20        Sunny \n",
       "4 1/2/2017 new york 36           7        Sunny \n",
       "5 1/2/2017 mumbai   85          12        Fog   \n",
       "6 1/2/2017 paris    50          13        Cloudy"
      ]
     },
     "metadata": {},
     "output_type": "display_data"
    }
   ],
   "source": [
    "weather %>% group_by(city) "
   ]
  },
  {
   "cell_type": "markdown",
   "metadata": {},
   "source": [
    "为了让大家看到分组的功效，咱们按照城市分别计算平均温度"
   ]
  },
  {
   "cell_type": "code",
   "execution_count": 20,
   "metadata": {},
   "outputs": [
    {
     "name": "stderr",
     "output_type": "stream",
     "text": [
      "`summarise()` ungrouping output (override with `.groups` argument)\n",
      "\n"
     ]
    },
    {
     "data": {
      "text/html": [
       "<table>\n",
       "<caption>A tibble: 3 × 2</caption>\n",
       "<thead>\n",
       "\t<tr><th scope=col>city</th><th scope=col>mean_temperature</th></tr>\n",
       "\t<tr><th scope=col>&lt;chr&gt;</th><th scope=col>&lt;dbl&gt;</th></tr>\n",
       "</thead>\n",
       "<tbody>\n",
       "\t<tr><td>mumbai  </td><td>87.5</td></tr>\n",
       "\t<tr><td>new york</td><td>34.0</td></tr>\n",
       "\t<tr><td>paris   </td><td>47.5</td></tr>\n",
       "</tbody>\n",
       "</table>\n"
      ],
      "text/latex": [
       "A tibble: 3 × 2\n",
       "\\begin{tabular}{ll}\n",
       " city & mean\\_temperature\\\\\n",
       " <chr> & <dbl>\\\\\n",
       "\\hline\n",
       "\t mumbai   & 87.5\\\\\n",
       "\t new york & 34.0\\\\\n",
       "\t paris    & 47.5\\\\\n",
       "\\end{tabular}\n"
      ],
      "text/markdown": [
       "\n",
       "A tibble: 3 × 2\n",
       "\n",
       "| city &lt;chr&gt; | mean_temperature &lt;dbl&gt; |\n",
       "|---|---|\n",
       "| mumbai   | 87.5 |\n",
       "| new york | 34.0 |\n",
       "| paris    | 47.5 |\n",
       "\n"
      ],
      "text/plain": [
       "  city     mean_temperature\n",
       "1 mumbai   87.5            \n",
       "2 new york 34.0            \n",
       "3 paris    47.5            "
      ]
     },
     "metadata": {},
     "output_type": "display_data"
    }
   ],
   "source": [
    "weather %>% group_by(city) %>% summarise(mean_temperature = mean(temperature))"
   ]
  },
  {
   "cell_type": "code",
   "execution_count": 21,
   "metadata": {},
   "outputs": [
    {
     "data": {
      "text/html": [
       "<table>\n",
       "<caption>A tibble: 1 × 1</caption>\n",
       "<thead>\n",
       "\t<tr><th scope=col>mean_temperature</th></tr>\n",
       "\t<tr><th scope=col>&lt;dbl&gt;</th></tr>\n",
       "</thead>\n",
       "<tbody>\n",
       "\t<tr><td>56.33333</td></tr>\n",
       "</tbody>\n",
       "</table>\n"
      ],
      "text/latex": [
       "A tibble: 1 × 1\n",
       "\\begin{tabular}{l}\n",
       " mean\\_temperature\\\\\n",
       " <dbl>\\\\\n",
       "\\hline\n",
       "\t 56.33333\\\\\n",
       "\\end{tabular}\n"
      ],
      "text/markdown": [
       "\n",
       "A tibble: 1 × 1\n",
       "\n",
       "| mean_temperature &lt;dbl&gt; |\n",
       "|---|\n",
       "| 56.33333 |\n",
       "\n"
      ],
      "text/plain": [
       "  mean_temperature\n",
       "1 56.33333        "
      ]
     },
     "metadata": {},
     "output_type": "display_data"
    }
   ],
   "source": [
    "weather %>%  summarise(mean_temperature = mean(temperature))"
   ]
  },
  {
   "cell_type": "code",
   "execution_count": null,
   "metadata": {},
   "outputs": [],
   "source": []
  }
 ],
 "metadata": {
  "kernelspec": {
   "display_name": "R",
   "language": "R",
   "name": "ir"
  },
  "language_info": {
   "codemirror_mode": "r",
   "file_extension": ".r",
   "mimetype": "text/x-r-source",
   "name": "R",
   "pygments_lexer": "r",
   "version": "3.6.1"
  },
  "toc": {
   "base_numbering": 1,
   "nav_menu": {},
   "number_sections": false,
   "sideBar": true,
   "skip_h1_title": false,
   "title_cell": "Table of Contents",
   "title_sidebar": "Contents",
   "toc_cell": false,
   "toc_position": {},
   "toc_section_display": true,
   "toc_window_display": false
  },
  "varInspector": {
   "cols": {
    "lenName": 16,
    "lenType": 16,
    "lenVar": 40
   },
   "kernels_config": {
    "python": {
     "delete_cmd_postfix": "",
     "delete_cmd_prefix": "del ",
     "library": "var_list.py",
     "varRefreshCmd": "print(var_dic_list())"
    },
    "r": {
     "delete_cmd_postfix": ") ",
     "delete_cmd_prefix": "rm(",
     "library": "var_list.r",
     "varRefreshCmd": "cat(var_dic_list()) "
    }
   },
   "types_to_exclude": [
    "module",
    "function",
    "builtin_function_or_method",
    "instance",
    "_Feature"
   ],
   "window_display": false
  }
 },
 "nbformat": 4,
 "nbformat_minor": 4
}
