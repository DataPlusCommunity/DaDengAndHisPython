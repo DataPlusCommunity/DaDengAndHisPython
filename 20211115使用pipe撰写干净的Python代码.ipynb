{
 "cells": [
  {
   "cell_type": "markdown",
   "metadata": {},
   "source": [
    "## 动机\n",
    "**map**和**filter**是处理iterable数据最好用的函数，但却让代码看起来很乱，使代码可读性大大降低。\n",
    "\n",
    "\n"
   ]
  },
  {
   "cell_type": "code",
   "execution_count": 4,
   "metadata": {},
   "outputs": [
    {
     "data": {
      "text/plain": [
       "[4, 8]"
      ]
     },
     "execution_count": 4,
     "metadata": {},
     "output_type": "execute_result"
    }
   ],
   "source": [
    "arr = [1, 2, 3, 4, 5]\n",
    "\n",
    "#对arr筛选偶数，并对偶数乘以2\n",
    "list(map(lambda x: x*2, filter(lambda x:x%2==0, arr)))"
   ]
  },
  {
   "cell_type": "markdown",
   "metadata": {},
   "source": [
    "刚刚的iterable的例子，其实可以使用pipe库中的 ``|`` 来应用多种方法。\n"
   ]
  },
  {
   "cell_type": "code",
   "execution_count": 8,
   "metadata": {},
   "outputs": [
    {
     "data": {
      "text/plain": [
       "[4, 8]"
      ]
     },
     "execution_count": 8,
     "metadata": {},
     "output_type": "execute_result"
    }
   ],
   "source": [
    "from pipe import select, where\n",
    "\n",
    "arr = [1, 2, 3, 4, 5]\n",
    "\n",
    "list(arr\n",
    "    |where(lambda x:x%2==0)\n",
    "    |select(lambda x:x*2))"
   ]
  },
  {
   "cell_type": "markdown",
   "metadata": {},
   "source": [
    "## pipe是什么？\n",
    "pipe是python中的管道操作库，可以使数据分析多个步骤(函数）像管道(流水线)一样上下衔接，共同完成一个数据分析任务。\n",
    "\n",
    "我喜欢pipe是因为它让iterable代码变得干净整洁，可读性大大增强。后面我会通过几个案例让大家快速掌握pipe库。首先先安装pipe"
   ]
  },
  {
   "cell_type": "code",
   "execution_count": null,
   "metadata": {},
   "outputs": [],
   "source": [
    "!pip3 install pipe"
   ]
  },
  {
   "cell_type": "markdown",
   "metadata": {},
   "source": [
    "## where\n",
    "对iterable中的数据进行筛选操作"
   ]
  },
  {
   "cell_type": "code",
   "execution_count": 9,
   "metadata": {},
   "outputs": [
    {
     "data": {
      "text/plain": [
       "[2, 4]"
      ]
     },
     "execution_count": 9,
     "metadata": {},
     "output_type": "execute_result"
    }
   ],
   "source": [
    "from pipe import where\n",
    "\n",
    "arr = [1, 2, 3, 4, 5]\n",
    "\n",
    "#把偶数筛选出来\n",
    "list(arr | where(lambda x: x%2==0))"
   ]
  },
  {
   "cell_type": "markdown",
   "metadata": {},
   "source": [
    "## select\n",
    "对iterable中的数据进行某种操作"
   ]
  },
  {
   "cell_type": "code",
   "execution_count": 10,
   "metadata": {},
   "outputs": [
    {
     "data": {
      "text/plain": [
       "[2, 4, 6, 8, 10]"
      ]
     },
     "execution_count": 10,
     "metadata": {},
     "output_type": "execute_result"
    }
   ],
   "source": [
    "from pipe import select\n",
    "\n",
    "arr = [1, 2, 3, 4, 5]\n",
    "\n",
    "#对arr中的每个数 乘以2\n",
    "list(arr | select(lambda x: x*2))"
   ]
  },
  {
   "cell_type": "markdown",
   "metadata": {},
   "source": [
    "现在你可能会有疑问： 为何在Python已拥有map和filter情况下， 还用pipe库中的 select和 where呢？\n",
    "\n",
    "因为可以使用管道在一个方法后面加入另一个方法， 加不止1次!!"
   ]
  },
  {
   "cell_type": "code",
   "execution_count": 11,
   "metadata": {},
   "outputs": [
    {
     "data": {
      "text/plain": [
       "[4, 8]"
      ]
     },
     "execution_count": 11,
     "metadata": {},
     "output_type": "execute_result"
    }
   ],
   "source": [
    "from pipe import select, where\n",
    "\n",
    "arr = [1, 2, 3, 4, 5]\n",
    "\n",
    "list(arr \n",
    "     | where(lambda x: x%2==0) #筛选arr中的偶数\n",
    "     | select(lambda x: x*2)  #对偶数乘以2\n",
    "    )"
   ]
  },
  {
   "cell_type": "markdown",
   "metadata": {},
   "source": [
    "# 非折叠iterable\n",
    "## chain\n",
    "对于嵌套结构的iterable数据，最难任务之一就是将其展平。"
   ]
  },
  {
   "cell_type": "code",
   "execution_count": 15,
   "metadata": {},
   "outputs": [
    {
     "data": {
      "text/plain": [
       "[1, 2, [3], 4, 5]"
      ]
     },
     "execution_count": 15,
     "metadata": {},
     "output_type": "execute_result"
    }
   ],
   "source": [
    "from pipe import chain\n",
    "\n",
    "nested = [[1,2,[3]], [4, 5]]\n",
    "\n",
    "list((nested | chain))"
   ]
  },
  {
   "cell_type": "markdown",
   "metadata": {},
   "source": [
    "即时经过上述操作， 依然不是完全展开。 为了处理深度嵌套数据， 可以使用traverse方法。\n",
    "\n",
    "## traverse\n",
    "遍历traverse方法可以用递归的方式展开 嵌套对象。"
   ]
  },
  {
   "cell_type": "code",
   "execution_count": 17,
   "metadata": {},
   "outputs": [
    {
     "data": {
      "text/plain": [
       "[1, 2, 3, 4, 5]"
      ]
     },
     "execution_count": 17,
     "metadata": {},
     "output_type": "execute_result"
    }
   ],
   "source": [
    "from pipe import traverse\n",
    "\n",
    "nested = [[1,2,[3]], [4, 5]]\n",
    "\n",
    "list((nested | traverse))"
   ]
  },
  {
   "cell_type": "markdown",
   "metadata": {},
   "source": [
    "现在我们从抽取字典values中的列表，并将其展平"
   ]
  },
  {
   "cell_type": "code",
   "execution_count": 19,
   "metadata": {},
   "outputs": [
    {
     "data": {
      "text/plain": [
       "[2, 5, 4, 5]"
      ]
     },
     "execution_count": 19,
     "metadata": {},
     "output_type": "execute_result"
    }
   ],
   "source": [
    "from pipe import traverse, select\n",
    "\n",
    "fruits = [\n",
    "    {\"name\": \"apple\", \"price\": [2, 5]},\n",
    "    {\"name\": \"orange\", \"price\": 4},\n",
    "    {\"name\": \"grape\", \"price\": 5}\n",
    "]\n",
    "\n",
    "list(fruits\n",
    "    | select(lambda fruit: fruit[\"price\"])\n",
    "    | traverse)"
   ]
  },
  {
   "cell_type": "markdown",
   "metadata": {},
   "source": [
    "## groupby\n",
    "\n",
    "有时候，需要对列表中的数据进行分组，这可能用到groupby方法。"
   ]
  },
  {
   "cell_type": "code",
   "execution_count": 29,
   "metadata": {},
   "outputs": [
    {
     "data": {
      "text/plain": [
       "[{'偶数': [2, 4, 6, 8]}, {'奇数': [1, 3, 5, 7, 9]}]"
      ]
     },
     "execution_count": 29,
     "metadata": {},
     "output_type": "execute_result"
    }
   ],
   "source": [
    "from pipe import select, groupby\n",
    "\n",
    "list(\n",
    "    (1, 2, 3, 4, 5, 6, 7, 8, 9)\n",
    "    | groupby(lambda x: \"偶数\" if x%2==0 else \"奇数\")\n",
    "    | select(lambda x: {x[0]: list(x[1])})\n",
    ")"
   ]
  },
  {
   "cell_type": "markdown",
   "metadata": {},
   "source": [
    "在上面的代码中， 我们使用groupby将数字分为奇数组和偶数组。groupby方法输出的结果如下\n",
    "\n",
    "```\n",
    "[('偶数', <itertools._grouper at 0x10bd54550>),\n",
    " ('奇数', <itertools._grouper at 0x10bd4d350>)]\n",
    " \n",
    "```\n",
    "\n",
    "接下来，使用select将元素为元组的列表转化为字典，其中\n",
    "- 元组中第1位置做字典的关键词\n",
    "- 元组中第2位置做字典的值\n",
    "\n",
    "```\n",
    "[{'偶数': [2, 4, 6, 8]}, {'奇数': [1, 3, 5, 7, 9]}]\n",
    "```\n",
    "\n",
    "Cool！为了range值大于2， 我们在select内增加where条件操作"
   ]
  },
  {
   "cell_type": "code",
   "execution_count": 31,
   "metadata": {},
   "outputs": [
    {
     "data": {
      "text/plain": [
       "[{'偶数': [4, 6, 8]}, {'奇数': [3, 5, 7, 9]}]"
      ]
     },
     "execution_count": 31,
     "metadata": {},
     "output_type": "execute_result"
    }
   ],
   "source": [
    "from pipe import select, groupby\n",
    "\n",
    "list(\n",
    "    (1, 2, 3, 4, 5, 6, 7, 8, 9)\n",
    "    | groupby(lambda x: \"偶数\" if x%2==0 else \"奇数\")\n",
    "    | select(lambda x: {x[0]: list(x[1] \n",
    "                                   | where(lambda x: x>2)\n",
    "                                  )\n",
    "                       }\n",
    "            )\n",
    ")"
   ]
  },
  {
   "cell_type": "markdown",
   "metadata": {},
   "source": [
    "## dedup\n",
    "使用Key对list数据进行去重"
   ]
  },
  {
   "cell_type": "code",
   "execution_count": 32,
   "metadata": {},
   "outputs": [
    {
     "data": {
      "text/plain": [
       "[1, 2, 3, 4, 5, 6, 7, 9]"
      ]
     },
     "execution_count": 32,
     "metadata": {},
     "output_type": "execute_result"
    }
   ],
   "source": [
    "from pipe import dedup\n",
    "\n",
    "arr = [1, 2, 2, 3, 4, 5, 6, 6, 7, 9, 3, 3, 1]\n",
    "\n",
    "list(arr | dedup)"
   ]
  },
  {
   "cell_type": "markdown",
   "metadata": {},
   "source": [
    "这看起来没啥新意，毕竟python内置的set函数即可实现刚刚的需求。然而，dedup通过key获得列表中的唯一元素。\n",
    "\n",
    "例如，**获得小于5的唯一元素， 且另一个元素大于或等于5**"
   ]
  },
  {
   "cell_type": "code",
   "execution_count": 41,
   "metadata": {},
   "outputs": [
    {
     "data": {
      "text/plain": [
       "[1, 5]"
      ]
     },
     "execution_count": 41,
     "metadata": {},
     "output_type": "execute_result"
    }
   ],
   "source": [
    "from pipe import dedup\n",
    "\n",
    "arr = [1, 2, 2, 3, 4, 5, 6, 6, 7, 9, 3, 3, 1]\n",
    "\n",
    "list(arr | dedup(lambda key: key<5))"
   ]
  },
  {
   "cell_type": "code",
   "execution_count": 44,
   "metadata": {},
   "outputs": [
    {
     "data": {
      "text/plain": [
       "[2, 4]"
      ]
     },
     "execution_count": 44,
     "metadata": {},
     "output_type": "execute_result"
    }
   ],
   "source": [
    "from pipe import traverse, select\n",
    "\n",
    "data = [\n",
    "    {\"name\": \"apple\", \"count\": 2},\n",
    "    {\"name\": \"orange\", \"count\": 4},\n",
    "    {\"name\": \"grape\", \"count\": None},\n",
    "    {\"name\": \"orange\", \"count\": 7}\n",
    "]\n",
    "\n",
    "list(\n",
    "    data\n",
    "    | dedup(key=lambda fruit: fruit[\"name\"])\n",
    "    | select(lambda fruit: fruit[\"count\"])\n",
    "    | where(lambda count: isinstance(count, int))\n",
    ")"
   ]
  }
 ],
 "metadata": {
  "kernelspec": {
   "display_name": "Python 3",
   "language": "python",
   "name": "python3"
  },
  "language_info": {
   "codemirror_mode": {
    "name": "ipython",
    "version": 3
   },
   "file_extension": ".py",
   "mimetype": "text/x-python",
   "name": "python",
   "nbconvert_exporter": "python",
   "pygments_lexer": "ipython3",
   "version": "3.7.5"
  }
 },
 "nbformat": 4,
 "nbformat_minor": 4
}
