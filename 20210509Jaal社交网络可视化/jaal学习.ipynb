{
 "cells": [
  {
   "cell_type": "markdown",
   "metadata": {},
   "source": [
    "Jaal是基于Dash和Visdcc构建的可交互的Python社交网络库。由于底层使用了dash，所以我们可以认为jaal更像是一个仪表盘。基于此，jaal也提供了多种处理网络数据的可选项，例如搜索、过滤、给节点（边）上色等。所有的操作，两三行代码即可搞定。"
   ]
  },
  {
   "cell_type": "code",
   "execution_count": null,
   "metadata": {},
   "outputs": [],
   "source": [
    "!pip3 install jaal"
   ]
  },
  {
   "cell_type": "markdown",
   "metadata": {},
   "source": [
    "## 一、快速上手\n",
    "本文准备了《权利的游戏》的节点nodes.csv和边edges.csv数据， 可以使用jaal的plot()函数绘制《权利的游戏》关系网络图。 必须有的字段，这里加粗了\n",
    "nodes.csv数据含\n",
    "- **from**: 节点\n",
    "- **to**:  节点\n",
    "- weight: 边权重\n",
    "- strenth: \n",
    "\n",
    "edges.csv数据\n",
    "- **id** 节点id，姓名\n",
    "- gender 节点的性别\n",
    "\n"
   ]
  },
  {
   "cell_type": "code",
   "execution_count": 10,
   "metadata": {
    "scrolled": true
   },
   "outputs": [
    {
     "name": "stdout",
     "output_type": "stream",
     "text": [
      "Parsing the data...Done\n",
      "Dash is running on http://127.0.0.1:8050/\n",
      "\n",
      "Dash is running on http://127.0.0.1:8050/\n",
      "\n",
      "Dash is running on http://127.0.0.1:8050/\n",
      "\n",
      "Dash is running on http://127.0.0.1:8050/\n",
      "\n",
      " * Serving Flask app \"__main__\" (lazy loading)\n",
      " * Environment: production\n",
      "\u001b[31m   WARNING: This is a development server. Do not use it in a production deployment.\u001b[0m\n",
      "\u001b[2m   Use a production WSGI server instead.\u001b[0m\n",
      " * Debug mode: off\n"
     ]
    },
    {
     "name": "stderr",
     "output_type": "stream",
     "text": [
      " * Running on http://127.0.0.1:8050/ (Press CTRL+C to quit)\n",
      "127.0.0.1 - - [09/May/2021 11:02:05] \"\u001b[37mGET / HTTP/1.1\u001b[0m\" 200 -\n",
      "127.0.0.1 - - [09/May/2021 11:02:05] \"\u001b[37mGET /_dash-dependencies HTTP/1.1\u001b[0m\" 200 -\n",
      "127.0.0.1 - - [09/May/2021 11:02:05] \"\u001b[37mGET /_dash-layout HTTP/1.1\u001b[0m\" 200 -\n",
      "127.0.0.1 - - [09/May/2021 11:02:05] \"\u001b[37mPOST /_dash-update-component HTTP/1.1\u001b[0m\" 200 -\n",
      "127.0.0.1 - - [09/May/2021 11:02:05] \"\u001b[37mPOST /_dash-update-component HTTP/1.1\u001b[0m\" 200 -\n"
     ]
    },
    {
     "name": "stdout",
     "output_type": "stream",
     "text": [
      "No trigger\n"
     ]
    },
    {
     "name": "stderr",
     "output_type": "stream",
     "text": [
      "127.0.0.1 - - [09/May/2021 11:02:10] \"\u001b[37mPOST /_dash-update-component HTTP/1.1\u001b[0m\" 200 -\n"
     ]
    },
    {
     "name": "stdout",
     "output_type": "stream",
     "text": [
      "inside color node gender\n"
     ]
    },
    {
     "name": "stderr",
     "output_type": "stream",
     "text": [
      "127.0.0.1 - - [09/May/2021 11:02:14] \"\u001b[37mPOST /_dash-update-component HTTP/1.1\u001b[0m\" 200 -\n"
     ]
    },
    {
     "name": "stdout",
     "output_type": "stream",
     "text": [
      "inside color edge strength\n"
     ]
    }
   ],
   "source": [
    "import pandas as pd\n",
    "from jaal import Jaal\n",
    "\n",
    "edge_df = pd.read_csv('edges.csv')\n",
    "node_df = pd.read_csv('nodes.csv')\n",
    "Jaal(edge_df, node_df).plot()"
   ]
  },
  {
   "cell_type": "markdown",
   "metadata": {},
   "source": [
    "运行代码后，会生成一个本地服务链接，例如 http://127.0.0.1:8050/ ， 点击链接，浏览器就能看到"
   ]
  },
  {
   "cell_type": "markdown",
   "metadata": {},
   "source": [
    "### 二、Jaal功能\n",
    "- **设置面板**  Jaal运行产生的浏览器界面左侧会有一个设置面板，可以对数据进行搜索、筛选、上色。\n",
    "- **搜索** 可以高亮搜索到的节点\n",
    "- **过滤** 支持pandas的query语法\n",
    "- **上色** 基于类别，对节点、边进行上色。能最多支持20个类别，即节点、边数据允许有20种属性\n",
    "\n",
    "### 三、 案例\n",
    "#### 3.1 搜索\n",
    "第一个选项是搜索，我们可以在其中搜索图中的特定节点。 它支持在节点标签上逐字符搜索。 以下是我们尝试搜索“ Arya”的示例\n",
    "![](img/search.gif)\n",
    "#### 3.2 过滤\n",
    "接下来，我们进行过滤。 Jaal支持在节点和边要素上都进行过滤的选项。 为此，我们提供了单独的文本区域。 下面我们可以看到节点和边缘过滤查询的实时效果。\n",
    "![](img/filter.gif)\n",
    "\n",
    "#### 3.3 染色\n",
    "最后，我们可能希望查看任何功能的整体分布，而不是进行过滤。 目前，Jaal通过提供根据任何分类特征为节点或边缘着色的选项来解决此问题。 我们可以在下面看到一个真实的例子。\n",
    "![](img/color.gif)"
   ]
  }
 ],
 "metadata": {
  "kernelspec": {
   "display_name": "Python 3",
   "language": "python",
   "name": "python3"
  },
  "language_info": {
   "codemirror_mode": {
    "name": "ipython",
    "version": 3
   },
   "file_extension": ".py",
   "mimetype": "text/x-python",
   "name": "python",
   "nbconvert_exporter": "python",
   "pygments_lexer": "ipython3",
   "version": "3.7.5"
  }
 },
 "nbformat": 4,
 "nbformat_minor": 4
}
