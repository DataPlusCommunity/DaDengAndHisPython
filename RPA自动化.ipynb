{
 "cells": [
  {
   "cell_type": "markdown",
   "metadata": {},
   "source": [
    "RPA for Python 简单而强大的自动化套件！ 您可以使用它快速实现自动化操作网站、自动化处理桌面应用程序上的重复性耗时任务。\n",
    "\n",
    "## 安装"
   ]
  },
  {
   "cell_type": "code",
   "execution_count": null,
   "metadata": {},
   "outputs": [],
   "source": [
    "!pip3 install rpa"
   ]
  },
  {
   "cell_type": "markdown",
   "metadata": {},
   "source": [
    "## 快速上手\n",
    "首次运行下方代码会，提示安装200M左右的配置文件，建议选择状况较好的网络环境。"
   ]
  },
  {
   "cell_type": "code",
   "execution_count": 3,
   "metadata": {},
   "outputs": [
    {
     "name": "stdout",
     "output_type": "stream",
     "text": [
      "找到约 1,590,000,000 条结果 （用时 0.39 秒）\n"
     ]
    },
    {
     "data": {
      "text/plain": [
       "True"
      ]
     },
     "execution_count": 3,
     "metadata": {},
     "output_type": "execute_result"
    }
   ],
   "source": [
    "import rpa as r\n",
    "\n",
    "r.init()\n",
    "#操控Chrome打开某个链接\n",
    "r.url('https://www.google.com')\n",
    "\n",
    "#定位搜索框，输入decentralization，回车执行搜索\n",
    "r.type('//*[@name=\"q\"]', 'decentralization[enter]')\n",
    "\n",
    "#定位结果页的统计信息。\n",
    "print(r.read('result-stats'))\n",
    "\n",
    "#截屏\n",
    "r.snap('page', 'results.png')\n",
    "r.close()"
   ]
  },
  {
   "cell_type": "markdown",
   "metadata": {},
   "source": [
    "需要注意的是 ``//*[@name=\"q\"]`` 与 ``result-stats`` 都是网页的定位表达式，建议大家稍微学一下html选择器 selector。 咱们爬虫课程中的pyquery部分讲的主要是selector，感兴趣可以付下一下。"
   ]
  },
  {
   "cell_type": "code",
   "execution_count": null,
   "metadata": {},
   "outputs": [],
   "source": []
  },
  {
   "cell_type": "markdown",
   "metadata": {},
   "source": [
    "## 再试一下"
   ]
  },
  {
   "cell_type": "code",
   "execution_count": 4,
   "metadata": {},
   "outputs": [
    {
     "name": "stdout",
     "output_type": "stream",
     "text": [
      "搜索工具百度为您找到相关结果约1,920,000个\n"
     ]
    },
    {
     "data": {
      "text/plain": [
       "True"
      ]
     },
     "execution_count": 4,
     "metadata": {},
     "output_type": "execute_result"
    }
   ],
   "source": [
    "import rpa as r\n",
    "\n",
    "r.init()\n",
    "r.url('https://www.baidu.com')\n",
    "r.type('#kw', '大邓和他的Python[enter]')\n",
    "print(r.read('//*[@id=\"tsn_inner\"]/div[2]'))\n",
    "r.snap('page', 'results.png')\n",
    "r.close()"
   ]
  }
 ],
 "metadata": {
  "kernelspec": {
   "display_name": "Python 3",
   "language": "python",
   "name": "python3"
  },
  "language_info": {
   "codemirror_mode": {
    "name": "ipython",
    "version": 3
   },
   "file_extension": ".py",
   "mimetype": "text/x-python",
   "name": "python",
   "nbconvert_exporter": "python",
   "pygments_lexer": "ipython3",
   "version": "3.7.5"
  },
  "toc": {
   "base_numbering": 1,
   "nav_menu": {},
   "number_sections": false,
   "sideBar": true,
   "skip_h1_title": false,
   "title_cell": "Table of Contents",
   "title_sidebar": "Contents",
   "toc_cell": false,
   "toc_position": {},
   "toc_section_display": true,
   "toc_window_display": false
  }
 },
 "nbformat": 4,
 "nbformat_minor": 4
}
