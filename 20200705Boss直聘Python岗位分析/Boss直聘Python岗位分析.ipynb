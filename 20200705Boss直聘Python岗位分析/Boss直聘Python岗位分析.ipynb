{
 "cells": [
  {
   "cell_type": "markdown",
   "metadata": {},
   "source": [
    "## 1. 读取数据"
   ]
  },
  {
   "cell_type": "code",
   "execution_count": 1,
   "metadata": {},
   "outputs": [
    {
     "data": {
      "text/html": [
       "<div>\n",
       "<style scoped>\n",
       "    .dataframe tbody tr th:only-of-type {\n",
       "        vertical-align: middle;\n",
       "    }\n",
       "\n",
       "    .dataframe tbody tr th {\n",
       "        vertical-align: top;\n",
       "    }\n",
       "\n",
       "    .dataframe thead th {\n",
       "        text-align: right;\n",
       "    }\n",
       "</style>\n",
       "<table border=\"1\" class=\"dataframe\">\n",
       "  <thead>\n",
       "    <tr style=\"text-align: right;\">\n",
       "      <th></th>\n",
       "      <th>job_name</th>\n",
       "      <th>job_area</th>\n",
       "      <th>salary</th>\n",
       "      <th>experience</th>\n",
       "      <th>edu</th>\n",
       "      <th>skill</th>\n",
       "      <th>welfare</th>\n",
       "      <th>company_name</th>\n",
       "      <th>industry</th>\n",
       "      <th>stage</th>\n",
       "      <th>population</th>\n",
       "    </tr>\n",
       "  </thead>\n",
       "  <tbody>\n",
       "    <tr>\n",
       "      <th>0</th>\n",
       "      <td>Python</td>\n",
       "      <td>深圳·南山区</td>\n",
       "      <td>13-22K</td>\n",
       "      <td>1-3年</td>\n",
       "      <td>本科</td>\n",
       "      <td>Go Linux C++ 熟悉http 常用数据库</td>\n",
       "      <td>包吃，股票期权，年终奖，定期体检，餐补，员工旅游，带薪年假，补充医疗保险，加班补助，免费班车...</td>\n",
       "      <td>腾讯</td>\n",
       "      <td>互联网</td>\n",
       "      <td>已上市</td>\n",
       "      <td>10000人以上</td>\n",
       "    </tr>\n",
       "    <tr>\n",
       "      <th>1</th>\n",
       "      <td>Python</td>\n",
       "      <td>深圳·南山区</td>\n",
       "      <td>15-30K</td>\n",
       "      <td>3-5年</td>\n",
       "      <td>本科</td>\n",
       "      <td>Django 分布式技术 GIT Redis Linux</td>\n",
       "      <td>餐补，五险一金，员工旅游，补充医疗保险，免费班车，带薪年假，全勤奖，年终奖，股票期权，节日福...</td>\n",
       "      <td>腾讯互娱</td>\n",
       "      <td>游戏</td>\n",
       "      <td>不需要融资</td>\n",
       "      <td>10000人以上</td>\n",
       "    </tr>\n",
       "  </tbody>\n",
       "</table>\n",
       "</div>"
      ],
      "text/plain": [
       "  job_name job_area  salary experience edu                         skill  \\\n",
       "0   Python   深圳·南山区  13-22K       1-3年  本科     Go Linux C++ 熟悉http 常用数据库   \n",
       "1   Python   深圳·南山区  15-30K       3-5年  本科  Django 分布式技术 GIT Redis Linux   \n",
       "\n",
       "                                             welfare company_name industry  \\\n",
       "0  包吃，股票期权，年终奖，定期体检，餐补，员工旅游，带薪年假，补充医疗保险，加班补助，免费班车...           腾讯      互联网   \n",
       "1  餐补，五险一金，员工旅游，补充医疗保险，免费班车，带薪年假，全勤奖，年终奖，股票期权，节日福...         腾讯互娱       游戏   \n",
       "\n",
       "   stage population  \n",
       "0    已上市   10000人以上  \n",
       "1  不需要融资   10000人以上  "
      ]
     },
     "execution_count": 1,
     "metadata": {},
     "output_type": "execute_result"
    }
   ],
   "source": [
    "import pandas as pd\n",
    "import numpy as np\n",
    "df = pd.read_csv('data/Jobs.csv')\n",
    "df.head(2)"
   ]
  },
  {
   "cell_type": "code",
   "execution_count": 2,
   "metadata": {},
   "outputs": [
    {
     "data": {
      "text/plain": [
       "356"
      ]
     },
     "execution_count": 2,
     "metadata": {},
     "output_type": "execute_result"
    }
   ],
   "source": [
    "# 总数\n",
    "len(df)"
   ]
  },
  {
   "cell_type": "code",
   "execution_count": null,
   "metadata": {},
   "outputs": [],
   "source": []
  },
  {
   "cell_type": "markdown",
   "metadata": {},
   "source": [
    "## 2. 新增city字段"
   ]
  },
  {
   "cell_type": "code",
   "execution_count": 4,
   "metadata": {},
   "outputs": [
    {
     "data": {
      "text/plain": [
       "array(['深圳·南山区', '深圳·龙岗区', '深圳', '深圳·福田区', '深圳·光明区', '深圳·龙华区', '深圳·宝安区',\n",
       "       'job_area', '北京', '北京·朝阳区', '北京·海淀区', '北京·通州区', '北京·东城区', '北京·丰台区',\n",
       "       '北京·大兴区', '北京·昌平区', '北京·西城区', '上海', '上海·杨浦区', '上海·浦东新区', '上海·徐汇区',\n",
       "       '上海·长宁区', '上海·青浦区', '上海·静安区', '上海·普陀区', '上海·黄浦区', '上海·闵行区',\n",
       "       '上海·虹口区', '上海·松江区', '广州·增城区', '广州·黄埔区', '广州·越秀区', '广州·番禺区',\n",
       "       '广州·天河区', '广州', '广州·海珠区', '广州·荔湾区', '广州·白云区'], dtype=object)"
      ]
     },
     "execution_count": 4,
     "metadata": {},
     "output_type": "execute_result"
    }
   ],
   "source": [
    "df['job_area'].unique()"
   ]
  },
  {
   "cell_type": "code",
   "execution_count": 5,
   "metadata": {},
   "outputs": [
    {
     "data": {
      "text/plain": [
       "'上海'"
      ]
     },
     "execution_count": 5,
     "metadata": {},
     "output_type": "execute_result"
    }
   ],
   "source": [
    "def extract_city(job_area):\n",
    "    if '深圳' in job_area:\n",
    "        return '深圳'\n",
    "    elif '广州' in job_area:\n",
    "        return '广州'\n",
    "    elif '北京' in job_area:\n",
    "        return '北京'\n",
    "    elif '上海' in job_area:\n",
    "        return '上海'\n",
    "    else:\n",
    "        return None\n",
    "    \n",
    "extract_city('上海-静安区')"
   ]
  },
  {
   "cell_type": "code",
   "execution_count": 6,
   "metadata": {},
   "outputs": [
    {
     "data": {
      "text/plain": [
       "0      深圳\n",
       "1      深圳\n",
       "2      深圳\n",
       "3      深圳\n",
       "4      深圳\n",
       "       ..\n",
       "351    广州\n",
       "352    广州\n",
       "353    广州\n",
       "354    广州\n",
       "355    广州\n",
       "Name: job_area, Length: 356, dtype: object"
      ]
     },
     "execution_count": 6,
     "metadata": {},
     "output_type": "execute_result"
    }
   ],
   "source": [
    "df['job_area'].apply(extract_city)"
   ]
  },
  {
   "cell_type": "code",
   "execution_count": 7,
   "metadata": {},
   "outputs": [
    {
     "data": {
      "text/html": [
       "<div>\n",
       "<style scoped>\n",
       "    .dataframe tbody tr th:only-of-type {\n",
       "        vertical-align: middle;\n",
       "    }\n",
       "\n",
       "    .dataframe tbody tr th {\n",
       "        vertical-align: top;\n",
       "    }\n",
       "\n",
       "    .dataframe thead th {\n",
       "        text-align: right;\n",
       "    }\n",
       "</style>\n",
       "<table border=\"1\" class=\"dataframe\">\n",
       "  <thead>\n",
       "    <tr style=\"text-align: right;\">\n",
       "      <th></th>\n",
       "      <th>job_name</th>\n",
       "      <th>job_area</th>\n",
       "      <th>salary</th>\n",
       "      <th>experience</th>\n",
       "      <th>edu</th>\n",
       "      <th>skill</th>\n",
       "      <th>welfare</th>\n",
       "      <th>company_name</th>\n",
       "      <th>industry</th>\n",
       "      <th>stage</th>\n",
       "      <th>population</th>\n",
       "      <th>city</th>\n",
       "    </tr>\n",
       "  </thead>\n",
       "  <tbody>\n",
       "    <tr>\n",
       "      <th>0</th>\n",
       "      <td>Python</td>\n",
       "      <td>深圳·南山区</td>\n",
       "      <td>13-22K</td>\n",
       "      <td>1-3年</td>\n",
       "      <td>本科</td>\n",
       "      <td>Go Linux C++ 熟悉http 常用数据库</td>\n",
       "      <td>包吃，股票期权，年终奖，定期体检，餐补，员工旅游，带薪年假，补充医疗保险，加班补助，免费班车...</td>\n",
       "      <td>腾讯</td>\n",
       "      <td>互联网</td>\n",
       "      <td>已上市</td>\n",
       "      <td>10000人以上</td>\n",
       "      <td>深圳</td>\n",
       "    </tr>\n",
       "    <tr>\n",
       "      <th>1</th>\n",
       "      <td>Python</td>\n",
       "      <td>深圳·南山区</td>\n",
       "      <td>15-30K</td>\n",
       "      <td>3-5年</td>\n",
       "      <td>本科</td>\n",
       "      <td>Django 分布式技术 GIT Redis Linux</td>\n",
       "      <td>餐补，五险一金，员工旅游，补充医疗保险，免费班车，带薪年假，全勤奖，年终奖，股票期权，节日福...</td>\n",
       "      <td>腾讯互娱</td>\n",
       "      <td>游戏</td>\n",
       "      <td>不需要融资</td>\n",
       "      <td>10000人以上</td>\n",
       "      <td>深圳</td>\n",
       "    </tr>\n",
       "  </tbody>\n",
       "</table>\n",
       "</div>"
      ],
      "text/plain": [
       "  job_name job_area  salary experience edu                         skill  \\\n",
       "0   Python   深圳·南山区  13-22K       1-3年  本科     Go Linux C++ 熟悉http 常用数据库   \n",
       "1   Python   深圳·南山区  15-30K       3-5年  本科  Django 分布式技术 GIT Redis Linux   \n",
       "\n",
       "                                             welfare company_name industry  \\\n",
       "0  包吃，股票期权，年终奖，定期体检，餐补，员工旅游，带薪年假，补充医疗保险，加班补助，免费班车...           腾讯      互联网   \n",
       "1  餐补，五险一金，员工旅游，补充医疗保险，免费班车，带薪年假，全勤奖，年终奖，股票期权，节日福...         腾讯互娱       游戏   \n",
       "\n",
       "   stage population city  \n",
       "0    已上市   10000人以上   深圳  \n",
       "1  不需要融资   10000人以上   深圳  "
      ]
     },
     "execution_count": 7,
     "metadata": {},
     "output_type": "execute_result"
    }
   ],
   "source": [
    "df['city']=df['job_area'].apply(extract_city)\n",
    "df.head(2)"
   ]
  },
  {
   "cell_type": "markdown",
   "metadata": {},
   "source": [
    "## 3. 三个字段公用一个apply函数\n",
    "- salary\n",
    "- experience\n",
    "- population\n",
    "----\n",
    "步骤:\n",
    "1. 正则表达式抽取出数字列表\n",
    "2. 求均值"
   ]
  },
  {
   "cell_type": "code",
   "execution_count": 8,
   "metadata": {},
   "outputs": [
    {
     "data": {
      "text/plain": [
       "650.0"
      ]
     },
     "execution_count": 8,
     "metadata": {},
     "output_type": "execute_result"
    }
   ],
   "source": [
    "import re\n",
    "\n",
    "text = '300-1000人'\n",
    "\n",
    "def avg(text):\n",
    "    nums = re.findall('\\d+', text)\n",
    "    nums = [float(x) for x in nums]\n",
    "    if nums:\n",
    "        return np.mean(nums)\n",
    "    else:\n",
    "        return 0\n",
    "\n",
    "    \n",
    "avg('300-1000人')"
   ]
  },
  {
   "cell_type": "markdown",
   "metadata": {},
   "source": [
    "## 4. 薪资\n",
    "salary"
   ]
  },
  {
   "cell_type": "code",
   "execution_count": 9,
   "metadata": {},
   "outputs": [
    {
     "data": {
      "text/html": [
       "<div>\n",
       "<style scoped>\n",
       "    .dataframe tbody tr th:only-of-type {\n",
       "        vertical-align: middle;\n",
       "    }\n",
       "\n",
       "    .dataframe tbody tr th {\n",
       "        vertical-align: top;\n",
       "    }\n",
       "\n",
       "    .dataframe thead th {\n",
       "        text-align: right;\n",
       "    }\n",
       "</style>\n",
       "<table border=\"1\" class=\"dataframe\">\n",
       "  <thead>\n",
       "    <tr style=\"text-align: right;\">\n",
       "      <th></th>\n",
       "      <th>job_name</th>\n",
       "      <th>job_area</th>\n",
       "      <th>salary</th>\n",
       "      <th>experience</th>\n",
       "      <th>edu</th>\n",
       "      <th>skill</th>\n",
       "      <th>welfare</th>\n",
       "      <th>company_name</th>\n",
       "      <th>industry</th>\n",
       "      <th>stage</th>\n",
       "      <th>population</th>\n",
       "      <th>city</th>\n",
       "      <th>new_salary</th>\n",
       "    </tr>\n",
       "  </thead>\n",
       "  <tbody>\n",
       "    <tr>\n",
       "      <th>0</th>\n",
       "      <td>Python</td>\n",
       "      <td>深圳·南山区</td>\n",
       "      <td>13-22K</td>\n",
       "      <td>1-3年</td>\n",
       "      <td>本科</td>\n",
       "      <td>Go Linux C++ 熟悉http 常用数据库</td>\n",
       "      <td>包吃，股票期权，年终奖，定期体检，餐补，员工旅游，带薪年假，补充医疗保险，加班补助，免费班车...</td>\n",
       "      <td>腾讯</td>\n",
       "      <td>互联网</td>\n",
       "      <td>已上市</td>\n",
       "      <td>10000人以上</td>\n",
       "      <td>深圳</td>\n",
       "      <td>17.5</td>\n",
       "    </tr>\n",
       "    <tr>\n",
       "      <th>1</th>\n",
       "      <td>Python</td>\n",
       "      <td>深圳·南山区</td>\n",
       "      <td>15-30K</td>\n",
       "      <td>3-5年</td>\n",
       "      <td>本科</td>\n",
       "      <td>Django 分布式技术 GIT Redis Linux</td>\n",
       "      <td>餐补，五险一金，员工旅游，补充医疗保险，免费班车，带薪年假，全勤奖，年终奖，股票期权，节日福...</td>\n",
       "      <td>腾讯互娱</td>\n",
       "      <td>游戏</td>\n",
       "      <td>不需要融资</td>\n",
       "      <td>10000人以上</td>\n",
       "      <td>深圳</td>\n",
       "      <td>22.5</td>\n",
       "    </tr>\n",
       "  </tbody>\n",
       "</table>\n",
       "</div>"
      ],
      "text/plain": [
       "  job_name job_area  salary experience edu                         skill  \\\n",
       "0   Python   深圳·南山区  13-22K       1-3年  本科     Go Linux C++ 熟悉http 常用数据库   \n",
       "1   Python   深圳·南山区  15-30K       3-5年  本科  Django 分布式技术 GIT Redis Linux   \n",
       "\n",
       "                                             welfare company_name industry  \\\n",
       "0  包吃，股票期权，年终奖，定期体检，餐补，员工旅游，带薪年假，补充医疗保险，加班补助，免费班车...           腾讯      互联网   \n",
       "1  餐补，五险一金，员工旅游，补充医疗保险，免费班车，带薪年假，全勤奖，年终奖，股票期权，节日福...         腾讯互娱       游戏   \n",
       "\n",
       "   stage population city  new_salary  \n",
       "0    已上市   10000人以上   深圳        17.5  \n",
       "1  不需要融资   10000人以上   深圳        22.5  "
      ]
     },
     "execution_count": 9,
     "metadata": {},
     "output_type": "execute_result"
    }
   ],
   "source": [
    "df['new_salary'] = df['salary'].apply(avg)\n",
    "df.head(2)"
   ]
  },
  {
   "cell_type": "markdown",
   "metadata": {},
   "source": [
    "## 5. 工作年限\n",
    "experience"
   ]
  },
  {
   "cell_type": "code",
   "execution_count": 10,
   "metadata": {},
   "outputs": [
    {
     "data": {
      "text/plain": [
       "0      2.0\n",
       "1      4.0\n",
       "2      0.0\n",
       "3      7.5\n",
       "4      4.0\n",
       "      ... \n",
       "351    4.0\n",
       "352    2.0\n",
       "353    6.0\n",
       "354    4.0\n",
       "355    0.0\n",
       "Name: experience, Length: 356, dtype: float64"
      ]
     },
     "execution_count": 10,
     "metadata": {},
     "output_type": "execute_result"
    }
   ],
   "source": [
    "df['experience'].apply(avg)"
   ]
  },
  {
   "cell_type": "code",
   "execution_count": 11,
   "metadata": {},
   "outputs": [
    {
     "data": {
      "text/html": [
       "<div>\n",
       "<style scoped>\n",
       "    .dataframe tbody tr th:only-of-type {\n",
       "        vertical-align: middle;\n",
       "    }\n",
       "\n",
       "    .dataframe tbody tr th {\n",
       "        vertical-align: top;\n",
       "    }\n",
       "\n",
       "    .dataframe thead th {\n",
       "        text-align: right;\n",
       "    }\n",
       "</style>\n",
       "<table border=\"1\" class=\"dataframe\">\n",
       "  <thead>\n",
       "    <tr style=\"text-align: right;\">\n",
       "      <th></th>\n",
       "      <th>job_name</th>\n",
       "      <th>job_area</th>\n",
       "      <th>salary</th>\n",
       "      <th>experience</th>\n",
       "      <th>edu</th>\n",
       "      <th>skill</th>\n",
       "      <th>welfare</th>\n",
       "      <th>company_name</th>\n",
       "      <th>industry</th>\n",
       "      <th>stage</th>\n",
       "      <th>population</th>\n",
       "      <th>city</th>\n",
       "      <th>new_salary</th>\n",
       "      <th>new_experience</th>\n",
       "    </tr>\n",
       "  </thead>\n",
       "  <tbody>\n",
       "    <tr>\n",
       "      <th>0</th>\n",
       "      <td>Python</td>\n",
       "      <td>深圳·南山区</td>\n",
       "      <td>13-22K</td>\n",
       "      <td>1-3年</td>\n",
       "      <td>本科</td>\n",
       "      <td>Go Linux C++ 熟悉http 常用数据库</td>\n",
       "      <td>包吃，股票期权，年终奖，定期体检，餐补，员工旅游，带薪年假，补充医疗保险，加班补助，免费班车...</td>\n",
       "      <td>腾讯</td>\n",
       "      <td>互联网</td>\n",
       "      <td>已上市</td>\n",
       "      <td>10000人以上</td>\n",
       "      <td>深圳</td>\n",
       "      <td>17.5</td>\n",
       "      <td>2.0</td>\n",
       "    </tr>\n",
       "    <tr>\n",
       "      <th>1</th>\n",
       "      <td>Python</td>\n",
       "      <td>深圳·南山区</td>\n",
       "      <td>15-30K</td>\n",
       "      <td>3-5年</td>\n",
       "      <td>本科</td>\n",
       "      <td>Django 分布式技术 GIT Redis Linux</td>\n",
       "      <td>餐补，五险一金，员工旅游，补充医疗保险，免费班车，带薪年假，全勤奖，年终奖，股票期权，节日福...</td>\n",
       "      <td>腾讯互娱</td>\n",
       "      <td>游戏</td>\n",
       "      <td>不需要融资</td>\n",
       "      <td>10000人以上</td>\n",
       "      <td>深圳</td>\n",
       "      <td>22.5</td>\n",
       "      <td>4.0</td>\n",
       "    </tr>\n",
       "  </tbody>\n",
       "</table>\n",
       "</div>"
      ],
      "text/plain": [
       "  job_name job_area  salary experience edu                         skill  \\\n",
       "0   Python   深圳·南山区  13-22K       1-3年  本科     Go Linux C++ 熟悉http 常用数据库   \n",
       "1   Python   深圳·南山区  15-30K       3-5年  本科  Django 分布式技术 GIT Redis Linux   \n",
       "\n",
       "                                             welfare company_name industry  \\\n",
       "0  包吃，股票期权，年终奖，定期体检，餐补，员工旅游，带薪年假，补充医疗保险，加班补助，免费班车...           腾讯      互联网   \n",
       "1  餐补，五险一金，员工旅游，补充医疗保险，免费班车，带薪年假，全勤奖，年终奖，股票期权，节日福...         腾讯互娱       游戏   \n",
       "\n",
       "   stage population city  new_salary  new_experience  \n",
       "0    已上市   10000人以上   深圳        17.5             2.0  \n",
       "1  不需要融资   10000人以上   深圳        22.5             4.0  "
      ]
     },
     "execution_count": 11,
     "metadata": {},
     "output_type": "execute_result"
    }
   ],
   "source": [
    "df['new_experience'] = df['experience'].apply(avg)\n",
    "df.head(2)"
   ]
  },
  {
   "cell_type": "markdown",
   "metadata": {},
   "source": [
    "## 6. 员工人数\n",
    "population"
   ]
  },
  {
   "cell_type": "code",
   "execution_count": 12,
   "metadata": {},
   "outputs": [
    {
     "data": {
      "text/plain": [
       "0      10000.0\n",
       "1      10000.0\n",
       "2      10000.0\n",
       "3      10000.0\n",
       "4      10000.0\n",
       "        ...   \n",
       "351      299.5\n",
       "352       59.5\n",
       "353       59.5\n",
       "354      299.5\n",
       "355       10.0\n",
       "Name: population, Length: 356, dtype: float64"
      ]
     },
     "execution_count": 12,
     "metadata": {},
     "output_type": "execute_result"
    }
   ],
   "source": [
    "df['population'].apply(avg)"
   ]
  },
  {
   "cell_type": "code",
   "execution_count": 13,
   "metadata": {},
   "outputs": [
    {
     "data": {
      "text/html": [
       "<div>\n",
       "<style scoped>\n",
       "    .dataframe tbody tr th:only-of-type {\n",
       "        vertical-align: middle;\n",
       "    }\n",
       "\n",
       "    .dataframe tbody tr th {\n",
       "        vertical-align: top;\n",
       "    }\n",
       "\n",
       "    .dataframe thead th {\n",
       "        text-align: right;\n",
       "    }\n",
       "</style>\n",
       "<table border=\"1\" class=\"dataframe\">\n",
       "  <thead>\n",
       "    <tr style=\"text-align: right;\">\n",
       "      <th></th>\n",
       "      <th>job_name</th>\n",
       "      <th>job_area</th>\n",
       "      <th>salary</th>\n",
       "      <th>experience</th>\n",
       "      <th>edu</th>\n",
       "      <th>skill</th>\n",
       "      <th>welfare</th>\n",
       "      <th>company_name</th>\n",
       "      <th>industry</th>\n",
       "      <th>stage</th>\n",
       "      <th>population</th>\n",
       "      <th>city</th>\n",
       "      <th>new_salary</th>\n",
       "      <th>new_experience</th>\n",
       "      <th>new_population</th>\n",
       "    </tr>\n",
       "  </thead>\n",
       "  <tbody>\n",
       "    <tr>\n",
       "      <th>0</th>\n",
       "      <td>Python</td>\n",
       "      <td>深圳·南山区</td>\n",
       "      <td>13-22K</td>\n",
       "      <td>1-3年</td>\n",
       "      <td>本科</td>\n",
       "      <td>Go Linux C++ 熟悉http 常用数据库</td>\n",
       "      <td>包吃，股票期权，年终奖，定期体检，餐补，员工旅游，带薪年假，补充医疗保险，加班补助，免费班车...</td>\n",
       "      <td>腾讯</td>\n",
       "      <td>互联网</td>\n",
       "      <td>已上市</td>\n",
       "      <td>10000人以上</td>\n",
       "      <td>深圳</td>\n",
       "      <td>17.5</td>\n",
       "      <td>2.0</td>\n",
       "      <td>10000.0</td>\n",
       "    </tr>\n",
       "    <tr>\n",
       "      <th>1</th>\n",
       "      <td>Python</td>\n",
       "      <td>深圳·南山区</td>\n",
       "      <td>15-30K</td>\n",
       "      <td>3-5年</td>\n",
       "      <td>本科</td>\n",
       "      <td>Django 分布式技术 GIT Redis Linux</td>\n",
       "      <td>餐补，五险一金，员工旅游，补充医疗保险，免费班车，带薪年假，全勤奖，年终奖，股票期权，节日福...</td>\n",
       "      <td>腾讯互娱</td>\n",
       "      <td>游戏</td>\n",
       "      <td>不需要融资</td>\n",
       "      <td>10000人以上</td>\n",
       "      <td>深圳</td>\n",
       "      <td>22.5</td>\n",
       "      <td>4.0</td>\n",
       "      <td>10000.0</td>\n",
       "    </tr>\n",
       "  </tbody>\n",
       "</table>\n",
       "</div>"
      ],
      "text/plain": [
       "  job_name job_area  salary experience edu                         skill  \\\n",
       "0   Python   深圳·南山区  13-22K       1-3年  本科     Go Linux C++ 熟悉http 常用数据库   \n",
       "1   Python   深圳·南山区  15-30K       3-5年  本科  Django 分布式技术 GIT Redis Linux   \n",
       "\n",
       "                                             welfare company_name industry  \\\n",
       "0  包吃，股票期权，年终奖，定期体检，餐补，员工旅游，带薪年假，补充医疗保险，加班补助，免费班车...           腾讯      互联网   \n",
       "1  餐补，五险一金，员工旅游，补充医疗保险，免费班车，带薪年假，全勤奖，年终奖，股票期权，节日福...         腾讯互娱       游戏   \n",
       "\n",
       "   stage population city  new_salary  new_experience  new_population  \n",
       "0    已上市   10000人以上   深圳        17.5             2.0         10000.0  \n",
       "1  不需要融资   10000人以上   深圳        22.5             4.0         10000.0  "
      ]
     },
     "execution_count": 13,
     "metadata": {},
     "output_type": "execute_result"
    }
   ],
   "source": [
    "df['new_population'] = df['population'].apply(avg)\n",
    "df.head(2)"
   ]
  },
  {
   "cell_type": "markdown",
   "metadata": {},
   "source": [
    "## 7. 教育\n",
    "1. 设计一个函数，出现正规学历，返回True(包括”不限“)\n",
    "2. 使用逻辑索引，把正规学历的招聘信息都保留"
   ]
  },
  {
   "cell_type": "code",
   "execution_count": 14,
   "metadata": {},
   "outputs": [
    {
     "data": {
      "text/plain": [
       "array(['本科', '博士', '硕士', '大专', '不限', 'edu', '6个月', '3个月', '7个月', '4天/周'],\n",
       "      dtype=object)"
      ]
     },
     "execution_count": 14,
     "metadata": {},
     "output_type": "execute_result"
    }
   ],
   "source": [
    "df['edu'].unique()"
   ]
  },
  {
   "cell_type": "code",
   "execution_count": 15,
   "metadata": {},
   "outputs": [
    {
     "data": {
      "text/plain": [
       "True"
      ]
     },
     "execution_count": 15,
     "metadata": {},
     "output_type": "execute_result"
    }
   ],
   "source": [
    "def edu_bool(level):\n",
    "    if level in ['本科', '博士', '硕士', '大专', '不限']:\n",
    "        return True\n",
    "    else:\n",
    "        return False\n",
    "    \n",
    "edu_bool('博士')"
   ]
  },
  {
   "cell_type": "code",
   "execution_count": 16,
   "metadata": {},
   "outputs": [
    {
     "data": {
      "text/html": [
       "<div>\n",
       "<style scoped>\n",
       "    .dataframe tbody tr th:only-of-type {\n",
       "        vertical-align: middle;\n",
       "    }\n",
       "\n",
       "    .dataframe tbody tr th {\n",
       "        vertical-align: top;\n",
       "    }\n",
       "\n",
       "    .dataframe thead th {\n",
       "        text-align: right;\n",
       "    }\n",
       "</style>\n",
       "<table border=\"1\" class=\"dataframe\">\n",
       "  <thead>\n",
       "    <tr style=\"text-align: right;\">\n",
       "      <th></th>\n",
       "      <th>job_name</th>\n",
       "      <th>job_area</th>\n",
       "      <th>salary</th>\n",
       "      <th>experience</th>\n",
       "      <th>edu</th>\n",
       "      <th>skill</th>\n",
       "      <th>welfare</th>\n",
       "      <th>company_name</th>\n",
       "      <th>industry</th>\n",
       "      <th>stage</th>\n",
       "      <th>population</th>\n",
       "      <th>city</th>\n",
       "      <th>new_salary</th>\n",
       "      <th>new_experience</th>\n",
       "      <th>new_population</th>\n",
       "      <th>Edu_bool</th>\n",
       "    </tr>\n",
       "  </thead>\n",
       "  <tbody>\n",
       "    <tr>\n",
       "      <th>0</th>\n",
       "      <td>Python</td>\n",
       "      <td>深圳·南山区</td>\n",
       "      <td>13-22K</td>\n",
       "      <td>1-3年</td>\n",
       "      <td>本科</td>\n",
       "      <td>Go Linux C++ 熟悉http 常用数据库</td>\n",
       "      <td>包吃，股票期权，年终奖，定期体检，餐补，员工旅游，带薪年假，补充医疗保险，加班补助，免费班车...</td>\n",
       "      <td>腾讯</td>\n",
       "      <td>互联网</td>\n",
       "      <td>已上市</td>\n",
       "      <td>10000人以上</td>\n",
       "      <td>深圳</td>\n",
       "      <td>17.5</td>\n",
       "      <td>2.0</td>\n",
       "      <td>10000.0</td>\n",
       "      <td>True</td>\n",
       "    </tr>\n",
       "    <tr>\n",
       "      <th>1</th>\n",
       "      <td>Python</td>\n",
       "      <td>深圳·南山区</td>\n",
       "      <td>15-30K</td>\n",
       "      <td>3-5年</td>\n",
       "      <td>本科</td>\n",
       "      <td>Django 分布式技术 GIT Redis Linux</td>\n",
       "      <td>餐补，五险一金，员工旅游，补充医疗保险，免费班车，带薪年假，全勤奖，年终奖，股票期权，节日福...</td>\n",
       "      <td>腾讯互娱</td>\n",
       "      <td>游戏</td>\n",
       "      <td>不需要融资</td>\n",
       "      <td>10000人以上</td>\n",
       "      <td>深圳</td>\n",
       "      <td>22.5</td>\n",
       "      <td>4.0</td>\n",
       "      <td>10000.0</td>\n",
       "      <td>True</td>\n",
       "    </tr>\n",
       "  </tbody>\n",
       "</table>\n",
       "</div>"
      ],
      "text/plain": [
       "  job_name job_area  salary experience edu                         skill  \\\n",
       "0   Python   深圳·南山区  13-22K       1-3年  本科     Go Linux C++ 熟悉http 常用数据库   \n",
       "1   Python   深圳·南山区  15-30K       3-5年  本科  Django 分布式技术 GIT Redis Linux   \n",
       "\n",
       "                                             welfare company_name industry  \\\n",
       "0  包吃，股票期权，年终奖，定期体检，餐补，员工旅游，带薪年假，补充医疗保险，加班补助，免费班车...           腾讯      互联网   \n",
       "1  餐补，五险一金，员工旅游，补充医疗保险，免费班车，带薪年假，全勤奖，年终奖，股票期权，节日福...         腾讯互娱       游戏   \n",
       "\n",
       "   stage population city  new_salary  new_experience  new_population  Edu_bool  \n",
       "0    已上市   10000人以上   深圳        17.5             2.0         10000.0      True  \n",
       "1  不需要融资   10000人以上   深圳        22.5             4.0         10000.0      True  "
      ]
     },
     "execution_count": 16,
     "metadata": {},
     "output_type": "execute_result"
    }
   ],
   "source": [
    "df['Edu_bool'] =  df['edu'].apply(edu_bool)\n",
    "df.head(2)"
   ]
  },
  {
   "cell_type": "code",
   "execution_count": 17,
   "metadata": {},
   "outputs": [
    {
     "data": {
      "text/html": [
       "<div>\n",
       "<style scoped>\n",
       "    .dataframe tbody tr th:only-of-type {\n",
       "        vertical-align: middle;\n",
       "    }\n",
       "\n",
       "    .dataframe tbody tr th {\n",
       "        vertical-align: top;\n",
       "    }\n",
       "\n",
       "    .dataframe thead th {\n",
       "        text-align: right;\n",
       "    }\n",
       "</style>\n",
       "<table border=\"1\" class=\"dataframe\">\n",
       "  <thead>\n",
       "    <tr style=\"text-align: right;\">\n",
       "      <th></th>\n",
       "      <th>job_name</th>\n",
       "      <th>job_area</th>\n",
       "      <th>salary</th>\n",
       "      <th>experience</th>\n",
       "      <th>edu</th>\n",
       "      <th>skill</th>\n",
       "      <th>welfare</th>\n",
       "      <th>company_name</th>\n",
       "      <th>industry</th>\n",
       "      <th>stage</th>\n",
       "      <th>population</th>\n",
       "      <th>city</th>\n",
       "      <th>new_salary</th>\n",
       "      <th>new_experience</th>\n",
       "      <th>new_population</th>\n",
       "      <th>Edu_bool</th>\n",
       "    </tr>\n",
       "  </thead>\n",
       "  <tbody>\n",
       "    <tr>\n",
       "      <th>0</th>\n",
       "      <td>Python</td>\n",
       "      <td>深圳·南山区</td>\n",
       "      <td>13-22K</td>\n",
       "      <td>1-3年</td>\n",
       "      <td>本科</td>\n",
       "      <td>Go Linux C++ 熟悉http 常用数据库</td>\n",
       "      <td>包吃，股票期权，年终奖，定期体检，餐补，员工旅游，带薪年假，补充医疗保险，加班补助，免费班车...</td>\n",
       "      <td>腾讯</td>\n",
       "      <td>互联网</td>\n",
       "      <td>已上市</td>\n",
       "      <td>10000人以上</td>\n",
       "      <td>深圳</td>\n",
       "      <td>17.5</td>\n",
       "      <td>2.0</td>\n",
       "      <td>10000.0</td>\n",
       "      <td>True</td>\n",
       "    </tr>\n",
       "    <tr>\n",
       "      <th>1</th>\n",
       "      <td>Python</td>\n",
       "      <td>深圳·南山区</td>\n",
       "      <td>15-30K</td>\n",
       "      <td>3-5年</td>\n",
       "      <td>本科</td>\n",
       "      <td>Django 分布式技术 GIT Redis Linux</td>\n",
       "      <td>餐补，五险一金，员工旅游，补充医疗保险，免费班车，带薪年假，全勤奖，年终奖，股票期权，节日福...</td>\n",
       "      <td>腾讯互娱</td>\n",
       "      <td>游戏</td>\n",
       "      <td>不需要融资</td>\n",
       "      <td>10000人以上</td>\n",
       "      <td>深圳</td>\n",
       "      <td>22.5</td>\n",
       "      <td>4.0</td>\n",
       "      <td>10000.0</td>\n",
       "      <td>True</td>\n",
       "    </tr>\n",
       "  </tbody>\n",
       "</table>\n",
       "</div>"
      ],
      "text/plain": [
       "  job_name job_area  salary experience edu                         skill  \\\n",
       "0   Python   深圳·南山区  13-22K       1-3年  本科     Go Linux C++ 熟悉http 常用数据库   \n",
       "1   Python   深圳·南山区  15-30K       3-5年  本科  Django 分布式技术 GIT Redis Linux   \n",
       "\n",
       "                                             welfare company_name industry  \\\n",
       "0  包吃，股票期权，年终奖，定期体检，餐补，员工旅游，带薪年假，补充医疗保险，加班补助，免费班车...           腾讯      互联网   \n",
       "1  餐补，五险一金，员工旅游，补充医疗保险，免费班车，带薪年假，全勤奖，年终奖，股票期权，节日福...         腾讯互娱       游戏   \n",
       "\n",
       "   stage population city  new_salary  new_experience  new_population  Edu_bool  \n",
       "0    已上市   10000人以上   深圳        17.5             2.0         10000.0      True  \n",
       "1  不需要融资   10000人以上   深圳        22.5             4.0         10000.0      True  "
      ]
     },
     "execution_count": 17,
     "metadata": {},
     "output_type": "execute_result"
    }
   ],
   "source": [
    "# 逻辑索引\n",
    "new_df = df[df['Edu_bool']==True]\n",
    "new_df.head(2)"
   ]
  },
  {
   "cell_type": "markdown",
   "metadata": {},
   "source": [
    "## 8. 城市/薪酬关系\n",
    "city/salary\n",
    "\n",
    "会用到df.groupby"
   ]
  },
  {
   "cell_type": "code",
   "execution_count": 18,
   "metadata": {},
   "outputs": [
    {
     "data": {
      "text/html": [
       "<div>\n",
       "<style scoped>\n",
       "    .dataframe tbody tr th:only-of-type {\n",
       "        vertical-align: middle;\n",
       "    }\n",
       "\n",
       "    .dataframe tbody tr th {\n",
       "        vertical-align: top;\n",
       "    }\n",
       "\n",
       "    .dataframe thead th {\n",
       "        text-align: right;\n",
       "    }\n",
       "</style>\n",
       "<table border=\"1\" class=\"dataframe\">\n",
       "  <thead>\n",
       "    <tr style=\"text-align: right;\">\n",
       "      <th></th>\n",
       "      <th>new_salary</th>\n",
       "      <th>new_experience</th>\n",
       "      <th>new_population</th>\n",
       "      <th>Edu_bool</th>\n",
       "    </tr>\n",
       "    <tr>\n",
       "      <th>city</th>\n",
       "      <th></th>\n",
       "      <th></th>\n",
       "      <th></th>\n",
       "      <th></th>\n",
       "    </tr>\n",
       "  </thead>\n",
       "  <tbody>\n",
       "    <tr>\n",
       "      <th>上海</th>\n",
       "      <td>17.107018</td>\n",
       "      <td>2.947368</td>\n",
       "      <td>1842.657895</td>\n",
       "      <td>True</td>\n",
       "    </tr>\n",
       "    <tr>\n",
       "      <th>北京</th>\n",
       "      <td>22.998016</td>\n",
       "      <td>3.398810</td>\n",
       "      <td>5033.702381</td>\n",
       "      <td>True</td>\n",
       "    </tr>\n",
       "    <tr>\n",
       "      <th>广州</th>\n",
       "      <td>13.878136</td>\n",
       "      <td>2.650538</td>\n",
       "      <td>1637.827957</td>\n",
       "      <td>True</td>\n",
       "    </tr>\n",
       "    <tr>\n",
       "      <th>深圳</th>\n",
       "      <td>19.234649</td>\n",
       "      <td>3.690789</td>\n",
       "      <td>4290.500000</td>\n",
       "      <td>True</td>\n",
       "    </tr>\n",
       "  </tbody>\n",
       "</table>\n",
       "</div>"
      ],
      "text/plain": [
       "      new_salary  new_experience  new_population  Edu_bool\n",
       "city                                                      \n",
       "上海     17.107018        2.947368     1842.657895      True\n",
       "北京     22.998016        3.398810     5033.702381      True\n",
       "广州     13.878136        2.650538     1637.827957      True\n",
       "深圳     19.234649        3.690789     4290.500000      True"
      ]
     },
     "execution_count": 18,
     "metadata": {},
     "output_type": "execute_result"
    }
   ],
   "source": [
    "new_df.groupby('city').mean()"
   ]
  },
  {
   "cell_type": "markdown",
   "metadata": {},
   "source": [
    "## 9. 学历/薪酬关系\n",
    "edu/salary\n",
    "\n",
    "会用到df.groupby"
   ]
  },
  {
   "cell_type": "code",
   "execution_count": 19,
   "metadata": {},
   "outputs": [
    {
     "data": {
      "text/html": [
       "<div>\n",
       "<style scoped>\n",
       "    .dataframe tbody tr th:only-of-type {\n",
       "        vertical-align: middle;\n",
       "    }\n",
       "\n",
       "    .dataframe tbody tr th {\n",
       "        vertical-align: top;\n",
       "    }\n",
       "\n",
       "    .dataframe thead th {\n",
       "        text-align: right;\n",
       "    }\n",
       "</style>\n",
       "<table border=\"1\" class=\"dataframe\">\n",
       "  <thead>\n",
       "    <tr style=\"text-align: right;\">\n",
       "      <th></th>\n",
       "      <th>new_salary</th>\n",
       "      <th>new_experience</th>\n",
       "      <th>new_population</th>\n",
       "      <th>Edu_bool</th>\n",
       "    </tr>\n",
       "    <tr>\n",
       "      <th>edu</th>\n",
       "      <th></th>\n",
       "      <th></th>\n",
       "      <th></th>\n",
       "      <th></th>\n",
       "    </tr>\n",
       "  </thead>\n",
       "  <tbody>\n",
       "    <tr>\n",
       "      <th>不限</th>\n",
       "      <td>11.055556</td>\n",
       "      <td>1.222222</td>\n",
       "      <td>83.000000</td>\n",
       "      <td>True</td>\n",
       "    </tr>\n",
       "    <tr>\n",
       "      <th>博士</th>\n",
       "      <td>23.750000</td>\n",
       "      <td>0.000000</td>\n",
       "      <td>10000.000000</td>\n",
       "      <td>True</td>\n",
       "    </tr>\n",
       "    <tr>\n",
       "      <th>大专</th>\n",
       "      <td>14.528986</td>\n",
       "      <td>2.923913</td>\n",
       "      <td>1267.847826</td>\n",
       "      <td>True</td>\n",
       "    </tr>\n",
       "    <tr>\n",
       "      <th>本科</th>\n",
       "      <td>19.001799</td>\n",
       "      <td>3.311151</td>\n",
       "      <td>3492.465827</td>\n",
       "      <td>True</td>\n",
       "    </tr>\n",
       "    <tr>\n",
       "      <th>硕士</th>\n",
       "      <td>28.041667</td>\n",
       "      <td>3.875000</td>\n",
       "      <td>6389.750000</td>\n",
       "      <td>True</td>\n",
       "    </tr>\n",
       "  </tbody>\n",
       "</table>\n",
       "</div>"
      ],
      "text/plain": [
       "     new_salary  new_experience  new_population  Edu_bool\n",
       "edu                                                      \n",
       "不限    11.055556        1.222222       83.000000      True\n",
       "博士    23.750000        0.000000    10000.000000      True\n",
       "大专    14.528986        2.923913     1267.847826      True\n",
       "本科    19.001799        3.311151     3492.465827      True\n",
       "硕士    28.041667        3.875000     6389.750000      True"
      ]
     },
     "execution_count": 19,
     "metadata": {},
     "output_type": "execute_result"
    }
   ],
   "source": [
    "new_df.groupby('edu').mean()"
   ]
  },
  {
   "cell_type": "markdown",
   "metadata": {},
   "source": [
    "## 10. 城市/学历/薪酬关系\n",
    "透视表\n",
    "\n",
    "pd.pivot_table(df, index, columns, values, aggfunc, margins)"
   ]
  },
  {
   "cell_type": "code",
   "execution_count": 20,
   "metadata": {},
   "outputs": [
    {
     "data": {
      "text/html": [
       "<div>\n",
       "<style scoped>\n",
       "    .dataframe tbody tr th:only-of-type {\n",
       "        vertical-align: middle;\n",
       "    }\n",
       "\n",
       "    .dataframe tbody tr th {\n",
       "        vertical-align: top;\n",
       "    }\n",
       "\n",
       "    .dataframe thead th {\n",
       "        text-align: right;\n",
       "    }\n",
       "</style>\n",
       "<table border=\"1\" class=\"dataframe\">\n",
       "  <thead>\n",
       "    <tr style=\"text-align: right;\">\n",
       "      <th>edu</th>\n",
       "      <th>不限</th>\n",
       "      <th>博士</th>\n",
       "      <th>大专</th>\n",
       "      <th>本科</th>\n",
       "      <th>硕士</th>\n",
       "      <th>All</th>\n",
       "    </tr>\n",
       "    <tr>\n",
       "      <th>city</th>\n",
       "      <th></th>\n",
       "      <th></th>\n",
       "      <th></th>\n",
       "      <th></th>\n",
       "      <th></th>\n",
       "      <th></th>\n",
       "    </tr>\n",
       "  </thead>\n",
       "  <tbody>\n",
       "    <tr>\n",
       "      <th>上海</th>\n",
       "      <td>15.375000</td>\n",
       "      <td>NaN</td>\n",
       "      <td>15.500000</td>\n",
       "      <td>17.569820</td>\n",
       "      <td>NaN</td>\n",
       "      <td>17.107018</td>\n",
       "    </tr>\n",
       "    <tr>\n",
       "      <th>北京</th>\n",
       "      <td>NaN</td>\n",
       "      <td>15.00</td>\n",
       "      <td>15.375000</td>\n",
       "      <td>23.232456</td>\n",
       "      <td>29.888889</td>\n",
       "      <td>22.998016</td>\n",
       "    </tr>\n",
       "    <tr>\n",
       "      <th>广州</th>\n",
       "      <td>6.800000</td>\n",
       "      <td>NaN</td>\n",
       "      <td>13.797101</td>\n",
       "      <td>15.088889</td>\n",
       "      <td>NaN</td>\n",
       "      <td>13.878136</td>\n",
       "    </tr>\n",
       "    <tr>\n",
       "      <th>深圳</th>\n",
       "      <td>17.375000</td>\n",
       "      <td>32.50</td>\n",
       "      <td>13.000000</td>\n",
       "      <td>19.284314</td>\n",
       "      <td>22.500000</td>\n",
       "      <td>19.234649</td>\n",
       "    </tr>\n",
       "    <tr>\n",
       "      <th>All</th>\n",
       "      <td>11.055556</td>\n",
       "      <td>23.75</td>\n",
       "      <td>14.528986</td>\n",
       "      <td>19.001799</td>\n",
       "      <td>28.041667</td>\n",
       "      <td>18.130747</td>\n",
       "    </tr>\n",
       "  </tbody>\n",
       "</table>\n",
       "</div>"
      ],
      "text/plain": [
       "edu          不限     博士         大专         本科         硕士        All\n",
       "city                                                              \n",
       "上海    15.375000    NaN  15.500000  17.569820        NaN  17.107018\n",
       "北京          NaN  15.00  15.375000  23.232456  29.888889  22.998016\n",
       "广州     6.800000    NaN  13.797101  15.088889        NaN  13.878136\n",
       "深圳    17.375000  32.50  13.000000  19.284314  22.500000  19.234649\n",
       "All   11.055556  23.75  14.528986  19.001799  28.041667  18.130747"
      ]
     },
     "execution_count": 20,
     "metadata": {},
     "output_type": "execute_result"
    }
   ],
   "source": [
    "pd.pivot_table(new_df, \n",
    "               index='city', \n",
    "               columns='edu', \n",
    "               values='new_salary', \n",
    "               aggfunc=np.mean, \n",
    "               margins=True)"
   ]
  },
  {
   "cell_type": "markdown",
   "metadata": {},
   "source": [
    "# 支持一下\n",
    "![](img/my_zanshang_qrcode.jpg)"
   ]
  },
  {
   "cell_type": "code",
   "execution_count": null,
   "metadata": {},
   "outputs": [],
   "source": []
  }
 ],
 "metadata": {
  "kernelspec": {
   "display_name": "Python 3",
   "language": "python",
   "name": "python3"
  },
  "language_info": {
   "codemirror_mode": {
    "name": "ipython",
    "version": 3
   },
   "file_extension": ".py",
   "mimetype": "text/x-python",
   "name": "python",
   "nbconvert_exporter": "python",
   "pygments_lexer": "ipython3",
   "version": "3.7.5"
  },
  "toc": {
   "base_numbering": 1,
   "nav_menu": {},
   "number_sections": false,
   "sideBar": true,
   "skip_h1_title": false,
   "title_cell": "Table of Contents",
   "title_sidebar": "Contents",
   "toc_cell": false,
   "toc_position": {},
   "toc_section_display": true,
   "toc_window_display": true
  },
  "varInspector": {
   "cols": {
    "lenName": 16,
    "lenType": 16,
    "lenVar": 40
   },
   "kernels_config": {
    "python": {
     "delete_cmd_postfix": "",
     "delete_cmd_prefix": "del ",
     "library": "var_list.py",
     "varRefreshCmd": "print(var_dic_list())"
    },
    "r": {
     "delete_cmd_postfix": ") ",
     "delete_cmd_prefix": "rm(",
     "library": "var_list.r",
     "varRefreshCmd": "cat(var_dic_list()) "
    }
   },
   "types_to_exclude": [
    "module",
    "function",
    "builtin_function_or_method",
    "instance",
    "_Feature"
   ],
   "window_display": false
  }
 },
 "nbformat": 4,
 "nbformat_minor": 4
}
