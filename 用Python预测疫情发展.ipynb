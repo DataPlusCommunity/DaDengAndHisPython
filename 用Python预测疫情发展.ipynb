{
 "cells": [
  {
   "cell_type": "markdown",
   "metadata": {
    "id": "93F99F70000E4023B6D1FCD31DF9681D",
    "jupyter": {},
    "mdEditEnable": false,
    "slideshow": {
     "slide_type": "slide"
    },
    "tags": []
   },
   "source": [
    "# 1.什么是传染病动力学？\n",
    "\n",
    "最近，在报道疫情的众多新闻中，相信大家也看到过一些来预测新型冠状病毒会导致感染肺炎的人数。你一定好奇，这个人数要怎么预测呢？预测人数又有什么用呢？\n",
    "\n",
    "事实上，从学科方向来说，这类研究属于传染病动力学，就是用数学模型去描述传染病在人群中传播的规律，从而预测患病人数，进而指导政府制定措施和政策去控制传染病的传播。\n",
    "这类研究最早可追溯到18世纪Daniel Bernoulli对天花的研究，而我们今天所要介绍的SIR模型是1927年Kermack与McKendrick在为了研究伦敦黑死病而提出的，是传染病动力学中最基础的模型。\n",
    "\n",
    "介绍了传染病模型的背景信息，不知道现在你对传染病模型更有兴趣，还是执着地对python更有兴趣呢？不论哪种，这篇文章会满足你所有的好奇心。\n",
    "\n",
    "我们开始吧！\n",
    "\n",
    "# 2.numpy和matplotlib\n",
    "\n",
    "首先，安装一下这节课我们需要使用的两个python包，numpy和matplotlib。\n",
    "numpy-是python进行科学和矩阵运算最常用的包。\n",
    "\n",
    "我们今天会用numpy建立一维数组，存储和计算每天传染病人数的数据。\n",
    "\n"
   ]
  },
  {
   "cell_type": "code",
   "execution_count": 7,
   "metadata": {
    "id": "160494B2AC87465BB9120E2A7F70F572",
    "jupyter": {},
    "scrolled": false,
    "slideshow": {
     "slide_type": "slide"
    },
    "tags": []
   },
   "outputs": [],
   "source": [
    "import numpy as np\n",
    "import matplotlib.pyplot as plt"
   ]
  },
  {
   "cell_type": "markdown",
   "metadata": {
    "id": "5DF928566F034663894CA1E5AAA519E4",
    "jupyter": {},
    "mdEditEnable": false,
    "slideshow": {
     "slide_type": "slide"
    },
    "tags": []
   },
   "source": [
    "我们今天会用matplotlib绘制传染病人数随天数变化的曲线，给出模型预测人数变化的直观认识。\n",
    "\n",
    "好啦，下面开始用python实现传染病模型吧。\n",
    "\n",
    "# 3.用python实现传染病模型\n",
    "\n",
    "为了让大家能够更好地理解，我们先不直接说SIR模型，我们从最简单的开始。\n",
    "\n",
    "## 3.1 SI模型\n",
    "\n",
    "首先想象这样一个场景，一个城市有$N$个人，假设没有人出生和死亡，忽然有一天有$I$个人感染了病毒成为了患者，如果每天每个患者能够有效传染 $\\lambda$个人，那么第二天患病人数是多少呢？\n",
    "\n",
    "最简单的答案是：$I+\\lambda I$ ，也就是说每天都会新增 $\\lambda I$个患者。那这样以来，在无限远的将来会有无穷多的人被感染，显然这是不合理的，那错在哪里？仔细思考，你一定发现了，已经患病的人就不能再被传染了，所以我们有必要把人群分为两类，易感者（S-susceptiable）和感染者（I-infective）（你猜的没错，这就是SIR中S和I的含义，R的含义之后介绍再讲）。\n",
    "\n",
    "为了之后方便计算我们记易感者和感染者在人群中的比例为 $i=I/N,s=S/N$，那么 $i+s=1$ 。\n",
    "\n",
    "我们重新考虑上面的问题，顺便来个示意图：\n",
    "\n",
    "![Image Name](https://cdn.kesci.com/upload/image/q5obotu3mt.jpeg)\n",
    "\n",
    "这样的话，每天新增的患者数为 $\\lambda \\times i N \\times s$ ,也就是总传染人数乘以易感者所占的人群比例。\n",
    "那么每天的感染者比例的增加量就是 $(\\lambda \\times i N \\times s) / N=\\lambda i s$。\n",
    "\n",
    "好啦，这样数学模型就建立完成了，是不是也没有想象的那么难？下面我们用python实现吧。\n",
    "\n",
    "首先用import语句导入包，注意对于matplotlib包我们运用点运算（.）只导入了它的子包pyplot.\n",
    "\n",
    "我们假设城市有一千万（N=10的7次方）人，每个患者每天接触感染每天0.8人（lamda=0.8），初始感染人数为45人(i0 = 45/N)，我们来模拟70天(T=70)的情况。\n",
    "\n"
   ]
  },
  {
   "cell_type": "code",
   "execution_count": 8,
   "metadata": {
    "id": "AF70AEADA93547A184418715E1561CC4",
    "jupyter": {},
    "scrolled": false,
    "slideshow": {
     "slide_type": "slide"
    },
    "tags": []
   },
   "outputs": [],
   "source": [
    "# population\n",
    "N = 1e7\n",
    "# simuation Time / Day\n",
    "T = 70"
   ]
  },
  {
   "cell_type": "code",
   "execution_count": 9,
   "metadata": {
    "id": "BA29C5728B5D46D3A9887932567902DB",
    "jupyter": {},
    "scrolled": false,
    "slideshow": {
     "slide_type": "slide"
    },
    "tags": []
   },
   "outputs": [],
   "source": [
    "# susceptiable ratio\n",
    "s = np.zeros([T])\n",
    "# infective ratio\n",
    "i = np.zeros([T])\n",
    "# contact rate\n",
    "lamda = 0.8\n",
    "\n",
    "# initial infective people\n",
    "i[0] = 45.0 / N\n",
    "\n",
    "for t in range(T-1):\n",
    "    i[t + 1] = i[t] + i[t] * lamda * (1.0 - i[t])"
   ]
  },
  {
   "cell_type": "markdown",
   "metadata": {
    "id": "76879A9CB080428991D9C2922ABB4DD8",
    "jupyter": {},
    "mdEditEnable": false,
    "slideshow": {
     "slide_type": "slide"
    },
    "tags": []
   },
   "source": [
    "相信其他语句大家都明白，新知识是这两行：\n",
    "\n",
    "```\n",
    "s = np.zeros([T])\n",
    "i = np.zeros([T])\n",
    "```\n",
    "\n",
    "这两句话的意思是一样的，就是利用numpy（已被我们重新命名为np）的函数（zeros()）来建立一个所有元素都是零的数组，而给的参数决定了这个数组的维度。比如："
   ]
  },
  {
   "cell_type": "code",
   "execution_count": 11,
   "metadata": {
    "id": "F5A5EC7D0EFB42D2A0532933D4783BBE",
    "jupyter": {},
    "scrolled": false,
    "slideshow": {
     "slide_type": "slide"
    },
    "tags": []
   },
   "outputs": [
    {
     "data": {
      "text/plain": [
       "array([[0., 0., 0.],\n",
       "       [0., 0., 0.]])"
      ]
     },
     "execution_count": 11,
     "metadata": {},
     "output_type": "execute_result"
    }
   ],
   "source": [
    "a = np.zeros([2,3])\n",
    "a"
   ]
  },
  {
   "cell_type": "code",
   "execution_count": 12,
   "metadata": {
    "id": "BD51288657B046C2818F261C9FBA9E68",
    "jupyter": {},
    "scrolled": false,
    "slideshow": {
     "slide_type": "slide"
    },
    "tags": []
   },
   "outputs": [
    {
     "data": {
      "text/plain": [
       "array([0., 0., 0., 0., 0.])"
      ]
     },
     "execution_count": 12,
     "metadata": {},
     "output_type": "execute_result"
    }
   ],
   "source": [
    "a = np.zeros([5])\n",
    "a"
   ]
  },
  {
   "cell_type": "markdown",
   "metadata": {
    "id": "18FB6AF65B404E31BA2D4C3B77E633DE",
    "jupyter": {},
    "mdEditEnable": false,
    "slideshow": {
     "slide_type": "slide"
    },
    "tags": []
   },
   "source": [
    "类似的还有产生元素全部是1的数组的函数np.ones()："
   ]
  },
  {
   "cell_type": "code",
   "execution_count": 13,
   "metadata": {
    "id": "A20FB0B2314149AC88799D5BF8B172BC",
    "jupyter": {},
    "scrolled": false,
    "slideshow": {
     "slide_type": "slide"
    },
    "tags": []
   },
   "outputs": [
    {
     "data": {
      "text/plain": [
       "array([1., 1., 1., 1., 1.])"
      ]
     },
     "execution_count": 13,
     "metadata": {},
     "output_type": "execute_result"
    }
   ],
   "source": [
    "a = np.ones([5])\n",
    "a"
   ]
  },
  {
   "cell_type": "code",
   "execution_count": 14,
   "metadata": {
    "id": "A4E0EC723C0F4640A66AC58B66E01677",
    "jupyter": {},
    "scrolled": false,
    "slideshow": {
     "slide_type": "slide"
    },
    "tags": []
   },
   "outputs": [
    {
     "data": {
      "text/plain": [
       "array([[1., 1., 1.],\n",
       "       [1., 1., 1.]])"
      ]
     },
     "execution_count": 14,
     "metadata": {},
     "output_type": "execute_result"
    }
   ],
   "source": [
    "a = np.ones([2,3])\n",
    "a"
   ]
  },
  {
   "cell_type": "code",
   "execution_count": 15,
   "metadata": {
    "id": "7DA69E4D158841378C048C2010DDAC21",
    "jupyter": {},
    "scrolled": false,
    "slideshow": {
     "slide_type": "slide"
    },
    "tags": []
   },
   "outputs": [
    {
     "data": {
      "text/plain": [
       "[<matplotlib.lines.Line2D at 0x7f0c2768d6d8>]"
      ]
     },
     "execution_count": 15,
     "metadata": {},
     "output_type": "execute_result"
    },
    {
     "data": {
      "text/html": [
       "<img src=\"https://cdn.kesci.com/rt_upload/7DA69E4D158841378C048C2010DDAC21/q5ocp8bty9.png\">"
      ],
      "text/plain": [
       "<Figure size 432x288 with 1 Axes>"
      ]
     },
     "metadata": {
      "needs_background": "light"
     },
     "output_type": "display_data"
    }
   ],
   "source": [
    "plt.plot(i)"
   ]
  },
  {
   "cell_type": "markdown",
   "metadata": {
    "id": "69580ADDA39E4B9EBFE022A576F37953",
    "jupyter": {},
    "mdEditEnable": false,
    "slideshow": {
     "slide_type": "slide"
    },
    "tags": []
   },
   "source": [
    "实现SI模型的核心代码是第三个cell的第11，12行：\n",
    "\n",
    "```\n",
    "for t in range(T-1):\n",
    "    i[t + 1] = i[t] + i[t] * lamda * (1.0 - i[t])\n",
    "```\n",
    "就是我们建立的数学模型，利用python的for循环语句累加迭代的方式把每天的增加量叠加到感染者比例上。\n",
    "\n",
    "运行代码完成计算，我们利用matplotlib的pyplot（已重命名为plt）来画出感染者的随天数的变化曲线："
   ]
  },
  {
   "cell_type": "code",
   "execution_count": 10,
   "metadata": {
    "id": "65F8BAC36C724EAA819509F3492BA821",
    "jupyter": {},
    "scrolled": false,
    "slideshow": {
     "slide_type": "slide"
    },
    "tags": []
   },
   "outputs": [
    {
     "data": {
      "text/html": [
       "<img src=\"https://cdn.kesci.com/rt_upload/65F8BAC36C724EAA819509F3492BA821/q5ocp57j0.png\">"
      ],
      "text/plain": [
       "<Figure size 576x288 with 1 Axes>"
      ]
     },
     "metadata": {
      "needs_background": "light"
     },
     "output_type": "display_data"
    }
   ],
   "source": [
    "fig, ax = plt.subplots(figsize=(8,4))\n",
    "ax.plot(i, c='r', lw=2)\n",
    "ax.set_xlabel('Day',fontsize=20)\n",
    "ax.set_ylabel('Infective Ratio', fontsize=20)\n",
    "ax.grid(1)\n",
    "plt.xticks(fontsize=20)\n",
    "plt.yticks(fontsize=20);"
   ]
  },
  {
   "cell_type": "markdown",
   "metadata": {
    "id": "013D96B32E1E4818A6840ED188E82D38",
    "jupyter": {},
    "mdEditEnable": false,
    "slideshow": {
     "slide_type": "slide"
    },
    "tags": []
   },
   "source": [
    "从这个结果看到，大约在25天左右，全部人群都会变成感染者，感染率$i=1$。\n",
    "在程序中我们假设每天每个患者传染0.8个人，你可以改变lamda的值，观察全部人群感染的天数的变化。\n",
    "认真思考你会知道，lamda的现实意义就是该城市的卫生水平，衡量的是消毒，隔离这些措施执行得怎么样。\n",
    "\n",
    "这段代码涉及到很多matplotlib中的画图和对图像进行设置的函数，我们今天只学习一句核心代码，其他的会在日后的课程中介绍。这句代码就是第二行：\n",
    "\n",
    "`ax.plot(i, c='r', lw=2)`\n",
    "\n",
    "就是利用plot()函数画一条曲线，数据为i（就是我们的感染率），颜色为c为'red'（'r'是符合规范的缩写），线宽（lw=2）。如果你想详细了解这个函数，可以利用help打开ax.plot()的帮助文档。\n",
    "\n",
    "回到传染病模型，按照SI模型计算的结果，我们全人类都会患病，这好可怕！原因是我们忽略了一个很重要的因素，那就是我们有奋斗在一线的医护人员，我们会被治愈！所以SI模型只适合研究具有高传染风险又不能被治愈的病（比如HIV）。\n",
    "\n",
    "但是对于其他病，我们是可以靠医疗和自身免疫系统康复的，那么紧接着的一个问题就是，被治愈后还会再被传染上嘛？根据这个问题的回答不同，我们有了两个不同的模型，SIR 和 SIS。现在可以揭晓，SIR的R的含义了，就是移出者（Removed），现实含义就是指被治愈后不会再被感染的人。 而SIS表示治愈后仍然还是易感者。下面我们用python来分别实现这两个模型。\n",
    "\n",
    "## 3.2 SIS模型\n",
    "\n",
    "为了实现这个模型，我们需要引入新的一个参数，治愈率$\\gamma$。好啦，先上我们的新示意图：\n",
    "\n",
    "![Image Name](https://cdn.kesci.com/upload/image/q5ocxz8i8q.jpg)\n",
    "\n",
    "和SI模型做比较，区别就是计算感染者的增加数时要减去被治愈的人数。\n",
    "所以这时候每天的增加的感染者为：$\\lambda \\times i N \\times s-\\gamma \\times i N$ ,\n",
    "增加的感染率为：$\\lambda \\times i \\times s-\\gamma i$ 。\n",
    "模型完成啦，修改python代码：\n"
   ]
  },
  {
   "cell_type": "code",
   "execution_count": 12,
   "metadata": {
    "id": "FF6E5DC632B447F185B2C5C249AB39B4",
    "jupyter": {},
    "scrolled": false,
    "slideshow": {
     "slide_type": "slide"
    },
    "tags": []
   },
   "outputs": [],
   "source": [
    "# susceptiable ratio\n",
    "s = np.zeros([T])\n",
    "# infective ratio\n",
    "i = np.zeros([T])\n",
    "\n",
    "# contact rate\n",
    "lamda = 1.0\n",
    "# recover rate\n",
    "gamma = 0.5 \n",
    "\n",
    "# initial infective people\n",
    "i[0] = 45.0 / N\n",
    "\n",
    "for t in range(T-1):\n",
    "    i[t + 1] = i[t] + i[t] * lamda * (1.0 - i[t]) - gamma*i[t]"
   ]
  },
  {
   "cell_type": "markdown",
   "metadata": {
    "id": "1923C55E50D6423780D3970268FEE7BB",
    "jupyter": {},
    "mdEditEnable": false,
    "slideshow": {
     "slide_type": "slide"
    },
    "tags": []
   },
   "source": [
    "运行代码，我们画出曲线（代码和SI模型的画图完全一样）："
   ]
  },
  {
   "cell_type": "code",
   "execution_count": 13,
   "metadata": {
    "id": "573113C045974BE286732F119EACB686",
    "jupyter": {},
    "scrolled": false,
    "slideshow": {
     "slide_type": "slide"
    },
    "tags": []
   },
   "outputs": [
    {
     "data": {
      "text/html": [
       "<img src=\"https://cdn.kesci.com/rt_upload/573113C045974BE286732F119EACB686/q5obd9whwp.png\">"
      ],
      "text/plain": [
       "<Figure size 576x288 with 1 Axes>"
      ]
     },
     "metadata": {
      "needs_background": "light"
     },
     "output_type": "display_data"
    }
   ],
   "source": [
    "fig, ax = plt.subplots(figsize=(8,4))\n",
    "ax.plot(i, c='r', lw=2)\n",
    "ax.set_xlabel('Day',fontsize=20)\n",
    "ax.set_ylabel('Infective Ratio', fontsize=20)\n",
    "ax.grid(1)\n",
    "plt.xticks(fontsize=20)\n",
    "plt.yticks(fontsize=20);"
   ]
  },
  {
   "cell_type": "markdown",
   "metadata": {
    "id": "A93AD4A2EBBE437585A2014DDA35A26C",
    "jupyter": {},
    "mdEditEnable": false,
    "slideshow": {
     "slide_type": "slide"
    },
    "tags": []
   },
   "source": [
    "运行代码，我们画出曲线（代码和SI模型的画图完全一样）\n",
    "可以看到，达到最大感染率的时间退后10天左右，最后感染和治愈达到动态平衡，人群中有始终有一半的人感染着。所以，SIS模型适合研究具有传染性和反复性的流行病，比如常见流感。同样的，感兴趣的话，改变lamda和gamma的值，观察曲线的变化。和lamda不同的是，gamma的现实意义就是对这种疾病的治疗水平。\n",
    "\n"
   ]
  },
  {
   "cell_type": "markdown",
   "metadata": {
    "id": "CAAA8C57FF374535B31EE17FEA333698",
    "jupyter": {},
    "mdEditEnable": false,
    "slideshow": {
     "slide_type": "slide"
    },
    "tags": []
   },
   "source": [
    "## 3.3 SIR模型"
   ]
  },
  {
   "cell_type": "markdown",
   "metadata": {
    "id": "8C63ED20C25F48D7884D4CAF1CCC92BD",
    "jupyter": {},
    "mdEditEnable": false,
    "slideshow": {
     "slide_type": "slide"
    },
    "tags": []
   },
   "source": [
    "加入了移出者，被治愈的病人不会再被传染，先上我们的新示意图：\n",
    "\n",
    "![Image Name](https://cdn.kesci.com/upload/image/q5od4caat1.jpg)\n",
    "\n",
    "\n",
    "SIR 模型\n",
    "注意到这里，人群被分成了三类，不再只有I和S，所以相比于之前的模型，我们需要找到新的约束关系。现在我们需要分别计算三种人每天的增加量了：\n",
    "\n",
    "* 易感者：每天都在被传染，所以一直在减少，减少量为被传染的人数：$\\lambda N i s$\n",
    "* 感染者：增加了被感染的人，减少了治愈的人： $\\lambda N i s-\\gamma N i$\n",
    "* 移出者：增加了治愈的人： $\\gamma N i$\n",
    "\n",
    "建模完成，修改python代码，并且假设人群普遍易感，新型疾病，初始没有移出者。\n",
    "\n"
   ]
  },
  {
   "cell_type": "code",
   "execution_count": 17,
   "metadata": {
    "id": "D931F87BBF834AA18369BFC50FCDD181",
    "jupyter": {},
    "scrolled": false,
    "slideshow": {
     "slide_type": "slide"
    },
    "tags": []
   },
   "outputs": [],
   "source": [
    "# population\n",
    "N = 1e7 + 10 + 5\n",
    "# simuation Time / Day\n",
    "T = 170\n",
    "# susceptiable ratio\n",
    "s = np.zeros([T])\n",
    "# infective ratio\n",
    "i = np.zeros([T])\n",
    "# remove ratio\n",
    "r = np.zeros([T])\n",
    "\n",
    "# contact rate\n",
    "lamda = 0.2586\n",
    "# recover rate\n",
    "gamma = 0.0821\n",
    "\n",
    "# initial infective people\n",
    "i[0] = 10.0 / N\n",
    "s[0] = 1e7 / N\n",
    "for t in range(T-1):\n",
    "    i[t + 1] = i[t] + i[t] * lamda * s[t] - gamma*i[t]\n",
    "    s[t + 1] = s[t] - lamda * s[t] * i[t]\n",
    "    r[t + 1] = r[t] + gamma*i[t]"
   ]
  },
  {
   "cell_type": "code",
   "execution_count": 15,
   "metadata": {
    "id": "A9FBED2356AE4C93B4233889599203A1",
    "jupyter": {},
    "scrolled": false,
    "slideshow": {
     "slide_type": "slide"
    },
    "tags": []
   },
   "outputs": [
    {
     "data": {
      "text/html": [
       "<img src=\"https://cdn.kesci.com/rt_upload/A9FBED2356AE4C93B4233889599203A1/q5obdavacs.png\">"
      ],
      "text/plain": [
       "<Figure size 720x432 with 1 Axes>"
      ]
     },
     "metadata": {
      "needs_background": "light"
     },
     "output_type": "display_data"
    }
   ],
   "source": [
    "fig, ax = plt.subplots(figsize=(10,6))\n",
    "ax.plot(s, c='b', lw=2, label='S')\n",
    "ax.plot(i, c='r', lw=2, label='I')\n",
    "ax.plot(r, c='g', lw=2, label='R')\n",
    "ax.set_xlabel('Day',fontsize=20)\n",
    "ax.set_ylabel('Infective Ratio', fontsize=20)\n",
    "ax.grid(1)\n",
    "plt.xticks(fontsize=20)\n",
    "plt.yticks(fontsize=20)\n",
    "plt.legend();"
   ]
  },
  {
   "cell_type": "markdown",
   "metadata": {
    "id": "B56BA0A7FCD3495788E6F199F2BE3970",
    "jupyter": {},
    "mdEditEnable": false,
    "slideshow": {
     "slide_type": "slide"
    },
    "tags": []
   },
   "source": [
    "感染人数峰值发生在一个月左右，最大感染人数不到人群的20%， 但是最终人群的80%都会得此病（就是最终的移出者的比例）。SIR模型适合研究没有潜伏期的急性传染病，治疗后能够痊愈并具有抗病性。\n",
    "\n",
    "到这里，虽然不准确，我们也可以先用SIR模型来分析一下此次疫情，武汉新型冠状病毒的传染病动力学！\n",
    "\n",
    "模型有了，其实就是确定参数的问题。一开始就有人做了这个工作：\n",
    "\n",
    "![Image Name](https://cdn.kesci.com/upload/image/q5odm9ka98.jpeg?imageView2/0/w/960/h/960)\n",
    "\n",
    "于教授给的参数是参考了非典的，$\\gamma=0.0821,\\lambda=0.2586$，初始易感人数为一千万, 初始感染10人，初始移出者5人，那么我们的城市总人数 $N=1 e 7+10+5$ , 带入我们的模型得到结果：\n",
    "\n",
    "\n",
    "重现于教授的模型\n",
    "高峰和尾声日期的推测基本相符。"
   ]
  },
  {
   "cell_type": "code",
   "execution_count": 16,
   "metadata": {
    "id": "3661E22F01EF4D3F8A389B82EEED9679",
    "jupyter": {},
    "scrolled": false,
    "slideshow": {
     "slide_type": "slide"
    },
    "tags": []
   },
   "outputs": [],
   "source": [
    "# susceptiable ratio\n",
    "s = np.zeros([T])\n",
    "# infective ratio\n",
    "i = np.zeros([T])\n",
    "# removed ratio\n",
    "r = np.zeros([T])\n",
    "\n",
    "# birth ratio\n",
    "b = 20.0 / N\n",
    "# death ratio\n",
    "d = 10.0 / N\n",
    "\n",
    "# contact rate\n",
    "y = 1.5\n",
    "# recover rate\n",
    "u = 0.8 # 1 / infective_period\n",
    "\n",
    "# sigma = y / u\n",
    "\n",
    "# initial infective people\n",
    "i[0] = 45.0 / N\n",
    "s[0] = 1 - i[0]\n",
    "for t in range(T-1):\n",
    "    i[t+1] = i[t] + i[t] * y * s[t] - u*i[t] - d*i[t]\n",
    "    s[t+1] = s[t] - y * s[t] * i[t] + b - d*s[t]\n",
    "    r[t+1] = r[t] + u*i[t] - d*r[t]"
   ]
  },
  {
   "cell_type": "code",
   "execution_count": 17,
   "metadata": {
    "id": "39EFAC42342644EA81F3693A3EA9010E",
    "jupyter": {},
    "scrolled": false,
    "slideshow": {
     "slide_type": "slide"
    },
    "tags": []
   },
   "outputs": [
    {
     "data": {
      "text/plain": [
       "[<matplotlib.lines.Line2D at 0x7f77796e8518>]"
      ]
     },
     "execution_count": 17,
     "metadata": {},
     "output_type": "execute_result"
    },
    {
     "data": {
      "text/html": [
       "<img src=\"https://cdn.kesci.com/rt_upload/39EFAC42342644EA81F3693A3EA9010E/q5obdbkixk.png\">"
      ],
      "text/plain": [
       "<Figure size 432x288 with 1 Axes>"
      ]
     },
     "metadata": {
      "needs_background": "light"
     },
     "output_type": "display_data"
    }
   ],
   "source": [
    "plt.plot(i)\n",
    "plt.plot(s)\n",
    "plt.plot(r)\n",
    "plt.plot(np.diff(i),ls='--')"
   ]
  },
  {
   "cell_type": "markdown",
   "metadata": {
    "id": "D27E2FB7CF9646C883A93BCE7A1B478B",
    "jupyter": {},
    "mdEditEnable": false,
    "slideshow": {
     "slide_type": "slide"
    },
    "tags": []
   },
   "source": [
    "## 3.4 SEIR模型\n",
    "\n",
    "但是，SIR模型和实际情况的出入会比较大，因为忽略了太多因素了，比如说潜伏期，比如说政策调控，药物，出生死亡等等。下面我们可以和前面一样，把潜伏期考虑进去，新增一个人群，叫潜伏者E（exposed）：\n",
    "\n",
    "![Image Name](https://cdn.kesci.com/upload/image/q5odtbbsr9.jpg)\n",
    "\n",
    "\n",
    "SEIR模型\n",
    "同样的我们需要计算各人群每天的增加量：\n",
    "\n",
    "S：每天减少： $\\lambda N i s$\n",
    "E：每天增加传染，减少发病： $\\lambda N i s-\\sigma N e$\n",
    "I：每天增加发病，减少治愈： $\\sigma N e-\\gamma N i$\n",
    "R：每天增加治愈： $\\gamma N i$\n",
    "建模完成，修改我们的python程序，这里的 $\\sigma$可以理解为潜伏期的倒数。给的4天。新型冠状病毒给目前临床的潜伏期是3-14天。"
   ]
  },
  {
   "cell_type": "code",
   "execution_count": 18,
   "metadata": {
    "id": "4642832DFC8F43EDBA1085BEC1FC25F9",
    "jupyter": {},
    "scrolled": false,
    "slideshow": {
     "slide_type": "slide"
    },
    "tags": []
   },
   "outputs": [],
   "source": [
    "# population\n",
    "N = 1e7 + 10 + 5\n",
    "# simuation Time / Day\n",
    "T = 170\n",
    "# susceptiable ratio\n",
    "s = np.zeros([T])\n",
    "# exposed ratio\n",
    "e = np.zeros([T])\n",
    "# infective ratio\n",
    "i = np.zeros([T])\n",
    "# remove ratio\n",
    "r = np.zeros([T])\n",
    "\n",
    "# contact rate\n",
    "lamda = 0.5\n",
    "# recover rate\n",
    "gamma = 0.0821\n",
    "# exposed period\n",
    "sigma = 1 / 4\n",
    "\n",
    "# initial infective people\n",
    "i[0] = 10.0 / N\n",
    "s[0] = 1e7 / N\n",
    "e[0] = 40.0 / N\n",
    "for t in range(T-1):\n",
    "    s[t + 1] = s[t] - lamda * s[t] * i[t]\n",
    "    e[t + 1] = e[t] + lamda * s[t] * i[t] - sigma * e[t]\n",
    "    i[t + 1] = i[t] + sigma * e[t] - gamma * i[t]\n",
    "    r[t + 1] = r[t] + gamma * i[t]"
   ]
  },
  {
   "cell_type": "code",
   "execution_count": 19,
   "metadata": {
    "id": "976C39CCA42E44E3822E7A5633C0C5ED",
    "jupyter": {},
    "scrolled": false,
    "slideshow": {
     "slide_type": "slide"
    },
    "tags": []
   },
   "outputs": [
    {
     "data": {
      "text/html": [
       "<img src=\"https://cdn.kesci.com/rt_upload/976C39CCA42E44E3822E7A5633C0C5ED/q5obddqjxk.png\">"
      ],
      "text/plain": [
       "<Figure size 720x432 with 1 Axes>"
      ]
     },
     "metadata": {
      "needs_background": "light"
     },
     "output_type": "display_data"
    }
   ],
   "source": [
    "fig, ax = plt.subplots(figsize=(10,6))\n",
    "ax.plot(s, c='b', lw=2, label='S')\n",
    "ax.plot(e, c='orange', lw=2, label='E')\n",
    "ax.plot(i, c='r', lw=2, label='I')\n",
    "ax.plot(r, c='g', lw=2, label='R')\n",
    "ax.set_xlabel('Day',fontsize=20)\n",
    "ax.set_ylabel('Infective Ratio', fontsize=20)\n",
    "ax.grid(1)\n",
    "plt.xticks(fontsize=20)\n",
    "plt.yticks(fontsize=20)\n",
    "plt.legend();"
   ]
  }
 ],
 "metadata": {
  "kernelspec": {
   "display_name": "Python 3",
   "language": "python",
   "name": "python3"
  },
  "language_info": {
   "codemirror_mode": {
    "name": "ipython",
    "version": 3
   },
   "file_extension": ".py",
   "mimetype": "text/x-python",
   "name": "python",
   "nbconvert_exporter": "python",
   "pygments_lexer": "ipython3",
   "version": "3.7.0"
  },
  "latex_envs": {
   "LaTeX_envs_menu_present": true,
   "autoclose": false,
   "autocomplete": true,
   "bibliofile": "biblio.bib",
   "cite_by": "apalike",
   "current_citInitial": 1,
   "eqLabelWithNumbers": true,
   "eqNumInitial": 1,
   "hotkeys": {
    "equation": "Ctrl-E",
    "itemize": "Ctrl-I"
   },
   "labels_anchors": false,
   "latex_user_defs": false,
   "report_style_numbering": false,
   "user_envs_cfg": false
  },
  "toc": {
   "base_numbering": 1,
   "nav_menu": {},
   "number_sections": true,
   "sideBar": true,
   "skip_h1_title": false,
   "title_cell": "Table of Contents",
   "title_sidebar": "Contents",
   "toc_cell": false,
   "toc_position": {},
   "toc_section_display": true,
   "toc_window_display": false
  }
 },
 "nbformat": 4,
 "nbformat_minor": 4
}
