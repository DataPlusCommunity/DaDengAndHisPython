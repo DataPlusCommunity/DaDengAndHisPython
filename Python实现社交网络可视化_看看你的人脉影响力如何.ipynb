{
 "cells": [
  {
   "cell_type": "markdown",
   "metadata": {},
   "source": [
    ">src: https://mp.weixin.qq.com/s/2DVBab7QSGe5tyEH2Jpy-g\n",
    ">\n",
    ">author: 俊欣\n",
    ">\n",
    ">公众号: 关于数据分析与可视化"
   ]
  },
  {
   "cell_type": "code",
   "execution_count": null,
   "metadata": {},
   "outputs": [],
   "source": [
    "import pandas as pd\n",
    "import janitor\n",
    "import datetime\n",
    "\n",
    "from IPython.core.display import display, HTML\n",
    "from pyvis import network as net\n",
    "import networkx as nx"
   ]
  },
  {
   "cell_type": "code",
   "execution_count": null,
   "metadata": {},
   "outputs": [],
   "source": [
    "pd.__version__"
   ]
  },
  {
   "cell_type": "code",
   "execution_count": null,
   "metadata": {
    "scrolled": true
   },
   "outputs": [],
   "source": [
    "df_ori = pd.read_csv(\"Connections.csv\", skiprows=3, encoding=\"gbk\")"
   ]
  },
  {
   "cell_type": "code",
   "execution_count": null,
   "metadata": {},
   "outputs": [],
   "source": [
    "df_ori.head()"
   ]
  },
  {
   "cell_type": "code",
   "execution_count": null,
   "metadata": {
    "scrolled": true
   },
   "outputs": [],
   "source": [
    "df = (\n",
    "    df_ori\n",
    "    .clean_names() # remove spacing and capitalization\n",
    "    .drop(columns=['first_name', 'last_name', 'email_address']) # drop for privacy\n",
    "    .dropna(subset=['company', 'position']) # drop missing values in company and position\n",
    "    .to_datetime('connected_on', format='%d-%b-%y')\n",
    "  )\n",
    "df.head()"
   ]
  },
  {
   "cell_type": "code",
   "execution_count": null,
   "metadata": {},
   "outputs": [],
   "source": [
    "df['company'].value_counts().head(10).plot(kind=\"barh\").invert_yaxis()"
   ]
  },
  {
   "cell_type": "code",
   "execution_count": null,
   "metadata": {},
   "outputs": [],
   "source": [
    "pattern = \"freelance|self-employed\"\n",
    "df = df[~df['company'].str.contains(pattern, case=False)]"
   ]
  },
  {
   "cell_type": "code",
   "execution_count": null,
   "metadata": {},
   "outputs": [],
   "source": [
    "df['position'].value_counts().head(10).plot(kind=\"barh\").invert_yaxis()"
   ]
  },
  {
   "cell_type": "code",
   "execution_count": null,
   "metadata": {},
   "outputs": [],
   "source": [
    "df['connected_on'].hist(xrot=35, bins=15);"
   ]
  },
  {
   "cell_type": "code",
   "execution_count": null,
   "metadata": {},
   "outputs": [],
   "source": [
    "df_company = df['company'].value_counts().reset_index()\n",
    "df_company.columns = ['company', 'count']\n",
    "df_company = df_company.sort_values(by=\"count\", ascending=False)\n",
    "df_company.head(10)"
   ]
  },
  {
   "cell_type": "code",
   "execution_count": null,
   "metadata": {},
   "outputs": [],
   "source": [
    "nt = net.Network(notebook=True)\n",
    "\n",
    "g = nx.Graph()\n",
    "g.add_node(0, label = \"root\") # intialize yourself as central node\n",
    "g.add_node(1, label = \"Company 1\", size=10, title=\"info1\")\n",
    "g.add_node(2, label = \"Company 2\", size=40, title=\"info2\")\n",
    "g.add_node(3, label = \"Company 3\", size=60, title=\"info3\")\n",
    "g.add_edge(0, 1)\n",
    "g.add_edge(0, 2)\n",
    "g.add_edge(0, 3)\n",
    "\n",
    "nt.from_nx(g)\n",
    "nt.show('nodes.html')\n",
    "display(HTML('nodes.html'))"
   ]
  },
  {
   "cell_type": "code",
   "execution_count": null,
   "metadata": {},
   "outputs": [],
   "source": [
    "print(df_company.shape)\n",
    "df_company_reduced = df_company.loc[df_company['count']>=5]\n",
    "print(df_company_reduced.shape)"
   ]
  },
  {
   "cell_type": "code",
   "execution_count": null,
   "metadata": {},
   "outputs": [],
   "source": [
    "df_position = df['position'].value_counts().reset_index()\n",
    "df_position.columns = ['position', 'count']\n",
    "df_position = df_position.sort_values(by=\"count\", ascending=False)\n",
    "df_position.head(10)"
   ]
  },
  {
   "cell_type": "code",
   "execution_count": null,
   "metadata": {},
   "outputs": [],
   "source": [
    "print(df_position.shape)\n",
    "df_position_reduced = df_position.loc[df_position['count']>=5]\n",
    "print(df_position_reduced.shape)"
   ]
  },
  {
   "cell_type": "code",
   "execution_count": null,
   "metadata": {},
   "outputs": [],
   "source": [
    "# initialize graph\n",
    "g = nx.Graph()\n",
    "g.add_node('myself') # intialize yourself as central\n",
    "\n",
    "# use iterrows tp iterate through the data frame\n",
    "for _, row in df_company_reduced.iterrows():\n",
    "\n",
    "    # store company name and count\n",
    "    company = row['company']\n",
    "    count = row['count']\n",
    "\n",
    "    title = f\"<b>{company}</b> – {count}\"\n",
    "    positions = set([x for x in df[company == df['company']]['position']])\n",
    "    positions = ''.join('<li>{}</li>'.format(x) for x in positions)\n",
    "\n",
    "    position_list = f\"<ul>{positions}</ul>\"\n",
    "    hover_info = title + position_list\n",
    "\n",
    "    g.add_node(company, size=count*2, title=hover_info, color='#3449eb')\n",
    "    g.add_edge('myself', company, color='grey')\n",
    "\n",
    "# generate the graph\n",
    "nt = net.Network(height='700px', width='700px', bgcolor=\"black\", font_color='white')\n",
    "nt.from_nx(g)\n",
    "nt.hrepulsion()\n",
    "# more customization https://tinyurl.com/yf5lvvdm\n",
    "nt.show('company_graph.html')\n",
    "display(HTML('company_graph.html'))"
   ]
  },
  {
   "cell_type": "code",
   "execution_count": null,
   "metadata": {},
   "outputs": [],
   "source": [
    "# initialize graph\n",
    "g = nx.Graph()\n",
    "g.add_node('myself') # intialize yourself as central\n",
    "\n",
    "# use iterrows tp iterate through the data frame\n",
    "for _, row in df_position_reduced.iterrows():\n",
    "\n",
    "    # store position name and count\n",
    "    position = row['position']\n",
    "    count = row['count']\n",
    "\n",
    "    title = f\"<b>{position}</b> – {count}\"\n",
    "    positions = set([x for x in df[position == df['position']]['position']])\n",
    "    positions = ''.join('<li>{}</li>'.format(x) for x in positions)\n",
    "\n",
    "    position_list = f\"<ul>{positions}</ul>\"\n",
    "    hover_info = title + position_list\n",
    "\n",
    "    g.add_node(position, size=count*2, title=hover_info, color='#3449eb')\n",
    "    g.add_edge('myself', position, color='grey')\n",
    "\n",
    "# generate the graph\n",
    "nt = net.Network(height='700px', width='700px', bgcolor=\"black\", font_color='white')\n",
    "nt.from_nx(g)\n",
    "nt.hrepulsion()\n",
    "# more customization https://tinyurl.com/yf5lvvdm\n",
    "nt.show('position_graph.html')\n",
    "display(HTML('position_graph.html'))"
   ]
  }
 ],
 "metadata": {
  "kernelspec": {
   "display_name": "Python 3",
   "language": "python",
   "name": "python3"
  },
  "language_info": {
   "codemirror_mode": {
    "name": "ipython",
    "version": 3
   },
   "file_extension": ".py",
   "mimetype": "text/x-python",
   "name": "python",
   "nbconvert_exporter": "python",
   "pygments_lexer": "ipython3",
   "version": "3.7.5"
  },
  "toc": {
   "base_numbering": 1,
   "nav_menu": {},
   "number_sections": true,
   "sideBar": true,
   "skip_h1_title": false,
   "title_cell": "Table of Contents",
   "title_sidebar": "Contents",
   "toc_cell": false,
   "toc_position": {},
   "toc_section_display": true,
   "toc_window_display": false
  }
 },
 "nbformat": 4,
 "nbformat_minor": 5
}
