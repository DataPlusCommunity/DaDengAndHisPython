{
 "cells": [
  {
   "cell_type": "markdown",
   "metadata": {},
   "source": [
    "如果想将多个记录整理到一个记录中，有很多种实现方法。\n",
    "\n",
    "## Concat\n",
    "如果想垂直方向将多个记录堆叠，可以使用concat\n",
    "![](img/concat.png)"
   ]
  },
  {
   "cell_type": "code",
   "execution_count": 3,
   "metadata": {},
   "outputs": [
    {
     "data": {
      "text/plain": [
       "[{'a': 1}, {'a': 2}]"
      ]
     },
     "execution_count": 3,
     "metadata": {},
     "output_type": "execute_result"
    }
   ],
   "source": [
    "from clumper import Clumper\n",
    "\n",
    "c1 = Clumper([{\"a\": 1}])\n",
    "c2 = Clumper([{\"a\": 2}])\n",
    "c3 = Clumper([{\"a\": 3}])\n",
    "\n",
    "c1.concat(c2).collect()"
   ]
  },
  {
   "cell_type": "code",
   "execution_count": 4,
   "metadata": {},
   "outputs": [
    {
     "data": {
      "text/plain": [
       "[{'a': 1}, {'a': 2}, {'a': 3}]"
      ]
     },
     "execution_count": 4,
     "metadata": {},
     "output_type": "execute_result"
    }
   ],
   "source": [
    "#等同于c1.concat(c2).concat(c3).collect()\n",
    "c1.concat(c2, c3).collect()"
   ]
  },
  {
   "cell_type": "markdown",
   "metadata": {},
   "source": [
    "## Joins\n",
    "Joins类似于数学里的交集、并集的，大致有以下四种，\n",
    "![](img/LeftRight.png)"
   ]
  },
  {
   "cell_type": "markdown",
   "metadata": {},
   "source": [
    "### left join\n",
    "左连接，以左为主，表示以table1为主，关联上table2的数据，结果显示table1的所有数据，然后table2显示的是和table1有交集部分的数据。\n",
    "![](img/left_join.png)"
   ]
  },
  {
   "cell_type": "code",
   "execution_count": 8,
   "metadata": {},
   "outputs": [
    {
     "data": {
      "text/plain": [
       "[{'a': 1, 'b': 4, 'c': 9}, {'a': 2, 'b': 6, 'c': 7}]"
      ]
     },
     "execution_count": 8,
     "metadata": {},
     "output_type": "execute_result"
    }
   ],
   "source": [
    "from clumper import Clumper\n",
    "\n",
    "left = Clumper([\n",
    "    {\"a\": 1, \"b\": 4},\n",
    "    {\"a\": 2, \"b\": 6},\n",
    "    {\"a\": 3, \"b\": 8},\n",
    "])\n",
    "\n",
    "right = Clumper([\n",
    "    {\"c\": 9, \"b\": 4},\n",
    "    {\"c\": 8, \"b\": 5},\n",
    "    {\"c\": 7, \"b\": 6},\n",
    "])\n",
    "\n",
    "#根据b进行左右两表的合并\n",
    "result = left.inner_join(right, mapping={\"b\": \"b\"})\n",
    "result.collect()"
   ]
  },
  {
   "cell_type": "markdown",
   "metadata": {},
   "source": [
    "### inner join\n",
    "内连接， 交集\n",
    "![](img/inner_join.png)"
   ]
  },
  {
   "cell_type": "code",
   "execution_count": 9,
   "metadata": {},
   "outputs": [
    {
     "data": {
      "text/plain": [
       "[{'a': 1, 'b': 4, 'c': 9}, {'a': 2, 'b': 6, 'c': 7}]"
      ]
     },
     "execution_count": 9,
     "metadata": {},
     "output_type": "execute_result"
    }
   ],
   "source": [
    "from clumper import Clumper\n",
    "\n",
    "left = Clumper([\n",
    "    {\"a\": 1, \"b\":4},\n",
    "    {\"a\": 2, \"b\":6},\n",
    "    {\"a\": 3, \"b\":8},\n",
    "])\n",
    "\n",
    "right = Clumper([\n",
    "    {\"c\": 9, \"b\":4},\n",
    "    {\"c\": 8, \"b\":5},\n",
    "    {\"c\": 7, \"b\":6},\n",
    "])\n",
    "\n",
    "\n",
    "result = left.inner_join(right, mapping={\"b\": \"b\"})\n",
    "result.collect()"
   ]
  },
  {
   "cell_type": "code",
   "execution_count": null,
   "metadata": {},
   "outputs": [],
   "source": []
  }
 ],
 "metadata": {
  "kernelspec": {
   "display_name": "Python 3",
   "language": "python",
   "name": "python3"
  },
  "language_info": {
   "codemirror_mode": {
    "name": "ipython",
    "version": 3
   },
   "file_extension": ".py",
   "mimetype": "text/x-python",
   "name": "python",
   "nbconvert_exporter": "python",
   "pygments_lexer": "ipython3",
   "version": "3.7.5"
  }
 },
 "nbformat": 4,
 "nbformat_minor": 4
}
