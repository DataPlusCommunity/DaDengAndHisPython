{
 "cells": [
  {
   "cell_type": "markdown",
   "metadata": {},
   "source": [
    "由于嵌套数据序列确实具有各种形状和大小，因此该库提供了各种方法来帮助您将数据重塑为不同的格式。 本文档将演示这些方法的工作原理。\n",
    "\n",
    "## Explode\n",
    "炸裂（展开）\n",
    "![](img/explode.png)"
   ]
  },
  {
   "cell_type": "code",
   "execution_count": 3,
   "metadata": {},
   "outputs": [
    {
     "data": {
      "text/plain": [
       "[{'gender': '男', 'grade': 80, 'name': '张三'},\n",
       " {'gender': '男', 'grade': 99, 'name': '张三'},\n",
       " {'gender': '男', 'grade': 80, 'name': '李四'},\n",
       " {'gender': '男', 'grade': 99, 'name': '李四'}]"
      ]
     },
     "execution_count": 3,
     "metadata": {},
     "output_type": "execute_result"
    }
   ],
   "source": [
    "from clumper import Clumper\n",
    "\n",
    "data = [{'gender': '男', \n",
    "         'grade': [80, 99], \n",
    "         'name':['张三', '李四']}]\n",
    "\n",
    "(Clumper(data)\n",
    " .explode('name', 'grade')\n",
    " .collect()\n",
    ")"
   ]
  },
  {
   "cell_type": "code",
   "execution_count": 10,
   "metadata": {},
   "outputs": [
    {
     "data": {
      "text/plain": [
       "[{'gender': '男', 'item': '张三', 'val': 80},\n",
       " {'gender': '男', 'item': '张三', 'val': 99},\n",
       " {'gender': '男', 'item': '李四', 'val': 80},\n",
       " {'gender': '男', 'item': '李四', 'val': 99}]"
      ]
     },
     "execution_count": 10,
     "metadata": {},
     "output_type": "execute_result"
    }
   ],
   "source": [
    "from clumper import Clumper\n",
    "\n",
    "\n",
    "data = [{'gender': '男', \n",
    "         'grade': [80, 99], \n",
    "         'name':['张三', '李四']}]\n",
    "\n",
    "#.explode('name', 'grade')略微有些区别\n",
    "#请查看两者运行结果\n",
    "(Clumper(data)\n",
    " .explode(item='name', val='grade')\n",
    " .collect()\n",
    ")"
   ]
  },
  {
   "cell_type": "markdown",
   "metadata": {},
   "source": [
    "## Unpack\n",
    "与explode类似\n",
    "![](img/unpack.png)"
   ]
  },
  {
   "cell_type": "code",
   "execution_count": 7,
   "metadata": {},
   "outputs": [
    {
     "data": {
      "text/plain": [
       "[{'a': 1, 'b': 2, 'c': 3}, {'a': 1, 'b': 3}, {'a': 1, 'b': 4}]"
      ]
     },
     "execution_count": 7,
     "metadata": {},
     "output_type": "execute_result"
    }
   ],
   "source": [
    "from clumper import Clumper\n",
    "\n",
    "list_dicts = {\n",
    "    'a': 1,\n",
    "    'rows': [{'b': 2, 'c': 3}, {'b': 3}, {'b': 4}]\n",
    "}\n",
    "\n",
    "(Clumper(list_dicts)\n",
    " .unpack('rows')\n",
    " .collect()\n",
    ")"
   ]
  },
  {
   "cell_type": "markdown",
   "metadata": {},
   "source": [
    "## Flatten keys\n",
    "![](img/flatten_keys.png)"
   ]
  },
  {
   "cell_type": "code",
   "execution_count": 9,
   "metadata": {},
   "outputs": [
    {
     "data": {
      "text/plain": [
       "[{'propery_1': 1, 'property_2': 2, 'key': 'feature_1'},\n",
       " {'propery_1': 3, 'property_2': 4, 'key': 'feature_2'},\n",
       " {'propery_1': 5, 'property_2': 6, 'key': 'feature_3'}]"
      ]
     },
     "execution_count": 9,
     "metadata": {},
     "output_type": "execute_result"
    }
   ],
   "source": [
    "from clumper import Clumper\n",
    "\n",
    "data = {\n",
    "  'feature_1': {'propery_1': 1, 'property_2': 2},\n",
    "  'feature_2': {'propery_1': 3, 'property_2': 4},\n",
    "  'feature_3': {'propery_1': 5, 'property_2': 6},\n",
    "}\n",
    "\n",
    "\n",
    "(Clumper(data, listify=False)\n",
    " .flatten_keys()\n",
    " .collect() \n",
    ")"
   ]
  }
 ],
 "metadata": {
  "kernelspec": {
   "display_name": "Python 3",
   "language": "python",
   "name": "python3"
  },
  "language_info": {
   "codemirror_mode": {
    "name": "ipython",
    "version": 3
   },
   "file_extension": ".py",
   "mimetype": "text/x-python",
   "name": "python",
   "nbconvert_exporter": "python",
   "pygments_lexer": "ipython3",
   "version": "3.7.5"
  }
 },
 "nbformat": 4,
 "nbformat_minor": 4
}
