{
 "cells": [
  {
   "cell_type": "code",
   "execution_count": null,
   "metadata": {},
   "outputs": [],
   "source": [
    "## 什么是Group？"
   ]
  },
  {
   "cell_type": "code",
   "execution_count": 4,
   "metadata": {},
   "outputs": [
    {
     "data": {
      "text/plain": [
       "<Clumper groups=('grp',) len=5 @0x103cb0290>"
      ]
     },
     "execution_count": 4,
     "metadata": {},
     "output_type": "execute_result"
    }
   ],
   "source": [
    "from clumper import Clumper\n",
    "\n",
    "list_dicts = [\n",
    "    {'a': 6, 'grp': 'a'},\n",
    "    {'a': 2, 'grp': 'b'},\n",
    "    {'a': 7, 'grp': 'a'},\n",
    "    {'a': 9, 'grp': 'b'},\n",
    "    {'a': 5, 'grp': 'a'}\n",
    "]\n",
    "\n",
    "(Clumper(list_dicts)\n",
    "  .group_by('grp')\n",
    ")"
   ]
  },
  {
   "cell_type": "markdown",
   "metadata": {},
   "source": [
    "当前的group以grp作为关键词\n",
    "![](img/add_grp.png)\n",
    "\n",
    "现在经过 ``.group_by('grp')``操作后，说明你对每个grp组感兴趣。具体一点，一个组是``{'grp': 'a'}``, 另一个组是``{'grp': 'b'}.``\n",
    "\n",
    "## Agg\n",
    "### without groups\n",
    "![](img/agg-without-group.png)"
   ]
  },
  {
   "cell_type": "code",
   "execution_count": 3,
   "metadata": {},
   "outputs": [
    {
     "data": {
      "text/plain": [
       "[{'s': 29, 'm': 5.8}]"
      ]
     },
     "execution_count": 3,
     "metadata": {},
     "output_type": "execute_result"
    }
   ],
   "source": [
    "from clumper import Clumper\n",
    "\n",
    "list_dicts = [\n",
    "    {'a': 6, 'grp': 'a'},\n",
    "    {'a': 2, 'grp': 'b'},\n",
    "    {'a': 7, 'grp': 'a'},\n",
    "    {'a': 9, 'grp': 'b'},\n",
    "    {'a': 5, 'grp': 'a'}\n",
    "]\n",
    "\n",
    "(Clumper(list_dicts)\n",
    "  .agg(s=('a', 'sum'),\n",
    "       m=('a', 'mean'))\n",
    "  .collect())"
   ]
  },
  {
   "cell_type": "markdown",
   "metadata": {},
   "source": [
    "### with groups\n",
    "分别计算组grp=a、组grp=b的sum和mean\n",
    "![](img/agg-with-group.png)"
   ]
  },
  {
   "cell_type": "code",
   "execution_count": 6,
   "metadata": {},
   "outputs": [
    {
     "data": {
      "text/plain": [
       "[{'grp': 'a', 's': 18, 'm': 6}, {'grp': 'b', 's': 11, 'm': 5.5}]"
      ]
     },
     "execution_count": 6,
     "metadata": {},
     "output_type": "execute_result"
    }
   ],
   "source": [
    "from clumper import Clumper\n",
    "\n",
    "list_dicts = [\n",
    "    {'a': 6, 'grp': 'a'},\n",
    "    {'a': 2, 'grp': 'b'},\n",
    "    {'a': 7, 'grp': 'a'},\n",
    "    {'a': 9, 'grp': 'b'},\n",
    "    {'a': 5, 'grp': 'a'}\n",
    "]\n",
    "\n",
    "(Clumper(list_dicts)\n",
    "  .group_by('grp')\n",
    "  .agg(s=('a', 'sum'),\n",
    "       m=('a', 'mean'))\n",
    "  .collect())"
   ]
  },
  {
   "cell_type": "markdown",
   "metadata": {},
   "source": [
    "### agg内置的统计函数名\n",
    "内置的统计函数，可直接通过字符串调用\n",
    "\n",
    "```python\n",
    "{\n",
    "  \"mean\": mean,\n",
    "  \"count\": lambda d: len(d),\n",
    "  \"unique\": lambda d: list(set(d)),\n",
    "  \"n_unique\": lambda d: len(set(d)),\n",
    "  \"sum\": sum,\n",
    "  \"min\": min,\n",
    "  \"max\": max,\n",
    "  \"median\": median,\n",
    "  \"var\": variance,\n",
    "  \"std\": stdev,\n",
    "  \"values\": lambda d: d,\n",
    "  \"first\": lambda d: d[0],\n",
    "  \"last\": lambda d: d[-1],\n",
    "}\n",
    "```"
   ]
  },
  {
   "cell_type": "markdown",
   "metadata": {},
   "source": [
    "## Transform\n",
    "``.transform()``与``.agg()``类似。主要的区别是transform处理过程中，记录数和字段数不会出现压缩。 \n",
    "\n",
    "### without groups\n",
    "![](img/transform-without-groups.png)"
   ]
  },
  {
   "cell_type": "code",
   "execution_count": 10,
   "metadata": {},
   "outputs": [
    {
     "data": {
      "text/plain": [
       "[{'a': 6, 'grp': 'a', 's': 29, 'u': [2, 5, 6, 7, 9]},\n",
       " {'a': 2, 'grp': 'b', 's': 29, 'u': [2, 5, 6, 7, 9]},\n",
       " {'a': 7, 'grp': 'a', 's': 29, 'u': [2, 5, 6, 7, 9]},\n",
       " {'a': 9, 'grp': 'b', 's': 29, 'u': [2, 5, 6, 7, 9]},\n",
       " {'a': 5, 'grp': 'a', 's': 29, 'u': [2, 5, 6, 7, 9]}]"
      ]
     },
     "execution_count": 10,
     "metadata": {},
     "output_type": "execute_result"
    }
   ],
   "source": [
    "from clumper import Clumper\n",
    "\n",
    "data = [\n",
    "    {\"a\": 6, \"grp\": \"a\"},\n",
    "    {\"a\": 2, \"grp\": \"b\"},\n",
    "    {\"a\": 7, \"grp\": \"a\"},\n",
    "    {\"a\": 9, \"grp\": \"b\"},\n",
    "    {\"a\": 5, \"grp\": \"a\"}\n",
    "]\n",
    "\n",
    "(Clumper(data)\n",
    " .transform(s=(\"a\", \"sum\"),\n",
    "            u=(\"a\", \"unique\"))\n",
    " .collect()\n",
    ")"
   ]
  },
  {
   "cell_type": "markdown",
   "metadata": {},
   "source": [
    "### with groups\n",
    "![](img/transform-with-groups.png)"
   ]
  },
  {
   "cell_type": "code",
   "execution_count": 11,
   "metadata": {},
   "outputs": [
    {
     "data": {
      "text/plain": [
       "[{'a': 6, 'grp': 'a', 's': 18, 'u': [5, 6, 7]},\n",
       " {'a': 7, 'grp': 'a', 's': 18, 'u': [5, 6, 7]},\n",
       " {'a': 5, 'grp': 'a', 's': 18, 'u': [5, 6, 7]},\n",
       " {'a': 2, 'grp': 'b', 's': 11, 'u': [9, 2]},\n",
       " {'a': 9, 'grp': 'b', 's': 11, 'u': [9, 2]}]"
      ]
     },
     "execution_count": 11,
     "metadata": {},
     "output_type": "execute_result"
    }
   ],
   "source": [
    "from clumper import Clumper\n",
    "\n",
    "data = [\n",
    "    {\"a\": 6, \"grp\": \"a\"},\n",
    "    {\"a\": 2, \"grp\": \"b\"},\n",
    "    {\"a\": 7, \"grp\": \"a\"},\n",
    "    {\"a\": 9, \"grp\": \"b\"},\n",
    "    {\"a\": 5, \"grp\": \"a\"}\n",
    "]\n",
    "\n",
    "(Clumper(data)\n",
    " .group_by(\"grp\")\n",
    " .transform(s=(\"a\", \"sum\"),\n",
    "            u=(\"a\", \"unique\"))\n",
    " .collect()\n",
    ")"
   ]
  },
  {
   "cell_type": "markdown",
   "metadata": {},
   "source": [
    "## Mutate\n",
    "clumper库中的``row_number``可以给每条记录显示索引位置（第几个）。\n",
    "\n",
    "### without groups\n",
    "![](img/mutate-without-group.png)"
   ]
  },
  {
   "cell_type": "code",
   "execution_count": 13,
   "metadata": {},
   "outputs": [
    {
     "data": {
      "text/plain": [
       "[{'a': 6, 'grp': 'a', 'index': 1},\n",
       " {'a': 2, 'grp': 'b', 'index': 2},\n",
       " {'a': 7, 'grp': 'a', 'index': 3},\n",
       " {'a': 4, 'grp': 'b', 'index': 4},\n",
       " {'a': 5, 'grp': 'a', 'index': 5}]"
      ]
     },
     "execution_count": 13,
     "metadata": {},
     "output_type": "execute_result"
    }
   ],
   "source": [
    "from clumper import Clumper\n",
    "from clumper.sequence import row_number\n",
    "\n",
    "list_dicts = [\n",
    "    {'a': 6, 'grp': 'a'},\n",
    "    {'a': 2, 'grp': 'b'},\n",
    "    {'a': 7, 'grp': 'a'},\n",
    "    {'a': 4, 'grp': 'b'},\n",
    "    {'a': 5, 'grp': 'a'}\n",
    "]\n",
    "\n",
    "(Clumper(list_dicts)\n",
    "  .mutate(index=row_number())\n",
    "  .collect()\n",
    ")"
   ]
  },
  {
   "cell_type": "markdown",
   "metadata": {},
   "source": [
    "### with groups\n",
    "![](img/mutate-with-group.png)"
   ]
  },
  {
   "cell_type": "code",
   "execution_count": 14,
   "metadata": {},
   "outputs": [
    {
     "data": {
      "text/plain": [
       "[{'a': 6, 'grp': 'a', 'index': 1},\n",
       " {'a': 7, 'grp': 'a', 'index': 2},\n",
       " {'a': 5, 'grp': 'a', 'index': 3},\n",
       " {'a': 2, 'grp': 'b', 'index': 1},\n",
       " {'a': 4, 'grp': 'b', 'index': 2}]"
      ]
     },
     "execution_count": 14,
     "metadata": {},
     "output_type": "execute_result"
    }
   ],
   "source": [
    "from clumper import Clumper\n",
    "from clumper.sequence import row_number\n",
    "\n",
    "list_dicts = [\n",
    "    {'a': 6, 'grp': 'a'},\n",
    "    {'a': 2, 'grp': 'b'},\n",
    "    {'a': 7, 'grp': 'a'},\n",
    "    {'a': 4, 'grp': 'b'},\n",
    "    {'a': 5, 'grp': 'a'}\n",
    "]\n",
    "\n",
    "(Clumper(list_dicts)\n",
    "  .group_by('grp')\n",
    "  .mutate(index=row_number())\n",
    "  .collect()\n",
    ")"
   ]
  },
  {
   "cell_type": "markdown",
   "metadata": {},
   "source": [
    "## Sort\n",
    "排序, 默认升序\n",
    "### without groups\n",
    "![](img/sort-no-group.png)"
   ]
  },
  {
   "cell_type": "code",
   "execution_count": 15,
   "metadata": {},
   "outputs": [
    {
     "data": {
      "text/plain": [
       "[{'a': 2, 'grp': 'b'},\n",
       " {'a': 5, 'grp': 'a'},\n",
       " {'a': 6, 'grp': 'a'},\n",
       " {'a': 7, 'grp': 'a'},\n",
       " {'a': 9, 'grp': 'b'}]"
      ]
     },
     "execution_count": 15,
     "metadata": {},
     "output_type": "execute_result"
    }
   ],
   "source": [
    "from clumper import Clumper\n",
    "\n",
    "list_dicts = [\n",
    "    {'a': 6, 'grp': 'a'},\n",
    "    {'a': 2, 'grp': 'b'},\n",
    "    {'a': 7, 'grp': 'a'},\n",
    "    {'a': 9, 'grp': 'b'},\n",
    "    {'a': 5, 'grp': 'a'}\n",
    "]\n",
    "\n",
    "(Clumper(list_dicts)\n",
    " #根据字段a进行排序\n",
    "  .sort(key=lambda d: d['a'])\n",
    "  .collect()\n",
    ")"
   ]
  },
  {
   "cell_type": "markdown",
   "metadata": {},
   "source": [
    "### with groups\n",
    "![](img/sort-with-group.png)"
   ]
  },
  {
   "cell_type": "code",
   "execution_count": 16,
   "metadata": {},
   "outputs": [
    {
     "data": {
      "text/plain": [
       "[{'a': 5, 'grp': 'a'},\n",
       " {'a': 6, 'grp': 'a'},\n",
       " {'a': 7, 'grp': 'a'},\n",
       " {'a': 2, 'grp': 'b'},\n",
       " {'a': 9, 'grp': 'b'}]"
      ]
     },
     "execution_count": 16,
     "metadata": {},
     "output_type": "execute_result"
    }
   ],
   "source": [
    "from clumper import Clumper\n",
    "\n",
    "list_dicts = [\n",
    "    {'a': 6, 'grp': 'a'},\n",
    "    {'a': 2, 'grp': 'b'},\n",
    "    {'a': 7, 'grp': 'a'},\n",
    "    {'a': 9, 'grp': 'b'},\n",
    "    {'a': 5, 'grp': 'a'}\n",
    "]\n",
    "\n",
    "(Clumper(list_dicts)\n",
    "  .group_by('grp')\n",
    "  .sort(key=lambda d: d['a'])\n",
    "  .collect()\n",
    ")"
   ]
  },
  {
   "cell_type": "markdown",
   "metadata": {},
   "source": [
    "## Ungroup\n",
    "最后，如果你已经进行完了分组计算，想再次整合起来，取消分组状态，可以使用``.ungroup()``"
   ]
  },
  {
   "cell_type": "code",
   "execution_count": null,
   "metadata": {},
   "outputs": [],
   "source": []
  }
 ],
 "metadata": {
  "kernelspec": {
   "display_name": "Python 3",
   "language": "python",
   "name": "python3"
  },
  "language_info": {
   "codemirror_mode": {
    "name": "ipython",
    "version": 3
   },
   "file_extension": ".py",
   "mimetype": "text/x-python",
   "name": "python",
   "nbconvert_exporter": "python",
   "pygments_lexer": "ipython3",
   "version": "3.7.5"
  }
 },
 "nbformat": 4,
 "nbformat_minor": 4
}
