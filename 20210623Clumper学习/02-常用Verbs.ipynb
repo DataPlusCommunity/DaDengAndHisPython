{
 "cells": [
  {
   "cell_type": "markdown",
   "metadata": {},
   "source": [
    "## Keep\n",
    "keep函数可以从原始数据中抽取符合指定条件的子集。\n",
    "![](img/keep.png)"
   ]
  },
  {
   "cell_type": "code",
   "execution_count": 17,
   "metadata": {},
   "outputs": [
    {
     "data": {
      "text/plain": [
       "[{'a': 3}, {'a': 4}]"
      ]
     },
     "execution_count": 17,
     "metadata": {},
     "output_type": "execute_result"
    }
   ],
   "source": [
    "from clumper import Clumper\n",
    "\n",
    "list_dicts = [{'a': 1}, \n",
    "              {'a': 2}, \n",
    "              {'a': 3}, \n",
    "              {'a': 4}]\n",
    "\n",
    "(Clumper(list_dicts)\n",
    " .keep(lambda d: d['a'] >= 3)\n",
    " .collect()  #试一试去掉.collect()后的效果\n",
    ")"
   ]
  },
  {
   "cell_type": "markdown",
   "metadata": {},
   "source": [
    "可以实现缺失值处理，以不同的方式实现pandas的``.dropna()``的功能。"
   ]
  },
  {
   "cell_type": "code",
   "execution_count": 18,
   "metadata": {},
   "outputs": [
    {
     "data": {
      "text/plain": [
       "[{'a': 1, 'b': 4}, {'a': 2, 'b': 3}, {'a': 3, 'b': 2}]"
      ]
     },
     "execution_count": 18,
     "metadata": {},
     "output_type": "execute_result"
    }
   ],
   "source": [
    "from clumper import Clumper\n",
    "\n",
    "data = [\n",
    "    {\"a\": 1, \"b\": 4},\n",
    "    {\"a\": 2, \"b\": 3},\n",
    "    {\"a\": 3, \"b\": 2},\n",
    "    {\"a\": 4},\n",
    "]\n",
    "\n",
    "#只保留含有b的字段\n",
    "(Clumper(data)\n",
    " .keep(lambda d: 'b' in d.keys())\n",
    " .collect()\n",
    ")"
   ]
  },
  {
   "cell_type": "markdown",
   "metadata": {},
   "source": [
    "## Mutate\n",
    "mutate可以在每条记录中，创建新字段、改写旧字段。\n",
    "![](img/mutate.png)"
   ]
  },
  {
   "cell_type": "code",
   "execution_count": 23,
   "metadata": {},
   "outputs": [
    {
     "data": {
      "text/plain": [
       "[{'a': 1, 'b': 2, 'c': 3, 's': 6},\n",
       " {'a': 2, 'b': 3, 'c': 5, 's': 10},\n",
       " {'a': 1, 'b': 6, 'c': 7, 's': 14}]"
      ]
     },
     "execution_count": 23,
     "metadata": {},
     "output_type": "execute_result"
    }
   ],
   "source": [
    "from clumper import Clumper\n",
    "\n",
    "list_dicts = [\n",
    "    {'a': 1, 'b': 2},\n",
    "    {'a': 2, 'b': 3, 'c':4},\n",
    "    {'a': 1, 'b': 6}]\n",
    "\n",
    "#新建了c和s字段\n",
    "(Clumper(list_dicts)\n",
    " .mutate(c=lambda d: d['a'] + d['b'],\n",
    "         s=lambda d: d['a'] + d['b'] + d['c'])\n",
    " .collect()\n",
    ")"
   ]
  },
  {
   "cell_type": "markdown",
   "metadata": {},
   "source": [
    "## Sort\n",
    "sort可以实现排序\n",
    "![](img/sort.png)"
   ]
  },
  {
   "cell_type": "code",
   "execution_count": 21,
   "metadata": {},
   "outputs": [
    {
     "data": {
      "text/plain": [
       "[{'a': 2, 'b': 1}, {'a': 1, 'b': 2}, {'a': 3, 'b': 3}]"
      ]
     },
     "execution_count": 21,
     "metadata": {},
     "output_type": "execute_result"
    }
   ],
   "source": [
    "from clumper import Clumper\n",
    "\n",
    "list_dicts = [\n",
    "    {'a': 1, 'b': 2},\n",
    "    {'a': 3, 'b': 3},\n",
    "    {'a': 2, 'b': 1}]\n",
    "\n",
    "(Clumper(list_dicts)\n",
    "  .sort(lambda d: d['b']) #默认升序\n",
    "  .collect()\n",
    ")"
   ]
  },
  {
   "cell_type": "markdown",
   "metadata": {},
   "source": [
    "## Select\n",
    "select挑选每条记录中的某个(些)字段\n",
    "![](img/select.png)"
   ]
  },
  {
   "cell_type": "code",
   "execution_count": 20,
   "metadata": {},
   "outputs": [
    {
     "data": {
      "text/plain": [
       "[{'a': 1}, {'a': 2}, {'a': 1}]"
      ]
     },
     "execution_count": 20,
     "metadata": {},
     "output_type": "execute_result"
    }
   ],
   "source": [
    "from clumper import Clumper\n",
    "\n",
    "list_dicts = [\n",
    "    {'a': 1, 'b': 2},\n",
    "    {'a': 2, 'b': 3, 'c':4},\n",
    "    {'a': 1, 'b': 6}]\n",
    "\n",
    "(Clumper(list_dicts)\n",
    " .select('a')\n",
    " .collect()\n",
    ")"
   ]
  },
  {
   "cell_type": "markdown",
   "metadata": {},
   "source": [
    "## Drop\n",
    "剔除某个（些）字段。\n",
    "![](img/drop.png)"
   ]
  },
  {
   "cell_type": "code",
   "execution_count": 24,
   "metadata": {},
   "outputs": [
    {
     "data": {
      "text/plain": [
       "[{'a': 1, 'b': 2}, {'a': 2, 'b': 3}, {'a': 1, 'b': 6}]"
      ]
     },
     "execution_count": 24,
     "metadata": {},
     "output_type": "execute_result"
    }
   ],
   "source": [
    "from clumper import Clumper\n",
    "\n",
    "list_dicts = [\n",
    "    {'a': 1, 'b': 2},\n",
    "    {'a': 2, 'b': 3, 'c':4},\n",
    "    {'a': 1, 'b': 6}]\n",
    "\n",
    "(Clumper(list_dicts)\n",
    " .drop('c')\n",
    " .collect()\n",
    ")"
   ]
  },
  {
   "cell_type": "markdown",
   "metadata": {},
   "source": [
    "## GroupBy\n",
    "根据某个（些）字段对数据集进行分组，得到不同Group类的集合。一般与``.agg()``方法联合使用。\n",
    "![](img/groupby.png)"
   ]
  },
  {
   "cell_type": "code",
   "execution_count": 42,
   "metadata": {},
   "outputs": [
    {
     "data": {
      "text/plain": [
       "True"
      ]
     },
     "execution_count": 42,
     "metadata": {},
     "output_type": "execute_result"
    }
   ],
   "source": [
    "from clumper import Clumper\n",
    "\n",
    "grade_dicts = [\n",
    "    {'gender': '男', 'grade': 98, 'name': '张三'},\n",
    "    {'gender': '女', 'grade': 88, 'name': '王五'},\n",
    "    {'gender': '女', 'grade': 99, 'name': '赵六'},\n",
    "    {'gender': '男', 'grade': 58, 'name': '李四'}]\n",
    "\n",
    "(Clumper(grade_dicts)\n",
    " .group_by(\"gender\")\n",
    " .groups==('gender', )\n",
    ")"
   ]
  },
  {
   "cell_type": "markdown",
   "metadata": {},
   "source": [
    "## Ungroup\n",
    "GroupBy的反操作\n",
    "![](img/ungroup.png)"
   ]
  },
  {
   "cell_type": "code",
   "execution_count": 44,
   "metadata": {},
   "outputs": [
    {
     "data": {
      "text/plain": [
       "True"
      ]
     },
     "execution_count": 44,
     "metadata": {},
     "output_type": "execute_result"
    }
   ],
   "source": [
    "from clumper import Clumper\n",
    "\n",
    "grade_dicts = [\n",
    "    {'gender': '男', 'grade': 98, 'name': '张三'},\n",
    "    {'gender': '女', 'grade': 88, 'name': '王五'},\n",
    "    {'gender': '女', 'grade': 99, 'name': '赵六'},\n",
    "    {'gender': '男', 'grade': 58, 'name': '李四'}]\n",
    "\n",
    "(Clumper(grade_dicts)\n",
    " .group_by(\"gender\")\n",
    " .ungroup().groups == tuple()\n",
    ")"
   ]
  },
  {
   "cell_type": "markdown",
   "metadata": {},
   "source": [
    "## Agg\n",
    "聚合描述性统计方法\n",
    "\n",
    "agg如下图，可以理解成三个步骤，即group->split->summary\n",
    "![](img/split-apply-combine.png)\n",
    "\n",
    "常用的描述性统计函数有： ```mean、count、unqiue、n_unique、sum、min和max```\n",
    "\n",
    "求学生的平均成绩、最优和最差成绩"
   ]
  },
  {
   "cell_type": "code",
   "execution_count": 46,
   "metadata": {},
   "outputs": [
    {
     "data": {
      "text/plain": [
       "[{'mean_grade': 85.75, 'max_grade': 99, 'min_grade': 58}]"
      ]
     },
     "execution_count": 46,
     "metadata": {},
     "output_type": "execute_result"
    }
   ],
   "source": [
    "from clumper import Clumper\n",
    "\n",
    "grade_dicts = [\n",
    "    {'gender': '男', 'grade': 98, 'name': '张三'},\n",
    "    {'gender': '女', 'grade': 88, 'name': '王五'},\n",
    "    {'gender': '女', 'grade': 99, 'name': '赵六'},\n",
    "    {'gender': '男', 'grade': 58, 'name': '李四'}]\n",
    "\n",
    "(Clumper(grade_dicts)\n",
    " .agg(mean_grade=('grade', 'mean'),\n",
    "      max_grade=('grade', 'max'),\n",
    "      min_grade=('grade', 'min'))\n",
    " .collect()\n",
    ")"
   ]
  },
  {
   "cell_type": "markdown",
   "metadata": {},
   "source": [
    "求男生和女生各自的平均成绩、最优和最差成绩"
   ]
  },
  {
   "cell_type": "code",
   "execution_count": 47,
   "metadata": {},
   "outputs": [
    {
     "data": {
      "text/plain": [
       "[{'gender': '男', 'mean_grade': 78, 'max_grade': 98, 'min_grade': 58},\n",
       " {'gender': '女', 'mean_grade': 93.5, 'max_grade': 99, 'min_grade': 88}]"
      ]
     },
     "execution_count": 47,
     "metadata": {},
     "output_type": "execute_result"
    }
   ],
   "source": [
    "from clumper import Clumper\n",
    "\n",
    "grade_dicts = [\n",
    "    {'gender': '男', 'grade': 98, 'name': '张三'},\n",
    "    {'gender': '女', 'grade': 88, 'name': '王五'},\n",
    "    {'gender': '女', 'grade': 99, 'name': '赵六'},\n",
    "    {'gender': '男', 'grade': 58, 'name': '李四'}]\n",
    "\n",
    "#对\n",
    "(Clumper(grade_dicts)\n",
    " .group_by('gender')\n",
    " .agg(mean_grade=('grade', 'mean'),\n",
    "      max_grade=('grade', 'max'),\n",
    "      min_grade=('grade', 'min'))\n",
    " .collect()\n",
    ")"
   ]
  },
  {
   "cell_type": "markdown",
   "metadata": {},
   "source": [
    "## Collect\n",
    "一般Clumper函数返回的结果显示为Clumper类，是看不到具体内容的。\n",
    "\n",
    "\n",
    "collect作用主要是展开显示。\n",
    "![](img/collect.png)"
   ]
  },
  {
   "cell_type": "markdown",
   "metadata": {},
   "source": [
    "## 剔除重复\n",
    "剔除重复内容\n",
    "![](img/drop_duplicates.png)"
   ]
  },
  {
   "cell_type": "code",
   "execution_count": 50,
   "metadata": {},
   "outputs": [
    {
     "data": {
      "text/plain": [
       "[{'a': 1}, {'a': 2}]"
      ]
     },
     "execution_count": 50,
     "metadata": {},
     "output_type": "execute_result"
    }
   ],
   "source": [
    "from clumper import Clumper\n",
    "\n",
    "data = [{\"a\": 1}, \n",
    "        {\"a\": 2}, \n",
    "        {\"a\": 2}]\n",
    "\n",
    "(Clumper(data)\n",
    " .drop_duplicates()\n",
    " .collect()\n",
    " )"
   ]
  },
  {
   "cell_type": "code",
   "execution_count": null,
   "metadata": {},
   "outputs": [],
   "source": []
  }
 ],
 "metadata": {
  "kernelspec": {
   "display_name": "Python 3",
   "language": "python",
   "name": "python3"
  },
  "language_info": {
   "codemirror_mode": {
    "name": "ipython",
    "version": 3
   },
   "file_extension": ".py",
   "mimetype": "text/x-python",
   "name": "python",
   "nbconvert_exporter": "python",
   "pygments_lexer": "ipython3",
   "version": "3.7.5"
  }
 },
 "nbformat": 4,
 "nbformat_minor": 4
}
