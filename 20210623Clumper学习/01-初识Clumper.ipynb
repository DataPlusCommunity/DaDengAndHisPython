{
 "cells": [
  {
   "cell_type": "markdown",
   "metadata": {},
   "source": [
    "Clumper可以用来处理嵌套样式的json数据结构。\n",
    "\n",
    "\n",
    "## 安装"
   ]
  },
  {
   "cell_type": "code",
   "execution_count": 6,
   "metadata": {},
   "outputs": [
    {
     "name": "stdout",
     "output_type": "stream",
     "text": [
      "Looking in indexes: https://pypi.tuna.tsinghua.edu.cn/simple\n",
      "Collecting clumper\n",
      "  Downloading https://pypi.tuna.tsinghua.edu.cn/packages/70/62/0731ab9b48c91132aff487217980dcb147ffc0922a278adc05986f6a8d4b/clumper-0.2.13-py2.py3-none-any.whl (21 kB)\n",
      "Installing collected packages: clumper\n",
      "Successfully installed clumper-0.2.13\n",
      "\u001b[33mWARNING: You are using pip version 20.0.2; however, version 21.1.2 is available.\n",
      "You should consider upgrading via the '/Library/Frameworks/Python.framework/Versions/3.7/bin/python3.7 -m pip install --upgrade pip' command.\u001b[0m\n"
     ]
    }
   ],
   "source": [
    "!pip3 install clumper"
   ]
  },
  {
   "cell_type": "markdown",
   "metadata": {},
   "source": [
    "为了展示Clumper如何工作，我准备了pokemon.json， 由列表组成(该列表由多个字典组成)，下面是pokemon.json部分内容"
   ]
  },
  {
   "cell_type": "code",
   "execution_count": 7,
   "metadata": {},
   "outputs": [
    {
     "data": {
      "text/plain": [
       "[{'name': 'Bulbasaur',\n",
       "  'type': ['Grass', 'Poison'],\n",
       "  'total': 318,\n",
       "  'hp': 45,\n",
       "  'attack': 49},\n",
       " {'name': 'Ivysaur',\n",
       "  'type': ['Grass', 'Poison'],\n",
       "  'total': 405,\n",
       "  'hp': 60,\n",
       "  'attack': 62}]"
      ]
     },
     "execution_count": 7,
     "metadata": {},
     "output_type": "execute_result"
    }
   ],
   "source": [
    "import json\n",
    "\n",
    "with open('pokemon.json') as jsonf:\n",
    "    pokemon = json.loads(jsonf.read())\n",
    "    \n",
    "pokemon[:2]"
   ]
  },
  {
   "cell_type": "markdown",
   "metadata": {},
   "source": [
    "我们准备的pokemon.json列表中大概有800个字典，数量级刚刚好，不会因为太大导致电脑无法运行数据分析，也不会太小导致手动操作性价比更高。\n",
    "\n",
    "## Example\n",
    "### 基本操作"
   ]
  },
  {
   "cell_type": "code",
   "execution_count": 19,
   "metadata": {},
   "outputs": [
    {
     "data": {
      "text/plain": [
       "[{'a': 2, 'b': 4, 'c': 6}, {'a': 7, 'b': 2, 'c': 9}, {'a': 3, 'b': 6, 'c': 9}]"
      ]
     },
     "execution_count": 19,
     "metadata": {},
     "output_type": "execute_result"
    }
   ],
   "source": [
    "from clumper import Clumper\n",
    "\n",
    "list_of_dicts = [\n",
    "    {'a': 7, 'b': 2},\n",
    "    {'a': 2, 'b': 4},\n",
    "    {'a': 3, 'b': 6}\n",
    "]\n",
    "\n",
    "(Clumper(list_of_dicts)\n",
    " .mutate(c=lambda d: d['a']+d['b'])\n",
    " .sort(lambda d: d['c'])\n",
    " .collect()\n",
    ")"
   ]
  },
  {
   "cell_type": "markdown",
   "metadata": {},
   "source": [
    "### 代码解析\n",
    "**Step1**\n",
    "\n",
    "首先使用**mutate**方法，该方法可以在每条记录中生成新变量。\n",
    "![](img/first-mutate.png)\n",
    "结算结果仍为Clumper类\n",
    "\n",
    "\n",
    "**Step2**\n",
    "\n",
    "接下来对mutate之后的数据进行排序\n",
    "![](img/then-sort.png)\n",
    "得到的结果仍为Clumper类。\n",
    "\n",
    "从上面的小代码案例中，可以看到整套流程像是一个流水线车间，每一行就是一个生成环节，生产环节之间使用.连接起来。"
   ]
  },
  {
   "cell_type": "code",
   "execution_count": 20,
   "metadata": {},
   "outputs": [
    {
     "data": {
      "text/plain": [
       "[{'name': 'Diglett', 'type': 'Ground', 'ratio': 5.5},\n",
       " {'name': 'DeoxysAttack Forme', 'type': 'Psychic', 'ratio': 3.6},\n",
       " {'name': 'Krabby', 'type': 'Water', 'ratio': 3.5},\n",
       " {'name': 'DeoxysNormal Forme', 'type': 'Psychic', 'ratio': 3.0},\n",
       " {'name': 'BanetteMega Banette', 'type': 'Ghost', 'ratio': 2.578125}]"
      ]
     },
     "execution_count": 20,
     "metadata": {},
     "output_type": "execute_result"
    }
   ],
   "source": [
    "from clumper import Clumper\n",
    "    \n",
    "(Clumper(pokemon)\n",
    " .keep(lambda d: len(d['type'])==1)  #保留type长度为1的字典\n",
    " .mutate(type=lambda d: d['type'][0], #type值从列表变为字符串\n",
    "         ratio=lambda d: d['attack']/d['hp']) #新建ratio\n",
    " .select('name', 'type', 'ratio')   #字典最后只保留name， type， ratio三个字段\n",
    " .sort(lambda d: d['ratio'], reverse=True) #按照ratio降序排列\n",
    " .head(5) #只保留前5个\n",
    " .collect() #转成列表显示\n",
    ")"
   ]
  },
  {
   "cell_type": "code",
   "execution_count": null,
   "metadata": {},
   "outputs": [],
   "source": []
  }
 ],
 "metadata": {
  "kernelspec": {
   "display_name": "Python 3",
   "language": "python",
   "name": "python3"
  },
  "language_info": {
   "codemirror_mode": {
    "name": "ipython",
    "version": 3
   },
   "file_extension": ".py",
   "mimetype": "text/x-python",
   "name": "python",
   "nbconvert_exporter": "python",
   "pygments_lexer": "ipython3",
   "version": "3.7.5"
  }
 },
 "nbformat": 4,
 "nbformat_minor": 4
}
