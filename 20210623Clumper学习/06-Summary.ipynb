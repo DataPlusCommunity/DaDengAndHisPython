{
 "cells": [
  {
   "cell_type": "markdown",
   "metadata": {},
   "source": [
    "Clumper支持常用的统计性方法，诸如mean、max、min等"
   ]
  },
  {
   "cell_type": "markdown",
   "metadata": {},
   "source": [
    "## mean\n",
    "![](img/mean.png)"
   ]
  },
  {
   "cell_type": "code",
   "execution_count": 1,
   "metadata": {},
   "outputs": [
    {
     "data": {
      "text/plain": [
       "3.5"
      ]
     },
     "execution_count": 1,
     "metadata": {},
     "output_type": "execute_result"
    }
   ],
   "source": [
    "from clumper import Clumper\n",
    "\n",
    "list_of_dicts = [\n",
    "    {'a': 7},\n",
    "    {'a': 2, 'b': 7},\n",
    "    {'a': 3, 'b': 6},\n",
    "    {'a': 2, 'b': 7}\n",
    "]\n",
    "\n",
    "Clumper(list_of_dicts).mean(\"a\")"
   ]
  },
  {
   "cell_type": "code",
   "execution_count": 2,
   "metadata": {},
   "outputs": [
    {
     "data": {
      "text/plain": [
       "6.666666666666667"
      ]
     },
     "execution_count": 2,
     "metadata": {},
     "output_type": "execute_result"
    }
   ],
   "source": [
    "Clumper(list_of_dicts).mean(\"b\")"
   ]
  },
  {
   "cell_type": "markdown",
   "metadata": {},
   "source": [
    "## count\n",
    "统计记录数\n",
    "![](img/count.png)"
   ]
  },
  {
   "cell_type": "code",
   "execution_count": 3,
   "metadata": {},
   "outputs": [
    {
     "data": {
      "text/plain": [
       "4"
      ]
     },
     "execution_count": 3,
     "metadata": {},
     "output_type": "execute_result"
    }
   ],
   "source": [
    "from clumper import Clumper\n",
    "\n",
    "list_of_dicts = [\n",
    "    {'a': 7},\n",
    "    {'a': 2, 'b': 7},\n",
    "    {'a': 3, 'b': 6},\n",
    "    {'a': 2, 'b': 7}\n",
    "]\n",
    "\n",
    "#含有a的一共有多少条记录\n",
    "Clumper(list_of_dicts).count(\"a\")"
   ]
  },
  {
   "cell_type": "code",
   "execution_count": 4,
   "metadata": {},
   "outputs": [
    {
     "data": {
      "text/plain": [
       "3"
      ]
     },
     "execution_count": 4,
     "metadata": {},
     "output_type": "execute_result"
    }
   ],
   "source": [
    "Clumper(list_of_dicts).count(\"b\")"
   ]
  },
  {
   "cell_type": "markdown",
   "metadata": {},
   "source": [
    "## unique\n",
    "汇总某字段不重样的值的种类，如``[a, b, a, a]``，经过unique后，返回``[a, b]``\n",
    "![](img/unique.png)"
   ]
  },
  {
   "cell_type": "code",
   "execution_count": 7,
   "metadata": {},
   "outputs": [
    {
     "data": {
      "text/plain": [
       "[2, 3, 7]"
      ]
     },
     "execution_count": 7,
     "metadata": {},
     "output_type": "execute_result"
    }
   ],
   "source": [
    "from clumper import Clumper\n",
    "\n",
    "list_of_dicts = [\n",
    "    {'a': 7},\n",
    "    {'a': 2, 'b': 7},\n",
    "    {'a': 3, 'b': 6},\n",
    "    {'a': 2, 'b': 7}\n",
    "]\n",
    "\n",
    "Clumper(list_of_dicts).unique(\"a\")"
   ]
  },
  {
   "cell_type": "code",
   "execution_count": 6,
   "metadata": {},
   "outputs": [
    {
     "data": {
      "text/plain": [
       "[6, 7]"
      ]
     },
     "execution_count": 6,
     "metadata": {},
     "output_type": "execute_result"
    }
   ],
   "source": [
    "Clumper(list_of_dicts).unique(\"b\")"
   ]
  },
  {
   "cell_type": "markdown",
   "metadata": {},
   "source": [
    "## n_unique\n",
    "统计某字段对应的值一种有多少种\n",
    "![](img/nunique.png)"
   ]
  },
  {
   "cell_type": "code",
   "execution_count": 8,
   "metadata": {},
   "outputs": [
    {
     "data": {
      "text/plain": [
       "3"
      ]
     },
     "execution_count": 8,
     "metadata": {},
     "output_type": "execute_result"
    }
   ],
   "source": [
    "from clumper import Clumper\n",
    "\n",
    "list_of_dicts = [\n",
    "    {'a': 7},\n",
    "    {'a': 2, 'b': 7},\n",
    "    {'a': 3, 'b': 6},\n",
    "    {'a': 2, 'b': 7}\n",
    "]\n",
    "\n",
    "Clumper(list_of_dicts).n_unique(\"a\")"
   ]
  },
  {
   "cell_type": "code",
   "execution_count": 9,
   "metadata": {},
   "outputs": [
    {
     "data": {
      "text/plain": [
       "2"
      ]
     },
     "execution_count": 9,
     "metadata": {},
     "output_type": "execute_result"
    }
   ],
   "source": [
    "Clumper(list_of_dicts).n_unique(\"b\")"
   ]
  },
  {
   "cell_type": "markdown",
   "metadata": {},
   "source": [
    "## min\n",
    "![](img/min.png)"
   ]
  },
  {
   "cell_type": "code",
   "execution_count": 10,
   "metadata": {},
   "outputs": [
    {
     "data": {
      "text/plain": [
       "2"
      ]
     },
     "execution_count": 10,
     "metadata": {},
     "output_type": "execute_result"
    }
   ],
   "source": [
    "from clumper import Clumper\n",
    "\n",
    "list_of_dicts = [\n",
    "    {'a': 7},\n",
    "    {'a': 2, 'b': 7},\n",
    "    {'a': 3, 'b': 6},\n",
    "    {'a': 2, 'b': 7}\n",
    "]\n",
    "\n",
    "Clumper(list_of_dicts).min(\"a\")"
   ]
  },
  {
   "cell_type": "code",
   "execution_count": 11,
   "metadata": {},
   "outputs": [
    {
     "data": {
      "text/plain": [
       "6"
      ]
     },
     "execution_count": 11,
     "metadata": {},
     "output_type": "execute_result"
    }
   ],
   "source": [
    "Clumper(list_of_dicts).min(\"b\")"
   ]
  },
  {
   "cell_type": "markdown",
   "metadata": {},
   "source": [
    "## max\n",
    "![](img/max.png)"
   ]
  },
  {
   "cell_type": "code",
   "execution_count": 12,
   "metadata": {},
   "outputs": [
    {
     "data": {
      "text/plain": [
       "7"
      ]
     },
     "execution_count": 12,
     "metadata": {},
     "output_type": "execute_result"
    }
   ],
   "source": [
    "from clumper import Clumper\n",
    "\n",
    "list_of_dicts = [\n",
    "    {'a': 7},\n",
    "    {'a': 2, 'b': 7},\n",
    "    {'a': 3, 'b': 6},\n",
    "    {'a': 2, 'b': 7}\n",
    "]\n",
    "\n",
    "Clumper(list_of_dicts).max(\"a\")"
   ]
  },
  {
   "cell_type": "code",
   "execution_count": 13,
   "metadata": {},
   "outputs": [
    {
     "data": {
      "text/plain": [
       "7"
      ]
     },
     "execution_count": 13,
     "metadata": {},
     "output_type": "execute_result"
    }
   ],
   "source": [
    "Clumper(list_of_dicts).max(\"b\")"
   ]
  },
  {
   "cell_type": "code",
   "execution_count": null,
   "metadata": {},
   "outputs": [],
   "source": []
  }
 ],
 "metadata": {
  "kernelspec": {
   "display_name": "Python 3",
   "language": "python",
   "name": "python3"
  },
  "language_info": {
   "codemirror_mode": {
    "name": "ipython",
    "version": 3
   },
   "file_extension": ".py",
   "mimetype": "text/x-python",
   "name": "python",
   "nbconvert_exporter": "python",
   "pygments_lexer": "ipython3",
   "version": "3.7.5"
  }
 },
 "nbformat": 4,
 "nbformat_minor": 4
}
