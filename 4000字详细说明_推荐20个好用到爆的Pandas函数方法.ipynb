{
 "cells": [
  {
   "cell_type": "markdown",
   "metadata": {},
   "source": [
    ">src: https://mp.weixin.qq.com/s/PEhYrNbZyI9Prl3OwrBcAw\n",
    ">author: 俊欣\n",
    ">公众号: 关于数据分析与可视化\n",
    "\n",
    "\n",
    "[](https://github.com/hidadeng/DaDengAndHisPython/blob/master/img/分销奖励.jpg)\n",
    "\n",
    "/hidadeng/DaDengAndHisPython/blob/master/img/分销奖励.jpg?raw=true\n",
    "\n",
    "今天分享几个不为人知的pandas函数，大家可能平时看到的不多，但是使用起来倒是非常的方便，也能够帮助我们数据分析人员大幅度地提高工作效率，同时也希望大家看完之后能够有所收获\n",
    "- items()方法\n",
    "- iterrows()方法\n",
    "- insert()方法\n",
    "- assign()方法\n",
    "- eval()方法\n",
    "- pop()方法\n",
    "- truncate()方法\n",
    "- count()方法\n",
    "- add_prefix()方法/add_suffix()方法\n",
    "- clip()方法\n",
    "- filter()方法\n",
    "- first()方法\n",
    "- isin()方法\n",
    "- df.plot.area()方法\n",
    "- df.plot.bar()方法\n",
    "- df.plot.box()方法\n",
    "- df.plot.pie()方法"
   ]
  },
  {
   "cell_type": "markdown",
   "metadata": {},
   "source": [
    "## items()方法\n",
    "pandas当中的``items()``方法可以用来遍历数据集当中的每一列，同时返回列名以及每一列当中的内容，通过以元组的形式，示例如下"
   ]
  },
  {
   "cell_type": "code",
   "execution_count": null,
   "metadata": {},
   "outputs": [],
   "source": [
    "import pandas as pd\n",
    "\n",
    "df = pd.DataFrame({'species': ['bear', 'bear', 'marsupial'],\n",
    "                   'population': [1864, 22000, 80000]},\n",
    "                   index=['panda', 'polar', 'koala'])\n",
    "df"
   ]
  },
  {
   "cell_type": "markdown",
   "metadata": {},
   "source": [
    "|       | species   |   population |\n",
    "|:------|:----------|-------------:|\n",
    "| panda | bear      |         1864 |\n",
    "| polar | bear      |        22000 |\n",
    "| koala | marsupial |        80000 |"
   ]
  },
  {
   "cell_type": "code",
   "execution_count": 3,
   "metadata": {},
   "outputs": [
    {
     "name": "stdout",
     "output_type": "stream",
     "text": [
      "label: species\n",
      "content: panda         bear\n",
      "polar         bear\n",
      "koala    marsupial\n",
      "Name: species, dtype: object\n",
      "==================================================\n",
      "label: population\n",
      "content: panda     1864\n",
      "polar    22000\n",
      "koala    80000\n",
      "Name: population, dtype: int64\n",
      "==================================================\n"
     ]
    }
   ],
   "source": [
    "for label, content in df.items():\n",
    "    print(f'label: {label}')\n",
    "    print(f'content: {content}', sep='\\n')\n",
    "    print(\"=\" * 50)"
   ]
  },
  {
   "cell_type": "markdown",
   "metadata": {},
   "source": [
    "相继的打印出了‘species’和‘population’这两列的列名和相应的内容\n"
   ]
  },
  {
   "cell_type": "markdown",
   "metadata": {},
   "source": [
    "## iterrows()方法\n",
    "而对于``iterrows()``方法而言，其功能则是遍历数据集当中的每一行，返回每一行的索引以及带有列名的每一行的内容，示例如下"
   ]
  },
  {
   "cell_type": "code",
   "execution_count": 5,
   "metadata": {},
   "outputs": [
    {
     "name": "stdout",
     "output_type": "stream",
     "text": [
      "label: panda\n",
      "content: species       bear\n",
      "population    1864\n",
      "Name: panda, dtype: object\n",
      "==================================================\n",
      "label: polar\n",
      "content: species        bear\n",
      "population    22000\n",
      "Name: polar, dtype: object\n",
      "==================================================\n",
      "label: koala\n",
      "content: species       marsupial\n",
      "population        80000\n",
      "Name: koala, dtype: object\n",
      "==================================================\n"
     ]
    }
   ],
   "source": [
    "for label, content in df.iterrows():\n",
    "    print(f'label: {label}')\n",
    "    print(f'content: {content}', sep='\\n')\n",
    "    print(\"=\" * 50)"
   ]
  },
  {
   "cell_type": "markdown",
   "metadata": {},
   "source": [
    "## insert()方法\n",
    "``insert()``方法主要是用于在数据集当中的特定位置处插入数据。在DataFrame数据集当中，列的索引也是从0开始的\n",
    "\n",
    "示例如下"
   ]
  },
  {
   "cell_type": "code",
   "execution_count": null,
   "metadata": {},
   "outputs": [],
   "source": [
    "#在第二列插入size字段，内容如下\n",
    "df.insert(1, \"size\", [2000, 3000, 4000])\n",
    "df"
   ]
  },
  {
   "cell_type": "markdown",
   "metadata": {},
   "source": [
    "|       | species   |   size |   population |\n",
    "|:------|:----------|-------:|-------------:|\n",
    "| panda | bear      |   2000 |         1864 |\n",
    "| polar | bear      |   3000 |        22000 |\n",
    "| koala | marsupial |   4000 |        80000 |"
   ]
  },
  {
   "cell_type": "markdown",
   "metadata": {},
   "source": [
    "## assign()方法\n",
    "``assign()``方法可以用来在数据集当中添加新的列，示例如下"
   ]
  },
  {
   "cell_type": "code",
   "execution_count": null,
   "metadata": {},
   "outputs": [],
   "source": [
    "df = df.assign(size_1=lambda x: x.population * 9 / 5 + 32)\n",
    "df"
   ]
  },
  {
   "cell_type": "markdown",
   "metadata": {},
   "source": [
    "|       | species   |   size |   population |   size_1 |\n",
    "|:------|:----------|-------:|-------------:|---------:|\n",
    "| panda | bear      |   2000 |         1864 |   3387.2 |\n",
    "| polar | bear      |   3000 |        22000 |  39632   |\n",
    "| koala | marsupial |   4000 |        80000 | 144032   |"
   ]
  },
  {
   "cell_type": "markdown",
   "metadata": {},
   "source": [
    "从上面的例子中可以看出，我们通过一个lambda匿名函数，在数据集当中添加一个新的列，命名为**size_1**，当然我们也可以通过assign()方法来创建不止一个列"
   ]
  },
  {
   "cell_type": "code",
   "execution_count": null,
   "metadata": {},
   "outputs": [],
   "source": [
    "df = df.assign(size_1 = lambda x: x.population * 9 / 5 + 32,\n",
    "               size_2 = lambda x: x.population * 8 / 5 + 10)\n",
    "df"
   ]
  },
  {
   "cell_type": "markdown",
   "metadata": {},
   "source": [
    "|       | species   |   size |   population |   size_1 |   size_2 |\n",
    "|:------|:----------|-------:|-------------:|---------:|---------:|\n",
    "| panda | bear      |   2000 |         1864 |   3387.2 |   2992.4 |\n",
    "| polar | bear      |   3000 |        22000 |  39632   |  35210   |\n",
    "| koala | marsupial |   4000 |        80000 | 144032   | 128010   |"
   ]
  },
  {
   "cell_type": "markdown",
   "metadata": {},
   "source": [
    "## eval()方法\n",
    "``eval()``方法主要是用来执行用字符串来表示的运算过程的，例如"
   ]
  },
  {
   "cell_type": "code",
   "execution_count": null,
   "metadata": {},
   "outputs": [],
   "source": [
    "df.eval(\"size_3 = size_1 + size_2\")"
   ]
  },
  {
   "cell_type": "markdown",
   "metadata": {},
   "source": [
    "|       | species   |   size |   population |   size_1 |   size_2 |   size_3 |\n",
    "|:------|:----------|-------:|-------------:|---------:|---------:|---------:|\n",
    "| panda | bear      |   2000 |         1864 |   3387.2 |   2992.4 |   6379.6 |\n",
    "| polar | bear      |   3000 |        22000 |  39632   |  35210   |  74842   |\n",
    "| koala | marsupial |   4000 |        80000 | 144032   | 128010   | 272042   |"
   ]
  },
  {
   "cell_type": "markdown",
   "metadata": {},
   "source": [
    "当然我们也可以同时对执行多个运算过程"
   ]
  },
  {
   "cell_type": "code",
   "execution_count": null,
   "metadata": {},
   "outputs": [],
   "source": [
    "df = df.eval('''\n",
    "size_3 = size_1 + size_2\n",
    "size_4 = size_1 - size_2\n",
    "''')\n",
    "\n",
    "df"
   ]
  },
  {
   "cell_type": "markdown",
   "metadata": {},
   "source": [
    "|       | species   |   size |   population |   size_1 |   size_2 |   size_3 |   size_4 |\n",
    "|:------|:----------|-------:|-------------:|---------:|---------:|---------:|---------:|\n",
    "| panda | bear      |   2000 |         1864 |   3387.2 |   2992.4 |   6379.6 |    394.8 |\n",
    "| polar | bear      |   3000 |        22000 |  39632   |  35210   |  74842   |   4422   |\n",
    "| koala | marsupial |   4000 |        80000 | 144032   | 128010   | 272042   |  16022   |"
   ]
  },
  {
   "cell_type": "markdown",
   "metadata": {},
   "source": [
    "## pop()方法\n",
    "pop()方法主要是用来删除掉数据集中特定的某一列数据"
   ]
  },
  {
   "cell_type": "code",
   "execution_count": null,
   "metadata": {},
   "outputs": [],
   "source": [
    "df.pop(\"size_3\")"
   ]
  },
  {
   "cell_type": "markdown",
   "metadata": {},
   "source": [
    "而原先的数据集当中就没有这个‘size_3’这一例的数据了"
   ]
  },
  {
   "cell_type": "markdown",
   "metadata": {},
   "source": [
    "## truncate()方法\n",
    "``truncate()``方法主要是根据行索引来筛选指定行的数据的，示例如下"
   ]
  },
  {
   "cell_type": "code",
   "execution_count": null,
   "metadata": {},
   "outputs": [],
   "source": [
    "df = pd.DataFrame({'A': ['a', 'b', 'c', 'd', 'e'],\n",
    "                   'B': ['f', 'g', 'h', 'i', 'j'],\n",
    "                   'C': ['k', 'l', 'm', 'n', 'o']},\n",
    "                  index=[1, 2, 3, 4, 5])\n",
    "\n",
    "df"
   ]
  },
  {
   "cell_type": "markdown",
   "metadata": {},
   "source": [
    "|    | A   | B   | C   |\n",
    "|---:|:----|:----|:----|\n",
    "|  1 | a   | f   | k   |\n",
    "|  2 | b   | g   | l   |\n",
    "|  3 | c   | h   | m   |\n",
    "|  4 | d   | i   | n   |\n",
    "|  5 | e   | j   | o   |"
   ]
  },
  {
   "cell_type": "markdown",
   "metadata": {},
   "source": [
    "我们使用``truncate()``方法来做一下尝试"
   ]
  },
  {
   "cell_type": "code",
   "execution_count": null,
   "metadata": {},
   "outputs": [],
   "source": [
    "df.truncate(before=2, after=4)"
   ]
  },
  {
   "cell_type": "markdown",
   "metadata": {},
   "source": [
    "|    | A   | B   | C   |\n",
    "|---:|:----|:----|:----|\n",
    "|  2 | b   | g   | l   |\n",
    "|  3 | c   | h   | m   |\n",
    "|  4 | d   | i   | n   |"
   ]
  },
  {
   "cell_type": "markdown",
   "metadata": {},
   "source": [
    "我们看到参数before和after存在于truncate()方法中，目的就是把行索引2之前和行索引4之后的数据排除在外，筛选出剩余的数据"
   ]
  },
  {
   "cell_type": "markdown",
   "metadata": {},
   "source": [
    "## count()方法\n",
    "``count()``方法主要是用来计算某一列当中非空值的个数，示例如下"
   ]
  },
  {
   "cell_type": "code",
   "execution_count": null,
   "metadata": {},
   "outputs": [],
   "source": [
    "import numpy as np\n",
    "\n",
    "df = pd.DataFrame({\"Name\": [\"John\", \"Myla\", \"Lewis\", \"John\", \"John\"],\n",
    "                   \"Age\": [24., np.nan, 25, 33, 26],\n",
    "                   \"Single\": [True, True, np.nan, True, False]})\n",
    "df"
   ]
  },
  {
   "cell_type": "markdown",
   "metadata": {},
   "source": [
    "|    | Name   |   Age |   Single |\n",
    "|---:|:-------|------:|---------:|\n",
    "|  0 | John   |    24 |        1 |\n",
    "|  1 | Myla   |   nan |        1 |\n",
    "|  2 | Lewis  |    25 |      nan |\n",
    "|  3 | John   |    33 |        1 |\n",
    "|  4 | John   |    26 |        0 |"
   ]
  },
  {
   "cell_type": "markdown",
   "metadata": {},
   "source": [
    "我们使用count()方法来计算一下数据集当中非空值的个数"
   ]
  },
  {
   "cell_type": "code",
   "execution_count": 37,
   "metadata": {},
   "outputs": [
    {
     "data": {
      "text/plain": [
       "Name      5\n",
       "Age       4\n",
       "Single    4\n",
       "dtype: int64"
      ]
     },
     "execution_count": 37,
     "metadata": {},
     "output_type": "execute_result"
    }
   ],
   "source": [
    "df.count()"
   ]
  },
  {
   "cell_type": "markdown",
   "metadata": {},
   "source": [
    "## add_prefix()方法/add_suffix()方法\n",
    "``add_prefix()``方法和``add_suffix()``方法分别会给列名以及行索引添加后缀和前缀，对于``Series()``数据集而言，前缀与后缀是添加在行索引处，而对于``DataFrame()``数据集而言，前缀与后缀是添加在列索引处，示例如下"
   ]
  },
  {
   "cell_type": "code",
   "execution_count": 38,
   "metadata": {},
   "outputs": [
    {
     "data": {
      "text/plain": [
       "0    1\n",
       "1    2\n",
       "2    3\n",
       "3    4\n",
       "dtype: int64"
      ]
     },
     "execution_count": 38,
     "metadata": {},
     "output_type": "execute_result"
    }
   ],
   "source": [
    "s = pd.Series([1, 2, 3, 4])\n",
    "s"
   ]
  },
  {
   "cell_type": "markdown",
   "metadata": {},
   "source": [
    "我们使用add_prefix()方法与add_suffix()方法在Series()数据集上"
   ]
  },
  {
   "cell_type": "code",
   "execution_count": 39,
   "metadata": {},
   "outputs": [
    {
     "data": {
      "text/plain": [
       "row_0    1\n",
       "row_1    2\n",
       "row_2    3\n",
       "row_3    4\n",
       "dtype: int64"
      ]
     },
     "execution_count": 39,
     "metadata": {},
     "output_type": "execute_result"
    }
   ],
   "source": [
    "s.add_prefix('row_')"
   ]
  },
  {
   "cell_type": "markdown",
   "metadata": {},
   "source": [
    "又例如\n"
   ]
  },
  {
   "cell_type": "code",
   "execution_count": 40,
   "metadata": {},
   "outputs": [
    {
     "data": {
      "text/plain": [
       "0_row    1\n",
       "1_row    2\n",
       "2_row    3\n",
       "3_row    4\n",
       "dtype: int64"
      ]
     },
     "execution_count": 40,
     "metadata": {},
     "output_type": "execute_result"
    }
   ],
   "source": [
    "s.add_suffix('_row')"
   ]
  },
  {
   "cell_type": "markdown",
   "metadata": {},
   "source": [
    "而对于``DataFrame()``形式数据集而言，``add_prefix()``方法以及``add_suffix()``方法是将前缀与后缀添加在列索引处的"
   ]
  },
  {
   "cell_type": "code",
   "execution_count": null,
   "metadata": {},
   "outputs": [],
   "source": [
    "df = pd.DataFrame({'A': [1, 2, 3, 4], \n",
    "                   'B': [3, 4, 5, 6]})\n",
    "df"
   ]
  },
  {
   "cell_type": "markdown",
   "metadata": {},
   "source": [
    "|    |   A |   B |\n",
    "|---:|----:|----:|\n",
    "|  0 |   1 |   3 |\n",
    "|  1 |   2 |   4 |\n",
    "|  2 |   3 |   5 |\n",
    "|  3 |   4 |   6 |"
   ]
  },
  {
   "cell_type": "code",
   "execution_count": null,
   "metadata": {},
   "outputs": [],
   "source": [
    "df.add_prefix(\"column_\")"
   ]
  },
  {
   "cell_type": "markdown",
   "metadata": {},
   "source": [
    "|    |   column_A |   column_B |\n",
    "|---:|----:|----:|\n",
    "|  0 |   1 |   3 |\n",
    "|  1 |   2 |   4 |\n",
    "|  2 |   3 |   5 |\n",
    "|  3 |   4 |   6 |"
   ]
  },
  {
   "cell_type": "code",
   "execution_count": null,
   "metadata": {},
   "outputs": [],
   "source": [
    "df.add_suffix(\"_column\")"
   ]
  },
  {
   "cell_type": "markdown",
   "metadata": {},
   "source": [
    "|    |   A_column |   B_column |\n",
    "|---:|----:|----:|\n",
    "|  0 |   1 |   3 |\n",
    "|  1 |   2 |   4 |\n",
    "|  2 |   3 |   5 |\n",
    "|  3 |   4 |   6 |"
   ]
  },
  {
   "cell_type": "markdown",
   "metadata": {},
   "source": [
    "## clip()方法\n",
    "``clip()``方法主要是通过设置阈值来改变数据集当中的数值，当数值超过阈值的时候，就做出相应的调整"
   ]
  },
  {
   "cell_type": "code",
   "execution_count": null,
   "metadata": {},
   "outputs": [],
   "source": [
    "data = {'col_0': [9, -3, 0, -1, 5], 'col_1': [-2, -7, 6, 8, -5]}\n",
    "df = pd.DataFrame(data)\n",
    "df"
   ]
  },
  {
   "cell_type": "markdown",
   "metadata": {},
   "source": [
    "|    |   col_0 |   col_1 |\n",
    "|---:|--------:|--------:|\n",
    "|  0 |       9 |      -2 |\n",
    "|  1 |      -3 |      -7 |\n",
    "|  2 |       0 |       6 |\n",
    "|  3 |      -1 |       8 |\n",
    "|  4 |       5 |      -5 |"
   ]
  },
  {
   "cell_type": "code",
   "execution_count": null,
   "metadata": {},
   "outputs": [],
   "source": [
    "df.clip(lower = -4, upper = 4)"
   ]
  },
  {
   "cell_type": "markdown",
   "metadata": {},
   "source": [
    "|    |   col_0 |   col_1 |\n",
    "|---:|--------:|--------:|\n",
    "|  0 |       4 |      -2 |\n",
    "|  1 |      -3 |      -4 |\n",
    "|  2 |       0 |       4 |\n",
    "|  3 |      -1 |       4 |\n",
    "|  4 |       4 |      -4 |"
   ]
  },
  {
   "cell_type": "markdown",
   "metadata": {},
   "source": [
    "我们看到参数lower和upper分别代表阈值的上限与下限，数据集当中超过上限与下限的值会被替代。\n",
    "\n",
    "\n",
    "## filter()方法\n",
    "pandas当中的``filter()``方法是用来筛选出特定范围的数据的，示例如下"
   ]
  },
  {
   "cell_type": "code",
   "execution_count": null,
   "metadata": {},
   "outputs": [],
   "source": [
    "df = pd.DataFrame(np.array(([1, 2, 3], [4, 5, 6], [7, 8, 9], [10, 11, 12])),\n",
    "                  index=['A', 'B', 'C', 'D'],\n",
    "                  columns=['one', 'two', 'three'])\n",
    "df"
   ]
  },
  {
   "cell_type": "markdown",
   "metadata": {},
   "source": [
    "|    |   one |   two |   three |\n",
    "|:---|------:|------:|--------:|\n",
    "| A  |     1 |     2 |       3 |\n",
    "| B  |     4 |     5 |       6 |\n",
    "| C  |     7 |     8 |       9 |\n",
    "| D  |    10 |    11 |      12 |"
   ]
  },
  {
   "cell_type": "markdown",
   "metadata": {},
   "source": [
    "我们使用filter()方法来筛选数据"
   ]
  },
  {
   "cell_type": "code",
   "execution_count": null,
   "metadata": {},
   "outputs": [],
   "source": [
    "df.filter(items=['one', 'three'])"
   ]
  },
  {
   "cell_type": "markdown",
   "metadata": {},
   "source": [
    "|    |   one |   three |\n",
    "|:---|------:|--------:|\n",
    "| A  |     1 |       3 |\n",
    "| B  |     4 |       6 |\n",
    "| C  |     7 |       9 |\n",
    "| D  |    10 |      12 |"
   ]
  },
  {
   "cell_type": "markdown",
   "metadata": {},
   "source": [
    "我们还可以使用正则表达式来筛选数据\n"
   ]
  },
  {
   "cell_type": "code",
   "execution_count": null,
   "metadata": {},
   "outputs": [],
   "source": [
    "#字段名e结尾的列\n",
    "df.filter(regex='e$', axis=1)"
   ]
  },
  {
   "cell_type": "markdown",
   "metadata": {},
   "source": [
    "|    |   one |   three |\n",
    "|:---|------:|--------:|\n",
    "| A  |     1 |       3 |\n",
    "| B  |     4 |       6 |\n",
    "| C  |     7 |       9 |\n",
    "| D  |    10 |      12 |"
   ]
  },
  {
   "cell_type": "markdown",
   "metadata": {},
   "source": [
    "当然通过参数axis来调整筛选行方向或者是列方向的数据"
   ]
  },
  {
   "cell_type": "code",
   "execution_count": null,
   "metadata": {},
   "outputs": [],
   "source": [
    "df.filter(like='B', axis=0)"
   ]
  },
  {
   "cell_type": "markdown",
   "metadata": {},
   "source": [
    "|    |   one |   two |   three |\n",
    "|:---|------:|------:|--------:|\n",
    "| B  |     4 |     5 |       6 |"
   ]
  },
  {
   "cell_type": "markdown",
   "metadata": {},
   "source": [
    "## first()方法\n",
    "当数据集当中的行索引是日期的时候，可以通过该方法来筛选前面几行的数据"
   ]
  },
  {
   "cell_type": "code",
   "execution_count": 53,
   "metadata": {},
   "outputs": [
    {
     "data": {
      "text/html": [
       "<div>\n",
       "<style scoped>\n",
       "    .dataframe tbody tr th:only-of-type {\n",
       "        vertical-align: middle;\n",
       "    }\n",
       "\n",
       "    .dataframe tbody tr th {\n",
       "        vertical-align: top;\n",
       "    }\n",
       "\n",
       "    .dataframe thead th {\n",
       "        text-align: right;\n",
       "    }\n",
       "</style>\n",
       "<table border=\"1\" class=\"dataframe\">\n",
       "  <thead>\n",
       "    <tr style=\"text-align: right;\">\n",
       "      <th></th>\n",
       "      <th>A</th>\n",
       "    </tr>\n",
       "  </thead>\n",
       "  <tbody>\n",
       "    <tr>\n",
       "      <th>2021-11-11</th>\n",
       "      <td>1</td>\n",
       "    </tr>\n",
       "    <tr>\n",
       "      <th>2021-11-13</th>\n",
       "      <td>2</td>\n",
       "    </tr>\n",
       "    <tr>\n",
       "      <th>2021-11-15</th>\n",
       "      <td>3</td>\n",
       "    </tr>\n",
       "    <tr>\n",
       "      <th>2021-11-17</th>\n",
       "      <td>4</td>\n",
       "    </tr>\n",
       "    <tr>\n",
       "      <th>2021-11-19</th>\n",
       "      <td>5</td>\n",
       "    </tr>\n",
       "  </tbody>\n",
       "</table>\n",
       "</div>"
      ],
      "text/plain": [
       "            A\n",
       "2021-11-11  1\n",
       "2021-11-13  2\n",
       "2021-11-15  3\n",
       "2021-11-17  4\n",
       "2021-11-19  5"
      ]
     },
     "execution_count": 53,
     "metadata": {},
     "output_type": "execute_result"
    }
   ],
   "source": [
    "index_1 = pd.date_range('2021-11-11', periods=5, freq='2D')\n",
    "ts = pd.DataFrame({'A': [1, 2, 3, 4, 5]}, index=index_1)\n",
    "ts"
   ]
  },
  {
   "cell_type": "markdown",
   "metadata": {},
   "source": [
    "我们使用first()方法来进行一些操作，例如筛选出前面3天的数据"
   ]
  },
  {
   "cell_type": "code",
   "execution_count": 54,
   "metadata": {},
   "outputs": [
    {
     "data": {
      "text/html": [
       "<div>\n",
       "<style scoped>\n",
       "    .dataframe tbody tr th:only-of-type {\n",
       "        vertical-align: middle;\n",
       "    }\n",
       "\n",
       "    .dataframe tbody tr th {\n",
       "        vertical-align: top;\n",
       "    }\n",
       "\n",
       "    .dataframe thead th {\n",
       "        text-align: right;\n",
       "    }\n",
       "</style>\n",
       "<table border=\"1\" class=\"dataframe\">\n",
       "  <thead>\n",
       "    <tr style=\"text-align: right;\">\n",
       "      <th></th>\n",
       "      <th>A</th>\n",
       "    </tr>\n",
       "  </thead>\n",
       "  <tbody>\n",
       "    <tr>\n",
       "      <th>2021-11-11</th>\n",
       "      <td>1</td>\n",
       "    </tr>\n",
       "    <tr>\n",
       "      <th>2021-11-13</th>\n",
       "      <td>2</td>\n",
       "    </tr>\n",
       "  </tbody>\n",
       "</table>\n",
       "</div>"
      ],
      "text/plain": [
       "            A\n",
       "2021-11-11  1\n",
       "2021-11-13  2"
      ]
     },
     "execution_count": 54,
     "metadata": {},
     "output_type": "execute_result"
    }
   ],
   "source": [
    "ts.first('3D')"
   ]
  },
  {
   "cell_type": "markdown",
   "metadata": {},
   "source": [
    "## isin()方法\n",
    "isin()方法主要是用来确认数据集当中的数值是否被包含在给定的列表当中"
   ]
  },
  {
   "cell_type": "code",
   "execution_count": null,
   "metadata": {},
   "outputs": [],
   "source": [
    "df = pd.DataFrame(np.array(([1, 2, 3], \n",
    "                            [4, 5, 6], \n",
    "                            [7, 8, 9], \n",
    "                            [10, 11, 12])),\n",
    "                  index=['A', 'B', 'C', 'D'],\n",
    "                  columns=['one', 'two', 'three'])\n",
    "df.isin([3, 5, 12])"
   ]
  },
  {
   "cell_type": "markdown",
   "metadata": {},
   "source": [
    "|    |   one |   two |   three |\n",
    "|:---|------:|------:|--------:|\n",
    "| A  |     0 |     0 |       1 |\n",
    "| B  |     0 |     1 |       0 |\n",
    "| C  |     0 |     0 |       0 |\n",
    "| D  |     0 |     0 |       1 |"
   ]
  },
  {
   "cell_type": "markdown",
   "metadata": {},
   "source": [
    "若是数值被包含在列表当中了，也就是3、5、12当中，返回的是True，否则就返回False"
   ]
  },
  {
   "cell_type": "markdown",
   "metadata": {},
   "source": [
    "## df.plot.area()方法\n",
    "下面我们来讲一下如何在Pandas当中通过一行代码来绘制图表，将所有的列都通过面积图的方式来绘制\n"
   ]
  },
  {
   "cell_type": "code",
   "execution_count": null,
   "metadata": {},
   "outputs": [],
   "source": [
    "df = pd.DataFrame({\n",
    "    'sales': [30, 20, 38, 95, 106, 65],\n",
    "    'signups': [7, 9, 6, 12, 18, 13],\n",
    "    'visits': [20, 42, 28, 62, 81, 50],\n",
    "}, \n",
    "    index=pd.date_range(start='2021/01/01', \n",
    "                        end='2021/07/01', \n",
    "                        freq='M'))\n",
    "\n",
    "df"
   ]
  },
  {
   "cell_type": "markdown",
   "metadata": {},
   "source": [
    "|                     |   sales |   signups |   visits |\n",
    "|:--------------------|--------:|----------:|---------:|\n",
    "| 2021-01-31 00:00:00 |      30 |         7 |       20 |\n",
    "| 2021-02-28 00:00:00 |      20 |         9 |       42 |\n",
    "| 2021-03-31 00:00:00 |      38 |         6 |       28 |\n",
    "| 2021-04-30 00:00:00 |      95 |        12 |       62 |\n",
    "| 2021-05-31 00:00:00 |     106 |        18 |       81 |\n",
    "| 2021-06-30 00:00:00 |      65 |        13 |       50 |"
   ]
  },
  {
   "cell_type": "code",
   "execution_count": 61,
   "metadata": {},
   "outputs": [
    {
     "data": {
      "image/png": "[encoded data removed]",
      "text/plain": [
       "<Figure size 720x360 with 1 Axes>"
      ]
     },
     "metadata": {
      "needs_background": "light"
     },
     "output_type": "display_data"
    }
   ],
   "source": [
    "ax = df.plot.area(figsize = (10, 5))"
   ]
  },
  {
   "cell_type": "markdown",
   "metadata": {},
   "source": [
    "## df.plot.bar()方法\n",
    "下面我们看一下如何通过一行代码来绘制柱状图"
   ]
  },
  {
   "cell_type": "code",
   "execution_count": null,
   "metadata": {},
   "outputs": [],
   "source": [
    "df = pd.DataFrame({'label':['A', 'B', 'C', 'D'], 'values':[10, 30, 50, 70]})\n",
    "df.to_markdown()"
   ]
  },
  {
   "cell_type": "markdown",
   "metadata": {},
   "source": [
    "|    | label   |   values |\n",
    "|---:|:--------|---------:|\n",
    "|  0 | A       |       10 |\n",
    "|  1 | B       |       30 |\n",
    "|  2 | C       |       50 |\n",
    "|  3 | D       |       70 |"
   ]
  },
  {
   "cell_type": "code",
   "execution_count": 68,
   "metadata": {},
   "outputs": [
    {
     "data": {
      "image/png": "[encoded data removed]",
      "text/plain": [
       "<Figure size 432x288 with 1 Axes>"
      ]
     },
     "metadata": {
      "needs_background": "light"
     },
     "output_type": "display_data"
    }
   ],
   "source": [
    "ax = df.plot.bar(x='label', \n",
    "                 y='values', \n",
    "                 rot=-15)"
   ]
  },
  {
   "cell_type": "markdown",
   "metadata": {},
   "source": [
    "当然我们也可以根据不同的类别来绘制柱状图"
   ]
  },
  {
   "cell_type": "code",
   "execution_count": 69,
   "metadata": {},
   "outputs": [
    {
     "data": {
      "image/png": "[encoded data removed]",
      "text/plain": [
       "<Figure size 432x288 with 1 Axes>"
      ]
     },
     "metadata": {
      "needs_background": "light"
     },
     "output_type": "display_data"
    }
   ],
   "source": [
    "age = [0.1, 17.5, 40, 48, 52, 69, 88]\n",
    "weight = [2, 8, 70, 1.5, 25, 12, 28]\n",
    "index = ['A', 'B', 'C', 'D', 'E', 'F', 'G']\n",
    "df = pd.DataFrame({'age': age, \n",
    "                   'weight': weight}, \n",
    "                   index=index)\n",
    "\n",
    "ax = df.plot.bar(rot=0)"
   ]
  },
  {
   "cell_type": "code",
   "execution_count": 70,
   "metadata": {},
   "outputs": [
    {
     "data": {
      "image/png": "[encoded data removed]",
      "text/plain": [
       "<Figure size 432x288 with 1 Axes>"
      ]
     },
     "metadata": {
      "needs_background": "light"
     },
     "output_type": "display_data"
    }
   ],
   "source": [
    "ax = df.plot.barh()"
   ]
  },
  {
   "cell_type": "markdown",
   "metadata": {},
   "source": [
    "## df.plot.box()方法\n",
    "我们来看一下箱型图的具体的绘制，通过pandas一行代码来实现\n"
   ]
  },
  {
   "cell_type": "code",
   "execution_count": null,
   "metadata": {},
   "outputs": [],
   "source": [
    "data = np.random.randn(25, 3)\n",
    "df = pd.DataFrame(data, columns=list('ABC'))\n",
    "df"
   ]
  },
  {
   "cell_type": "markdown",
   "metadata": {},
   "source": [
    "|    |         A |          B |          C |\n",
    "|---:|----------:|-----------:|-----------:|\n",
    "|  0 | -1.59132  |  1.47926   |  1.16891   |\n",
    "|  1 | -0.649097 |  0.0501129 | -0.81485   |\n",
    "|  2 |  1.31677  |  1.00035   |  0.0662983 |\n",
    "|  3 | -1.04484  |  0.445727  |  0.0140137 |\n",
    "|  4 |  0.217317 | -0.692044  | -0.758549  |\n",
    "|  5 | -0.566574 | -0.159038  |  0.781744  |\n",
    "|  6 | -0.903068 |  1.50697   |  1.2605    |\n",
    "|  7 |  1.38627  | -0.0539971 | -0.0619803 |\n",
    "|  8 | -1.50639  | -0.187649  |  1.00115   |\n",
    "|  9 | -1.84435  | -1.37282   |  0.905218  |\n",
    "| 10 | -0.400618 |  0.503642  |  1.20152   |\n",
    "| 11 | -0.164643 |  1.58712   | -0.0475168 |\n",
    "| 12 |  1.99742  | -0.928291  |  0.502433  |\n",
    "| 13 | -1.25877  |  2.0764    | -0.840626  |\n",
    "| 14 | -0.293273 | -2.09935   | -0.152372  |\n",
    "| 15 | -0.686338 |  0.798964  |  1.4551    |\n",
    "| 16 |  0.407321 |  0.601732  |  0.456718  |\n",
    "| 17 |  0.594827 | -1.8498    |  1.22704   |\n",
    "| 18 | -0.345245 | -1.27973   | -0.0971918 |\n",
    "| 19 |  1.91415  |  0.656389  | -1.15816   |\n",
    "| 20 |  0.149819 |  1.10037   | -0.0785313 |\n",
    "| 21 | -0.311471 | -1.10781   |  0.707936  |\n",
    "| 22 |  0.614726 | -0.142359  | -1.23091   |\n",
    "| 23 |  1.46869  |  1.27063   |  0.797499  |\n",
    "| 24 | -1.02252  |  0.819603  | -0.220382  |"
   ]
  },
  {
   "cell_type": "code",
   "execution_count": 72,
   "metadata": {},
   "outputs": [
    {
     "data": {
      "image/png": "[encoded data removed]",
      "text/plain": [
       "<Figure size 432x288 with 1 Axes>"
      ]
     },
     "metadata": {
      "needs_background": "light"
     },
     "output_type": "display_data"
    }
   ],
   "source": [
    "ax = df.plot.box()"
   ]
  },
  {
   "cell_type": "markdown",
   "metadata": {},
   "source": [
    "## df.plot.pie()方法\n",
    "接下来是饼图的绘制"
   ]
  },
  {
   "cell_type": "code",
   "execution_count": 73,
   "metadata": {},
   "outputs": [
    {
     "data": {
      "image/png": "[encoded data removed]",
      "text/plain": [
       "<Figure size 576x576 with 1 Axes>"
      ]
     },
     "metadata": {},
     "output_type": "display_data"
    }
   ],
   "source": [
    "df = pd.DataFrame({'mass': [1.33, 4.87 , 5.97],\n",
    "                   'radius': [2439.7, 6051.8, 6378.1]},\n",
    "                  index=['Mercury', 'Venus', 'Earth'])\n",
    "\n",
    "plot = df.plot.pie(y='mass', figsize=(8, 8))"
   ]
  },
  {
   "cell_type": "markdown",
   "metadata": {},
   "source": [
    "除此之外，还有折线图、直方图、散点图等等，步骤与方式都与上述的技巧有异曲同工之妙，大家感兴趣的可以自己另外去尝试。\n"
   ]
  },
  {
   "cell_type": "code",
   "execution_count": null,
   "metadata": {},
   "outputs": [],
   "source": []
  }
 ],
 "metadata": {
  "kernelspec": {
   "display_name": "Python 3",
   "language": "python",
   "name": "python3"
  },
  "language_info": {
   "codemirror_mode": {
    "name": "ipython",
    "version": 3
   },
   "file_extension": ".py",
   "mimetype": "text/x-python",
   "name": "python",
   "nbconvert_exporter": "python",
   "pygments_lexer": "ipython3",
   "version": "3.7.5"
  },
  "toc": {
   "base_numbering": 1,
   "nav_menu": {},
   "number_sections": false,
   "sideBar": true,
   "skip_h1_title": false,
   "title_cell": "Table of Contents",
   "title_sidebar": "Contents",
   "toc_cell": false,
   "toc_position": {},
   "toc_section_display": true,
   "toc_window_display": true
  }
 },
 "nbformat": 4,
 "nbformat_minor": 4
}
