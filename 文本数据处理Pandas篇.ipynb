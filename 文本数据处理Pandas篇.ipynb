{
 "cells": [
  {
   "cell_type": "markdown",
   "metadata": {},
   "source": [
    ">src: https://mp.weixin.qq.com/s/MmfEtyKaMqNn_Ik1oJtitQ\n",
    ">\n",
    ">author: 俊欣\n",
    ">\n",
    ">公众号: 关于数据分析与可视化\n",
    "\n",
    "千聊Python课程  https://m.qlchat.com/wechat/page/channel-intro?channelId=2000015158133596\n",
    "\n",
    "<br>\n",
    "\n"
   ]
  },
  {
   "cell_type": "markdown",
   "metadata": {},
   "source": [
    "今天我们来谈论一下pandas库当中文本数据的操作，希望大家再看完本篇文章之后会有不少的收获，我们大致会讲\n",
    "- 创建一个包含文本数据的DataFrame\n",
    "- 常用处理文本数据的方法的总结\n",
    "- 正则表达式与DataFrame内部方法的结合\n",
    "\n",
    "<br>\n",
    "\n",
    "\n",
    "## 创建文本内容的数据\n",
    "\n",
    "我们先来创建一个包含文本数据的DataFrame，来供我们后面使用"
   ]
  },
  {
   "cell_type": "code",
   "execution_count": null,
   "metadata": {},
   "outputs": [],
   "source": [
    "import pandas as pd\n",
    "\n",
    "df = pd.DataFrame({\n",
    "   \"姓\": [\"李\",\"王\",\"戴\", \"李\", \"张\"],\n",
    "   \"名\": [\"华\",\"硕\",\"建业\", \"四\", \"三\"],\n",
    "   \"户籍地址\": [\" 浙江省·宁波市 \", \"   浙江省·杭州市    \", \"  浙江省·丽水市  \", \"  浙江省·衢州市 \", \"  浙江省·湖州市           \"],\n",
    "   \"微信ID\": [\"Tomoplplplut1248781\", \"Smopopo857\", \"Adahuhuifhhjfj\", \"Tull1945121\", \"ZPWERERTFD599557\"],\n",
    "   \"邮箱地址\": [\"tom02159@163.com\", \"smitt7821@163.com\", \"adams623@163.com\", \"tull0305@163.com\", \"five7532@163.com\"]\n",
    "})\n",
    "df"
   ]
  },
  {
   "cell_type": "markdown",
   "metadata": {},
   "source": [
    "```\n",
    "|    | 姓   | 名   | 户籍地址      | 微信ID              | 邮箱地址          |\n",
    "|---:|:-----|:-----|:--------------|:--------------------|:------------------|\n",
    "|  0 | 李   | 华   | 浙江省·宁波市 | Tomoplplplut1248781 | tom02159@163.com  |\n",
    "|  1 | 王   | 硕   | 浙江省·杭州市 | Smopopo857          | smitt7821@163.com |\n",
    "|  2 | 戴   | 建业 | 浙江省·丽水市 | Adahuhuifhhjfj      | adams623@163.com  |\n",
    "|  3 | 李   | 四   | 浙江省·衢州市 | Tull1945121         | tull0305@163.com  |\n",
    "|  4 | 张   | 三   | 浙江省·湖州市 | ZPWERERTFD599557    | five7532@163.com  |\n",
    "```"
   ]
  },
  {
   "cell_type": "markdown",
   "metadata": {},
   "source": [
    "<br>\n",
    "\n",
    "## 常用处理文本数据的方法总结\n",
    "Python当中用来处理字符串数据的方法有很多，基本上都可以在DataFrame内部拿来使用，例如lower()方法和upper()方法，给字母大小写"
   ]
  },
  {
   "cell_type": "code",
   "execution_count": null,
   "metadata": {},
   "outputs": [],
   "source": [
    "df[\"微信ID\"].str.lower()"
   ]
  },
  {
   "cell_type": "markdown",
   "metadata": {},
   "source": [
    "```\n",
    "0    tomoplplplut1248781\n",
    "1             smopopo857\n",
    "2         adahuhuifhhjfj\n",
    "3            tull1945121\n",
    "4       zpwerertfd599557\n",
    "Name: 微信ID, dtype: object\n",
    "```   "
   ]
  },
  {
   "cell_type": "code",
   "execution_count": null,
   "metadata": {},
   "outputs": [],
   "source": [
    "df[\"微信ID\"].str.len()"
   ]
  },
  {
   "cell_type": "markdown",
   "metadata": {},
   "source": [
    "```\n",
    "0    19\n",
    "1    10\n",
    "2    14\n",
    "3    11\n",
    "4    16\n",
    "Name: 微信ID, dtype: int64\n",
    "```"
   ]
  },
  {
   "cell_type": "markdown",
   "metadata": {},
   "source": [
    "当然我们看到户籍地址这一列中的数据有很多的空格\n",
    "\n"
   ]
  },
  {
   "cell_type": "code",
   "execution_count": null,
   "metadata": {},
   "outputs": [],
   "source": [
    "df[\"户籍地址\"]"
   ]
  },
  {
   "cell_type": "markdown",
   "metadata": {},
   "source": [
    "```\n",
    "0                浙江省·宁波市 \n",
    "1             浙江省·杭州市    \n",
    "2               浙江省·丽水市  \n",
    "3                浙江省·衢州市 \n",
    "4      浙江省·湖州市           \n",
    "Name: 户籍地址, dtype: object\n",
    "```"
   ]
  },
  {
   "cell_type": "markdown",
   "metadata": {},
   "source": [
    "我们可以使用处理字符串时的strip()方法"
   ]
  },
  {
   "cell_type": "code",
   "execution_count": null,
   "metadata": {},
   "outputs": [],
   "source": [
    "df[\"户籍地址\"].str.strip()"
   ]
  },
  {
   "cell_type": "markdown",
   "metadata": {},
   "source": [
    "```\n",
    "0    浙江省·宁波市\n",
    "1    浙江省·杭州市\n",
    "2    浙江省·丽水市\n",
    "3    浙江省·衢州市\n",
    "4    浙江省·湖州市\n",
    "Name: 户籍地址, dtype: object\n",
    "```"
   ]
  },
  {
   "cell_type": "markdown",
   "metadata": {},
   "source": [
    "与之相类似的还有lstrip()方法以及rstrip()方法，这里就不做赘述。\n",
    "\n",
    "在字符串的处理过程当中，startswith()方法和endswith()方法也是用的非常的频繁，例如我们想要挑选出户籍地址是“宁波市”的数据，\n"
   ]
  },
  {
   "cell_type": "code",
   "execution_count": null,
   "metadata": {},
   "outputs": [],
   "source": [
    "df[\"户籍地址\"] = df[\"户籍地址\"].str.strip()\n",
    "df[df[\"户籍地址\"].str.endswith(\"宁波市\")]"
   ]
  },
  {
   "cell_type": "markdown",
   "metadata": {},
   "source": [
    "```\n",
    "   姓  名     户籍地址                 微信ID              邮箱地址\n",
    "0  李  华  浙江省·宁波市  Tomoplplplut1248781  tom02159@163.com\n",
    "```"
   ]
  },
  {
   "cell_type": "markdown",
   "metadata": {},
   "source": [
    "另外我们还可以使用replace()方法来实现当中的字符串的替换\n"
   ]
  },
  {
   "cell_type": "code",
   "execution_count": null,
   "metadata": {},
   "outputs": [],
   "source": [
    "df[\"户籍地址\"].str.replace(\"·\", \"--\")"
   ]
  },
  {
   "cell_type": "markdown",
   "metadata": {},
   "source": [
    "```\n",
    "0    浙江省--宁波市\n",
    "1    浙江省--杭州市\n",
    "2    浙江省--丽水市\n",
    "3    浙江省--衢州市\n",
    "4    浙江省--湖州市\n",
    "Name: 户籍地址, dtype: object\n",
    "```"
   ]
  },
  {
   "cell_type": "markdown",
   "metadata": {},
   "source": [
    "那既然用到了replace()方法，那么split()方法也可以尝试一下\n"
   ]
  },
  {
   "cell_type": "code",
   "execution_count": null,
   "metadata": {},
   "outputs": [],
   "source": [
    "df[\"户籍地址\"].str.split(\"·\")"
   ]
  },
  {
   "cell_type": "markdown",
   "metadata": {},
   "source": [
    "```\n",
    "0    [浙江省, 宁波市]\n",
    "1    [浙江省, 杭州市]\n",
    "2    [浙江省, 丽水市]\n",
    "3    [浙江省, 衢州市]\n",
    "4    [浙江省, 湖州市]\n",
    "Name: 户籍地址, dtype: object\n",
    "```"
   ]
  },
  {
   "cell_type": "markdown",
   "metadata": {},
   "source": [
    "在经过spilit()方法的切割过之后就变成了列表的形式，然后可以通过get()方法或者[]来获取里面的元素，例如\n"
   ]
  },
  {
   "cell_type": "code",
   "execution_count": null,
   "metadata": {},
   "outputs": [],
   "source": [
    "df[\"户籍地址\"].str.split(\"·\").str.get(0)\n"
   ]
  },
  {
   "cell_type": "markdown",
   "metadata": {},
   "source": [
    "或者"
   ]
  },
  {
   "cell_type": "code",
   "execution_count": null,
   "metadata": {},
   "outputs": [],
   "source": [
    "df[\"户籍地址\"].str.split(\"·\").str[0]"
   ]
  },
  {
   "cell_type": "markdown",
   "metadata": {},
   "source": [
    "```\n",
    "0    浙江省\n",
    "1    浙江省\n",
    "2    浙江省\n",
    "3    浙江省\n",
    "4    浙江省\n",
    "Name: 户籍地址, dtype: object\n",
    "```"
   ]
  },
  {
   "cell_type": "markdown",
   "metadata": {},
   "source": [
    "那么获取列表当中的第二个元素也是同样的道理，当然我们也可以在split()方法当中添加expand=True这个参数，来将上面列表形式的数据转化成DataFrame格式\n"
   ]
  },
  {
   "cell_type": "code",
   "execution_count": null,
   "metadata": {},
   "outputs": [],
   "source": [
    "df[\"户籍地址\"].str.split(\"·\", expand=True)"
   ]
  },
  {
   "cell_type": "markdown",
   "metadata": {},
   "source": [
    "```\n",
    "      0    1\n",
    "0  浙江省  宁波市\n",
    "1  浙江省  杭州市\n",
    "2  浙江省  丽水市\n",
    "3  浙江省  衢州市\n",
    "4  浙江省  湖州市\n",
    "```"
   ]
  },
  {
   "cell_type": "markdown",
   "metadata": {},
   "source": [
    "\n",
    "同样地，我们可以在后面添加[]来获取我们想要的元素\n"
   ]
  },
  {
   "cell_type": "code",
   "execution_count": null,
   "metadata": {},
   "outputs": [],
   "source": [
    "df[\"户籍地址\"].str.split(\"·\", expand=True)[1]"
   ]
  },
  {
   "cell_type": "markdown",
   "metadata": {},
   "source": [
    "```\n",
    "0    宁波市\n",
    "1    杭州市\n",
    "2    丽水市\n",
    "3    衢州市\n",
    "4    湖州市\n",
    "Name: 1, dtype: object\n",
    "```"
   ]
  },
  {
   "cell_type": "markdown",
   "metadata": {},
   "source": [
    "<br>\n",
    "\n",
    "## 正则表达式与DataFrame内部方法的结合\n",
    "假如我们想要提取文本数据内部的一部分数据，可以结合正则表达式来使用，例如我们想要提取“微信ID”这一列当中的字母和数字，并且将两者分开来"
   ]
  },
  {
   "cell_type": "code",
   "execution_count": null,
   "metadata": {},
   "outputs": [],
   "source": [
    "two_groups = \"([a-zA-Z]+)([0-9]+)\"\n",
    "df[\"微信ID\"].str.extract(two_groups, expand=True)"
   ]
  },
  {
   "cell_type": "markdown",
   "metadata": {},
   "source": [
    "```\n",
    "              0        1\n",
    "0  Tomoplplplut  1248781\n",
    "1       Smopopo      857\n",
    "2           NaN      NaN\n",
    "3          Tull  1945121\n",
    "4    ZPWERERTFD   599557\n",
    "```"
   ]
  },
  {
   "cell_type": "markdown",
   "metadata": {},
   "source": [
    "当然了，如果想是要提取文本数据中的部分数据，可以直接在str方法后面添加索引，例如"
   ]
  },
  {
   "cell_type": "code",
   "execution_count": null,
   "metadata": {},
   "outputs": [],
   "source": [
    "df[\"邮箱地址\"].str[-8:]"
   ]
  },
  {
   "cell_type": "markdown",
   "metadata": {},
   "source": [
    "```\n",
    "0    @163.com\n",
    "1    @163.com\n",
    "2    @163.com\n",
    "3    @163.com\n",
    "4    @163.com\n",
    "Name: 邮箱地址, dtype: object\n",
    "```"
   ]
  },
  {
   "cell_type": "markdown",
   "metadata": {},
   "source": [
    "\n",
    "当然，从另外一个角度讲，正则表达式也可以帮助我们确认文本数据是否符合某种规律，\n"
   ]
  },
  {
   "cell_type": "code",
   "execution_count": null,
   "metadata": {},
   "outputs": [],
   "source": [
    "two_groups = \"([a-zA-Z]+)([0-9]+)\"\n",
    "df[\"微信ID\"].str.match(two_groups)"
   ]
  },
  {
   "cell_type": "markdown",
   "metadata": {},
   "source": [
    "```\n",
    "0     True\n",
    "1     True\n",
    "2    False\n",
    "3     True\n",
    "4     True\n",
    "Name: 微信ID, dtype: bool\n",
    "```"
   ]
  },
  {
   "cell_type": "markdown",
   "metadata": {},
   "source": [
    "当中有一个为False，不满足字母+数字的规律，我们再进一步，将满足条件的数据提取出来"
   ]
  },
  {
   "cell_type": "code",
   "execution_count": null,
   "metadata": {},
   "outputs": [],
   "source": [
    "df[df[\"微信ID\"].str.match(two_groups)]"
   ]
  },
  {
   "cell_type": "markdown",
   "metadata": {},
   "source": [
    "```\n",
    "   姓  名     户籍地址                 微信ID               邮箱地址\n",
    "0  李  华  浙江省·宁波市  Tomoplplplut1248781   tom02159@163.com\n",
    "1  王  硕  浙江省·杭州市           Smopopo857  smitt7821@163.com\n",
    "3  李  四  浙江省·衢州市          Tull1945121   tull0305@163.com\n",
    "4  张  三  浙江省·湖州市     ZPWERERTFD599557   five7532@163.com\n",
    "```"
   ]
  },
  {
   "cell_type": "markdown",
   "metadata": {},
   "source": [
    "针对文本数据而言，contains()方法也能够派上用场，例如下面的数据\n"
   ]
  },
  {
   "cell_type": "markdown",
   "metadata": {},
   "source": [
    "```\n",
    "   姓   名                  户籍地址                 微信ID               邮箱地址\n",
    "0  李   华              浙江省·宁波市   Tomoplplplut1248781   tom02159@163.com\n",
    "1  王   硕           浙江省·杭州市               Smopopo857  smitt7821@163.com\n",
    "2  戴  建业             浙江省·丽水市         Adahuhuifhhjfj   adams623@163.com\n",
    "3  李   四              浙江省·衢州市           Tull1945121   tull0305@163.com\n",
    "4  张   三    浙江省·湖州市                ZPWERERTFD599557   five7532@163.com\n",
    "5  黄   五               浙江省·宁波市        hunhunhu45652  1erdcvf127@16.com\n",
    "```"
   ]
  },
  {
   "cell_type": "markdown",
   "metadata": {},
   "source": [
    "我们用contains()来提取出户籍地址为“宁波市”的内容，可以这么做\n"
   ]
  },
  {
   "cell_type": "code",
   "execution_count": null,
   "metadata": {},
   "outputs": [],
   "source": [
    "df[df[\"户籍地址\"].str.contains(\"宁波市\")]"
   ]
  },
  {
   "cell_type": "markdown",
   "metadata": {},
   "source": [
    "```\n",
    "   姓  名     户籍地址                 微信ID               邮箱地址\n",
    "0  李  华  浙江省·宁波市  Tomoplplplut1248781   tom02159@163.com\n",
    "5  黄  五  浙江省·宁波市        hunhunhu45652  1erdcvf127@16.com\n",
    "```"
   ]
  },
  {
   "cell_type": "markdown",
   "metadata": {},
   "source": [
    "暂时就这些了，下一篇原创的文章安排在周天，非技术方面的，期待一下？\n",
    "\n",
    "<br>\n",
    "\n",
    "## 代码下载\n",
    "\n",
    "https://github.com/hidadeng/DaDengAndHisPython/blob/master/文本数据处理Pandas篇.ipynb"
   ]
  }
 ],
 "metadata": {
  "kernelspec": {
   "display_name": "Python 3",
   "language": "python",
   "name": "python3"
  },
  "language_info": {
   "codemirror_mode": {
    "name": "ipython",
    "version": 3
   },
   "file_extension": ".py",
   "mimetype": "text/x-python",
   "name": "python",
   "nbconvert_exporter": "python",
   "pygments_lexer": "ipython3",
   "version": "3.7.5"
  },
  "toc": {
   "base_numbering": 1,
   "nav_menu": {},
   "number_sections": false,
   "sideBar": true,
   "skip_h1_title": false,
   "title_cell": "Table of Contents",
   "title_sidebar": "Contents",
   "toc_cell": false,
   "toc_position": {},
   "toc_section_display": true,
   "toc_window_display": false
  }
 },
 "nbformat": 4,
 "nbformat_minor": 4
}
