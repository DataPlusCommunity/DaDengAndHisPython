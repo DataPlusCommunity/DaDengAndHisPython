{
 "cells": [
  {
   "cell_type": "markdown",
   "metadata": {},
   "source": [
    "# aiohttp异步访问库\n",
    "安装"
   ]
  },
  {
   "cell_type": "code",
   "execution_count": 1,
   "metadata": {
    "scrolled": true
   },
   "outputs": [
    {
     "name": "stdout",
     "output_type": "stream",
     "text": [
      "Looking in indexes: https://mirrors.aliyun.com/pypi/simple/\n",
      "Collecting aiohttp[speedups]\n",
      "\u001b[?25l  Downloading https://mirrors.aliyun.com/pypi/packages/40/fd/3a595d6467eb31f7b69eb980778567e764b5d93990b4ceb8ddf6079dd776/aiohttp-3.6.2-cp37-cp37m-macosx_10_13_x86_64.whl (642kB)\n",
      "\u001b[K     |████████████████████████████████| 645kB 9.6MB/s eta 0:00:01\n",
      "\u001b[?25hCollecting yarl<2.0,>=1.0 (from aiohttp[speedups])\n",
      "\u001b[?25l  Downloading https://mirrors.aliyun.com/pypi/packages/e2/a9/7f06ccfd82ee4ae46591151fca009c96c0e7834b13e110cc09abdb2ed76e/yarl-1.4.2-cp37-cp37m-macosx_10_13_x86_64.whl (125kB)\n",
      "\u001b[K     |████████████████████████████████| 133kB 1.4MB/s eta 0:00:01\n",
      "\u001b[?25hCollecting async-timeout<4.0,>=3.0 (from aiohttp[speedups])\n",
      "  Downloading https://mirrors.aliyun.com/pypi/packages/e1/1e/5a4441be21b0726c4464f3f23c8b19628372f606755a9d2e46c187e65ec4/async_timeout-3.0.1-py3-none-any.whl\n",
      "Requirement already satisfied: attrs>=17.3.0 in /Library/Frameworks/Python.framework/Versions/3.7/lib/python3.7/site-packages (from aiohttp[speedups]) (19.3.0)\n",
      "Collecting multidict<5.0,>=4.5 (from aiohttp[speedups])\n",
      "\u001b[?25l  Downloading https://mirrors.aliyun.com/pypi/packages/54/8c/b667b6a0efb9ca96cf48ae970a821bf99f2be60603366ce04b3b7c0a6bad/multidict-4.7.5-cp37-cp37m-macosx_10_13_x86_64.whl (48kB)\n",
      "\u001b[K     |████████████████████████████████| 51kB 2.8MB/s eta 0:00:011\n",
      "\u001b[?25hRequirement already satisfied: chardet<4.0,>=2.0 in /Library/Frameworks/Python.framework/Versions/3.7/lib/python3.7/site-packages (from aiohttp[speedups]) (3.0.4)\n",
      "Collecting cchardet; extra == \"speedups\" (from aiohttp[speedups])\n",
      "\u001b[?25l  Downloading https://mirrors.aliyun.com/pypi/packages/71/02/6bd3384e783d624506c31665d7c94aa5720dba58c8c4c393a54217546165/cchardet-2.1.6-cp37-cp37m-macosx_10_9_x86_64.whl (124kB)\n",
      "\u001b[K     |████████████████████████████████| 133kB 3.6MB/s eta 0:00:01\n",
      "\u001b[?25hCollecting brotlipy; extra == \"speedups\" (from aiohttp[speedups])\n",
      "\u001b[?25l  Downloading https://mirrors.aliyun.com/pypi/packages/5f/d3/dbc8aafa09565a4946f788d8524e53772036f8f6ab280672775985b0f9d2/brotlipy-0.7.0-cp37-cp37m-macosx_10_14_x86_64.whl (389kB)\n",
      "\u001b[K     |████████████████████████████████| 399kB 10.5MB/s eta 0:00:01\n",
      "\u001b[?25hCollecting aiodns; extra == \"speedups\" (from aiohttp[speedups])\n",
      "  Downloading https://mirrors.aliyun.com/pypi/packages/da/01/8f2d49b441573fd2478833bdba91cf0b853b4c750a1fbb9e98de1b94bb22/aiodns-2.0.0-py2.py3-none-any.whl\n",
      "Requirement already satisfied: idna>=2.0 in /Library/Frameworks/Python.framework/Versions/3.7/lib/python3.7/site-packages (from yarl<2.0,>=1.0->aiohttp[speedups]) (2.9)\n",
      "Collecting cffi>=1.0.0 (from brotlipy; extra == \"speedups\"->aiohttp[speedups])\n",
      "  Using cached https://mirrors.aliyun.com/pypi/packages/b2/77/547a14d5677c5448359fbd9e59b9ab3cca62e91417cf71e46ca234fbbfa5/cffi-1.14.0-cp37-cp37m-macosx_10_9_x86_64.whl\n",
      "Collecting pycares>=3.0.0 (from aiodns; extra == \"speedups\"->aiohttp[speedups])\n",
      "\u001b[?25l  Downloading https://mirrors.aliyun.com/pypi/packages/c4/1c/204ee396ca49795c911a429a9e52b7dfb31605de85adcbbf0d2a1deff292/pycares-3.1.1-cp37-cp37m-macosx_10_6_intel.whl (122kB)\n",
      "\u001b[K     |████████████████████████████████| 122kB 6.5MB/s eta 0:00:01\n",
      "\u001b[?25hCollecting pycparser (from cffi>=1.0.0->brotlipy; extra == \"speedups\"->aiohttp[speedups])\n",
      "  Using cached https://mirrors.aliyun.com/pypi/packages/ae/e7/d9c3a176ca4b02024debf82342dab36efadfc5776f9c8db077e8f6e71821/pycparser-2.20-py2.py3-none-any.whl\n",
      "Installing collected packages: multidict, yarl, async-timeout, cchardet, pycparser, cffi, brotlipy, pycares, aiodns, aiohttp\n",
      "Successfully installed aiodns-2.0.0 aiohttp-3.6.2 async-timeout-3.0.1 brotlipy-0.7.0 cchardet-2.1.6 cffi-1.14.0 multidict-4.7.5 pycares-3.1.1 pycparser-2.20 yarl-1.4.2\n",
      "\u001b[33mWARNING: You are using pip version 19.2.3, however version 20.1 is available.\n",
      "You should consider upgrading via the 'pip install --upgrade pip' command.\u001b[0m\n"
     ]
    }
   ],
   "source": [
    "!pip3 install aiohttp[speedups]\n",
    "!pip3 install nest_asyncio"
   ]
  },
  {
   "cell_type": "markdown",
   "metadata": {},
   "source": [
    "# 快速上手\n"
   ]
  },
  {
   "cell_type": "code",
   "execution_count": 8,
   "metadata": {},
   "outputs": [
    {
     "name": "stdout",
     "output_type": "stream",
     "text": [
      "处理 html:  你在第3页，你的IP为: 172.69.34.89\n",
      "处理 html:  你在第2页，你的IP为: 108.162.215.57\n",
      "处理 html:  你在第4页，你的IP为: 172.69.35.78\n",
      "处理 html:  你在第1页，你的IP为: 108.162.215.21\n",
      "处理 html:  你在第5页，你的IP为: 172.69.33.116\n",
      "处理 html:  你在第6页，你的IP为: 172.69.34.31\n"
     ]
    }
   ],
   "source": [
    "from aiohttp import ClientSession\n",
    "import asyncio\n",
    "import nest_asyncio\n",
    "nest_asyncio.apply()\n",
    "\n",
    "\n",
    "\n",
    "async def request(url, callback):\n",
    "    \"\"\"\n",
    "    发起访问，得到网址数据\n",
    "    url: 网页url\n",
    "    callback: 解析html的函数\n",
    "    \"\"\"\n",
    "    async with ClientSession() as session:\n",
    "        resp = await session.get(url)\n",
    "        html = await resp.text(encoding='utf-8')\n",
    "    callback(html)\n",
    "\n",
    "\n",
    "def parse(html):\n",
    "    \"\"\"\n",
    "    解析html，存储数据\n",
    "    \"\"\"\n",
    "    print('处理 html: ', html)\n",
    "\n",
    "\n",
    "async def main():\n",
    "    \"\"\"\n",
    "    主程序，含网址规律，访问\n",
    "    \"\"\"\n",
    "    url_list = [\n",
    " 'http://exercise.kingname.info/exercise_middleware_ip/1',\n",
    " 'http://exercise.kingname.info/exercise_middleware_ip/2',\n",
    " 'http://exercise.kingname.info/exercise_middleware_ip/3',\n",
    " 'http://exercise.kingname.info/exercise_middleware_ip/4',\n",
    " 'http://exercise.kingname.info/exercise_middleware_ip/5',\n",
    " 'http://exercise.kingname.info/exercise_middleware_ip/6',\n",
    " ]\n",
    "    tasks = []\n",
    "    for url in url_list:\n",
    "        tasks.append(request(url, parse))\n",
    "    await asyncio.gather(*tasks)\n",
    "\n",
    "\n",
    "if __name__ == '__main__':\n",
    "    # 调用主程序\n",
    "    asyncio.run(main())"
   ]
  },
  {
   "cell_type": "markdown",
   "metadata": {},
   "source": [
    "# 加headers"
   ]
  },
  {
   "cell_type": "code",
   "execution_count": null,
   "metadata": {},
   "outputs": [],
   "source": [
    "headers = {'User-Agent': 'Mozilla/5.0 (Macintosh; Intel Mac OS X 10_15_3) AppleWebKit/537.36 (KHTML, like Gecko) Chrome/81.0.4044.129 Safari/537.36'}\n",
    "ClientSession(headers=headers)"
   ]
  },
  {
   "cell_type": "markdown",
   "metadata": {},
   "source": [
    "# 加cookies\n"
   ]
  },
  {
   "cell_type": "code",
   "execution_count": null,
   "metadata": {},
   "outputs": [],
   "source": [
    "cookies = {'Cookie': '你的cookies'}\n",
    "ClientSession(cookies=cookies)"
   ]
  },
  {
   "cell_type": "markdown",
   "metadata": {},
   "source": [
    "# SSL"
   ]
  },
  {
   "cell_type": "code",
   "execution_count": null,
   "metadata": {},
   "outputs": [],
   "source": [
    "session.get('https://example.com', ssl=False)"
   ]
  },
  {
   "cell_type": "markdown",
   "metadata": {},
   "source": [
    "# Proxy"
   ]
  },
  {
   "cell_type": "code",
   "execution_count": null,
   "metadata": {},
   "outputs": [],
   "source": [
    "async with aiohttp.ClientSession() as session:\n",
    "    async with session.get(\"http://python.org\",\n",
    "                           proxy=\"http://proxy.com\") as resp:\n",
    "        print(resp.status)"
   ]
  },
  {
   "cell_type": "markdown",
   "metadata": {},
   "source": [
    "proxy加账户密码"
   ]
  },
  {
   "cell_type": "code",
   "execution_count": null,
   "metadata": {},
   "outputs": [],
   "source": [
    "async with aiohttp.ClientSession() as session:\n",
    "    proxy_auth = aiohttp.BasicAuth('user', 'pass')\n",
    "    async with session.get(\"http://python.org\",\n",
    "                           proxy=\"http://proxy.com\",\n",
    "                           proxy_auth=proxy_auth) as resp:\n",
    "        print(resp.status)"
   ]
  }
 ],
 "metadata": {
  "kernelspec": {
   "display_name": "Python 3",
   "language": "python",
   "name": "python3"
  },
  "language_info": {
   "codemirror_mode": {
    "name": "ipython",
    "version": 3
   },
   "file_extension": ".py",
   "mimetype": "text/x-python",
   "name": "python",
   "nbconvert_exporter": "python",
   "pygments_lexer": "ipython3",
   "version": "3.7.5"
  },
  "toc": {
   "base_numbering": 1,
   "nav_menu": {},
   "number_sections": false,
   "sideBar": true,
   "skip_h1_title": false,
   "title_cell": "Table of Contents",
   "title_sidebar": "Contents",
   "toc_cell": false,
   "toc_position": {},
   "toc_section_display": true,
   "toc_window_display": false
  },
  "varInspector": {
   "cols": {
    "lenName": 16,
    "lenType": 16,
    "lenVar": 40
   },
   "kernels_config": {
    "python": {
     "delete_cmd_postfix": "",
     "delete_cmd_prefix": "del ",
     "library": "var_list.py",
     "varRefreshCmd": "print(var_dic_list())"
    },
    "r": {
     "delete_cmd_postfix": ") ",
     "delete_cmd_prefix": "rm(",
     "library": "var_list.r",
     "varRefreshCmd": "cat(var_dic_list()) "
    }
   },
   "types_to_exclude": [
    "module",
    "function",
    "builtin_function_or_method",
    "instance",
    "_Feature"
   ],
   "window_display": false
  }
 },
 "nbformat": 4,
 "nbformat_minor": 4
}
