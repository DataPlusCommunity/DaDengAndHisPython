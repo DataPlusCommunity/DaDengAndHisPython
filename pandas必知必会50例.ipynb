{
 "cells": [
  {
   "cell_type": "markdown",
   "metadata": {},
   "source": [
    ">src: https://mp.weixin.qq.com/s/j71IPWmT57g3VTajGhgN7Q\n",
    ">author: 俊欣\n",
    ">公众号: 关于数据分析与可视化\n",
    "\n",
    "千聊Python课程  https://m.qlchat.com/wechat/page/channel-intro?channelId=2000015158133596\n",
    "\n",
    "<br>\n",
    "\n",
    "本篇我们继续前面pandas系列教程的探讨，今天小编会介绍pandas库当中一些非常基础的方法与函数，希望大家看了之后会有所收获。\n",
    "\n",
    "\n",
    "## 准备需要的数据集\n",
    "我们先准备生成一些随机数，作为后面需要用到的数据集"
   ]
  },
  {
   "cell_type": "code",
   "execution_count": 3,
   "metadata": {},
   "outputs": [
    {
     "data": {
      "text/html": [
       "<div>\n",
       "<style scoped>\n",
       "    .dataframe tbody tr th:only-of-type {\n",
       "        vertical-align: middle;\n",
       "    }\n",
       "\n",
       "    .dataframe tbody tr th {\n",
       "        vertical-align: top;\n",
       "    }\n",
       "\n",
       "    .dataframe thead th {\n",
       "        text-align: right;\n",
       "    }\n",
       "</style>\n",
       "<table border=\"1\" class=\"dataframe\">\n",
       "  <thead>\n",
       "    <tr style=\"text-align: right;\">\n",
       "      <th></th>\n",
       "      <th>A</th>\n",
       "      <th>B</th>\n",
       "      <th>C</th>\n",
       "    </tr>\n",
       "  </thead>\n",
       "  <tbody>\n",
       "    <tr>\n",
       "      <th>2000-01-01</th>\n",
       "      <td>-0.164716</td>\n",
       "      <td>0.005918</td>\n",
       "      <td>0.929992</td>\n",
       "    </tr>\n",
       "    <tr>\n",
       "      <th>2000-01-02</th>\n",
       "      <td>1.305146</td>\n",
       "      <td>-0.001868</td>\n",
       "      <td>0.421455</td>\n",
       "    </tr>\n",
       "    <tr>\n",
       "      <th>2000-01-03</th>\n",
       "      <td>-0.645356</td>\n",
       "      <td>-0.741059</td>\n",
       "      <td>-0.171844</td>\n",
       "    </tr>\n",
       "    <tr>\n",
       "      <th>2000-01-04</th>\n",
       "      <td>1.193811</td>\n",
       "      <td>0.642453</td>\n",
       "      <td>-0.712656</td>\n",
       "    </tr>\n",
       "    <tr>\n",
       "      <th>2000-01-05</th>\n",
       "      <td>-0.102017</td>\n",
       "      <td>1.094715</td>\n",
       "      <td>-0.487095</td>\n",
       "    </tr>\n",
       "    <tr>\n",
       "      <th>2000-01-06</th>\n",
       "      <td>0.622063</td>\n",
       "      <td>-0.498421</td>\n",
       "      <td>-0.239415</td>\n",
       "    </tr>\n",
       "    <tr>\n",
       "      <th>2000-01-07</th>\n",
       "      <td>-1.114169</td>\n",
       "      <td>-0.331225</td>\n",
       "      <td>-0.283763</td>\n",
       "    </tr>\n",
       "    <tr>\n",
       "      <th>2000-01-08</th>\n",
       "      <td>0.291188</td>\n",
       "      <td>0.666504</td>\n",
       "      <td>-1.671700</td>\n",
       "    </tr>\n",
       "  </tbody>\n",
       "</table>\n",
       "</div>"
      ],
      "text/plain": [
       "                   A         B         C\n",
       "2000-01-01 -0.164716  0.005918  0.929992\n",
       "2000-01-02  1.305146 -0.001868  0.421455\n",
       "2000-01-03 -0.645356 -0.741059 -0.171844\n",
       "2000-01-04  1.193811  0.642453 -0.712656\n",
       "2000-01-05 -0.102017  1.094715 -0.487095\n",
       "2000-01-06  0.622063 -0.498421 -0.239415\n",
       "2000-01-07 -1.114169 -0.331225 -0.283763\n",
       "2000-01-08  0.291188  0.666504 -1.671700"
      ]
     },
     "execution_count": 3,
     "metadata": {},
     "output_type": "execute_result"
    }
   ],
   "source": [
    "import pandas as pd\n",
    "import numpy as np\n",
    "\n",
    "index = pd.date_range(\"1/1/2000\", periods=8)\n",
    "series = pd.Series(np.random.randn(5), index=[\"a\", \"b\", \"c\", \"d\", \"e\"])\n",
    "\n",
    "df = pd.DataFrame(np.random.randn(8, 3), \n",
    "                  index=index,\n",
    "                  columns=[\"A\", \"B\", \"C\"])\n",
    "\n",
    "df"
   ]
  },
  {
   "cell_type": "markdown",
   "metadata": {},
   "source": [
    "<br>\n",
    "\n",
    "## Head and tail\n",
    "head()和tail()方法是用来查看数据集当中的前几行和末尾几行的，默认是查看5行，当然读者朋友也可以自行设定行数"
   ]
  },
  {
   "cell_type": "code",
   "execution_count": 4,
   "metadata": {},
   "outputs": [
    {
     "data": {
      "text/plain": [
       "0    0.578276\n",
       "1    0.643313\n",
       "2   -0.336030\n",
       "3   -0.422468\n",
       "4   -0.493812\n",
       "dtype: float64"
      ]
     },
     "execution_count": 4,
     "metadata": {},
     "output_type": "execute_result"
    }
   ],
   "source": [
    "series2 = pd.Series(np.random.randn(100))\n",
    "series2.head()"
   ]
  },
  {
   "cell_type": "code",
   "execution_count": 5,
   "metadata": {},
   "outputs": [
    {
     "data": {
      "text/plain": [
       "95    1.307962\n",
       "96    1.165135\n",
       "97    0.717692\n",
       "98    0.605668\n",
       "99    0.264990\n",
       "dtype: float64"
      ]
     },
     "execution_count": 5,
     "metadata": {},
     "output_type": "execute_result"
    }
   ],
   "source": [
    "# 同理\n",
    "series2.tail()"
   ]
  },
  {
   "cell_type": "markdown",
   "metadata": {},
   "source": [
    "<br>\n",
    "\n",
    "## 数据的统计分析\n",
    "在pandas当中用describe()方法来对表格中的数据做一个概括性的统计分析，例如"
   ]
  },
  {
   "cell_type": "code",
   "execution_count": 7,
   "metadata": {},
   "outputs": [
    {
     "data": {
      "text/plain": [
       "count    100.000000\n",
       "mean       0.106277\n",
       "std        1.027541\n",
       "min       -2.554005\n",
       "25%       -0.510912\n",
       "50%        0.028765\n",
       "75%        0.795444\n",
       "max        2.512260\n",
       "dtype: float64"
      ]
     },
     "execution_count": 7,
     "metadata": {},
     "output_type": "execute_result"
    }
   ],
   "source": [
    "series2.describe()"
   ]
  },
  {
   "cell_type": "markdown",
   "metadata": {},
   "source": [
    "当然，我们也可以设置好输出的分位\n"
   ]
  },
  {
   "cell_type": "code",
   "execution_count": 8,
   "metadata": {},
   "outputs": [
    {
     "data": {
      "text/plain": [
       "count    100.000000\n",
       "mean       0.106277\n",
       "std        1.027541\n",
       "min       -2.554005\n",
       "5%        -1.450067\n",
       "25%       -0.510912\n",
       "50%        0.028765\n",
       "75%        0.795444\n",
       "95%        1.757926\n",
       "max        2.512260\n",
       "dtype: float64"
      ]
     },
     "execution_count": 8,
     "metadata": {},
     "output_type": "execute_result"
    }
   ],
   "source": [
    "series2.describe(percentiles=[0.05, 0.25, 0.75, 0.95])"
   ]
  },
  {
   "cell_type": "markdown",
   "metadata": {},
   "source": [
    "对于离散型的数据来说，describe()方法给出的结果则会简洁很多"
   ]
  },
  {
   "cell_type": "code",
   "execution_count": 9,
   "metadata": {},
   "outputs": [
    {
     "data": {
      "text/plain": [
       "count     10\n",
       "unique     4\n",
       "top        a\n",
       "freq       5\n",
       "dtype: object"
      ]
     },
     "execution_count": 9,
     "metadata": {},
     "output_type": "execute_result"
    }
   ],
   "source": [
    "s = pd.Series([\"a\", \"a\", \"b\", \"b\", \"a\", \"a\", \"d\", \"c\", \"d\", \"a\"])\n",
    "s.describe()"
   ]
  },
  {
   "cell_type": "markdown",
   "metadata": {},
   "source": [
    "要是表格中既包含了离散型数据，也包含了连续型的数据，默认的话，describe()是会针对**连续型数据**进行统计分析"
   ]
  },
  {
   "cell_type": "code",
   "execution_count": null,
   "metadata": {},
   "outputs": [],
   "source": [
    "df2 = pd.DataFrame({\"a\": [\"Yes\", \"Yes\", \"No\", \"No\"], \"b\": np.random.randn(4)})\n",
    "df2.describe()"
   ]
  },
  {
   "cell_type": "markdown",
   "metadata": {},
   "source": [
    "```\n",
    "|       |        b |\n",
    "|:------|---------:|\n",
    "| count | 4        |\n",
    "| mean  | 0.967026 |\n",
    "| std   | 0.859657 |\n",
    "| min   | 0.204027 |\n",
    "| 25%   | 0.233797 |\n",
    "| 50%   | 0.947075 |\n",
    "| 75%   | 1.6803   |\n",
    "| max   | 1.76993  |\n",
    "```"
   ]
  },
  {
   "cell_type": "markdown",
   "metadata": {},
   "source": [
    "当然我们也可以指定让其强制统计分析离散型数据或者连续型数据\n"
   ]
  },
  {
   "cell_type": "code",
   "execution_count": null,
   "metadata": {},
   "outputs": [],
   "source": [
    "df2.describe(include=[\"object\"])"
   ]
  },
  {
   "cell_type": "markdown",
   "metadata": {},
   "source": [
    "```\n",
    "|        | a   |\n",
    "|:-------|:----|\n",
    "| count  | 4   |\n",
    "| unique | 2   |\n",
    "| top    | Yes |\n",
    "| freq   | 2   |\n",
    "```"
   ]
  },
  {
   "cell_type": "markdown",
   "metadata": {},
   "source": [
    "同理，我们也可以指定连续型的数据进行统计分析"
   ]
  },
  {
   "cell_type": "code",
   "execution_count": null,
   "metadata": {},
   "outputs": [],
   "source": [
    "df2.describe(include=[\"number\"])"
   ]
  },
  {
   "cell_type": "markdown",
   "metadata": {},
   "source": [
    "```\n",
    "|       |        b |\n",
    "|:------|---------:|\n",
    "| count | 4        |\n",
    "| mean  | 0.967026 |\n",
    "| std   | 0.859657 |\n",
    "| min   | 0.204027 |\n",
    "| 25%   | 0.233797 |\n",
    "| 50%   | 0.947075 |\n",
    "| 75%   | 1.6803   |\n",
    "| max   | 1.76993  |\n",
    "```"
   ]
  },
  {
   "cell_type": "markdown",
   "metadata": {},
   "source": [
    "如果我们都要去做统计分析，可以这么来执行"
   ]
  },
  {
   "cell_type": "code",
   "execution_count": null,
   "metadata": {},
   "outputs": [],
   "source": [
    "df2.describe(include=\"all\")"
   ]
  },
  {
   "cell_type": "markdown",
   "metadata": {},
   "source": [
    "```\n",
    "|        | a   |          b |\n",
    "|:-------|:----|-----------:|\n",
    "| count  | 4   |   4        |\n",
    "| unique | 2   | nan        |\n",
    "| top    | Yes | nan        |\n",
    "| freq   | 2   | nan        |\n",
    "| mean   | nan |   0.967026 |\n",
    "| std    | nan |   0.859657 |\n",
    "| min    | nan |   0.204027 |\n",
    "| 25%    | nan |   0.233797 |\n",
    "| 50%    | nan |   0.947075 |\n",
    "| 75%    | nan |   1.6803   |\n",
    "| max    | nan |   1.76993  |\n",
    "```\n"
   ]
  },
  {
   "cell_type": "markdown",
   "metadata": {},
   "source": [
    "<br>\n",
    "\n",
    "## 最大/最小值的位置\n",
    "idxmin()和idxmax()方法是用来查找表格当中最大/最小值的位置，返回的是值的索引\n"
   ]
  },
  {
   "cell_type": "code",
   "execution_count": 19,
   "metadata": {},
   "outputs": [
    {
     "data": {
      "text/plain": [
       "0    2.244266\n",
       "1    1.398258\n",
       "2   -1.827026\n",
       "3   -0.058691\n",
       "4    0.275471\n",
       "dtype: float64"
      ]
     },
     "execution_count": 19,
     "metadata": {},
     "output_type": "execute_result"
    }
   ],
   "source": [
    "s1 = pd.Series(np.random.randn(5))\n",
    "s1"
   ]
  },
  {
   "cell_type": "code",
   "execution_count": 20,
   "metadata": {},
   "outputs": [
    {
     "data": {
      "text/plain": [
       "(2, 0)"
      ]
     },
     "execution_count": 20,
     "metadata": {},
     "output_type": "execute_result"
    }
   ],
   "source": [
    "s1.idxmin(), s1.idxmax()"
   ]
  },
  {
   "cell_type": "markdown",
   "metadata": {},
   "source": [
    "用在DataFrame上面的话，如下"
   ]
  },
  {
   "cell_type": "code",
   "execution_count": null,
   "metadata": {},
   "outputs": [],
   "source": [
    "df1 = pd.DataFrame(np.random.randn(5, 3), \n",
    "                   columns=[\"A\", \"B\", \"C\"])\n",
    "df1.idxmin(axis=0)"
   ]
  },
  {
   "cell_type": "markdown",
   "metadata": {},
   "source": [
    "```\n",
    "|    |   0 |\n",
    "|:---|----:|\n",
    "| A  |   2 |\n",
    "| B  |   3 |\n",
    "| C  |   2 |\n",
    "```"
   ]
  },
  {
   "cell_type": "markdown",
   "metadata": {},
   "source": [
    "同理，我们将axis参数改成1"
   ]
  },
  {
   "cell_type": "code",
   "execution_count": null,
   "metadata": {},
   "outputs": [],
   "source": [
    "df1.idxmin(axis=1)"
   ]
  },
  {
   "cell_type": "markdown",
   "metadata": {},
   "source": [
    "```\n",
    "|    | 0   |\n",
    "|---:|:----|\n",
    "|  0 | B   |\n",
    "|  1 | B   |\n",
    "|  2 | A   |\n",
    "|  3 | B   |\n",
    "|  4 | B   |\n",
    "```"
   ]
  },
  {
   "cell_type": "markdown",
   "metadata": {},
   "source": [
    "<br>\n",
    "\n",
    "## value_counts()方法\n",
    "pandas当中的value_counts()方法主要用于数据表的计数以及排序，用来查看表格当中，指定列有多少个不同的数据值并且计算不同值在该列当中出现的次数，先来看一个简单的例子\n"
   ]
  },
  {
   "cell_type": "code",
   "execution_count": 39,
   "metadata": {},
   "outputs": [
    {
     "data": {
      "text/plain": [
       "北京    3\n",
       "上海    2\n",
       "广州    1\n",
       "杭州    1\n",
       "南京    1\n",
       "香港    1\n",
       "成都    1\n",
       "Name: 城市, dtype: int64"
      ]
     },
     "execution_count": 39,
     "metadata": {},
     "output_type": "execute_result"
    }
   ],
   "source": [
    "df = pd.DataFrame({'城市': ['北京', '广州', '上海', '上海', '杭州', '成都', '香港', '南京', '北京', '北京'],\n",
    "                   '收入': [10000, 10000, 5500, 5500, 4000, 50000, 8000, 5000, 5200, 5600],\n",
    "                   '年龄': [50, 43, 34, 40, 25, 25, 45, 32, 25, 25]})\n",
    "df[\"城市\"].value_counts()"
   ]
  },
  {
   "cell_type": "markdown",
   "metadata": {},
   "source": [
    "可以看到北京出现了3次，上海出现了2次，并且默认采用的是降序来排列的，下面我们来看一下用升序的方式来排列一下收入这一列"
   ]
  },
  {
   "cell_type": "code",
   "execution_count": 24,
   "metadata": {},
   "outputs": [
    {
     "data": {
      "text/plain": [
       "5600     1\n",
       "5000     1\n",
       "8000     1\n",
       "5200     1\n",
       "50000    1\n",
       "4000     1\n",
       "10000    2\n",
       "5500     2\n",
       "Name: 收入, dtype: int64"
      ]
     },
     "execution_count": 24,
     "metadata": {},
     "output_type": "execute_result"
    }
   ],
   "source": [
    "df[\"收入\"].value_counts(ascending=True)"
   ]
  },
  {
   "cell_type": "markdown",
   "metadata": {},
   "source": [
    "同时里面也还可以利用参数normalize=True，来计算不同值的计数占比\n"
   ]
  },
  {
   "cell_type": "code",
   "execution_count": 25,
   "metadata": {},
   "outputs": [
    {
     "data": {
      "text/plain": [
       "32    0.1\n",
       "34    0.1\n",
       "50    0.1\n",
       "40    0.1\n",
       "43    0.1\n",
       "45    0.1\n",
       "25    0.4\n",
       "Name: 年龄, dtype: float64"
      ]
     },
     "execution_count": 25,
     "metadata": {},
     "output_type": "execute_result"
    }
   ],
   "source": [
    "\n",
    "df['年龄'].value_counts(ascending=True,\n",
    "                      normalize=True)"
   ]
  },
  {
   "cell_type": "markdown",
   "metadata": {},
   "source": [
    "<br>\n",
    "\n",
    "## 数据分组\n",
    "我们可以使用cut()方法以及qcut()方法来对表格中的连续型数据分组，首先我们看一下cut()方法，假设下面这组数据代表的是小组每个成员的年龄\n"
   ]
  },
  {
   "cell_type": "code",
   "execution_count": 26,
   "metadata": {},
   "outputs": [
    {
     "data": {
      "text/plain": [
       "[(1.907, 20.6], (1.907, 20.6], (1.907, 20.6], (39.2, 57.8], (20.6, 39.2], ..., (1.907, 20.6], (1.907, 20.6], (20.6, 39.2], (20.6, 39.2], (20.6, 39.2]]\n",
       "Length: 16\n",
       "Categories (5, interval[float64]): [(1.907, 20.6] < (20.6, 39.2] < (39.2, 57.8] < (57.8, 76.4] < (76.4, 95.0]]"
      ]
     },
     "execution_count": 26,
     "metadata": {},
     "output_type": "execute_result"
    }
   ],
   "source": [
    "ages = np.array([2,3,10,40,36,45,58,62,85,89,95,18,20,25,35,32])\n",
    "pd.cut(ages, 5)"
   ]
  },
  {
   "cell_type": "markdown",
   "metadata": {},
   "source": [
    "由上可以看到用cut()方法将数据平分成了5个区间，且区间两边都有扩展以包含**最大值和最小值**，当然我们也可以给每一个区间加上标记"
   ]
  },
  {
   "cell_type": "code",
   "execution_count": 33,
   "metadata": {},
   "outputs": [
    {
     "data": {
      "text/plain": [
       "['婴儿', '婴儿', '婴儿', '青年', '少年', ..., '婴儿', '婴儿', '少年', '少年', '少年']\n",
       "Length: 16\n",
       "Categories (5, object): ['婴儿' < '少年' < '青年' < '中年' < '老年']"
      ]
     },
     "execution_count": 33,
     "metadata": {},
     "output_type": "execute_result"
    }
   ],
   "source": [
    "pd.cut(ages, 5, labels=[u\"婴儿\",u\"少年\",u\"青年\",u\"中年\",u\"老年\"])"
   ]
  },
  {
   "cell_type": "markdown",
   "metadata": {},
   "source": [
    "而对于qcut()方法来说，我们可以指定区间来进行分组，例如"
   ]
  },
  {
   "cell_type": "code",
   "execution_count": 34,
   "metadata": {},
   "outputs": [
    {
     "data": {
      "text/plain": [
       "['小朋友', '小朋友', '小朋友', '大孩子', '大孩子', ..., '小朋友', '小朋友', '小朋友', '小朋友', '小朋友']\n",
       "Length: 16\n",
       "Categories (2, object): ['小朋友' < '大孩子']"
      ]
     },
     "execution_count": 34,
     "metadata": {},
     "output_type": "execute_result"
    }
   ],
   "source": [
    "pd.qcut(ages, [0,0.5,1], labels=['小朋友','大孩子'])"
   ]
  },
  {
   "cell_type": "markdown",
   "metadata": {},
   "source": [
    "这里将年龄这组数据分成两部分[0, 0.5, 1]，一组是标上标记小朋友，另一组是大孩子，不过通常情况下，我们用的cut()方法比较多\n",
    "\n",
    "\n",
    "<br><br>\n",
    "\n",
    "## 引用函数\n",
    "要是在表格当中引用其他的方法，或者是自建的函数，可以使用通过pandas当中的以下这几个方法\n",
    "- pipe()\n",
    "- apply()和applymap()\n",
    "- agg()和transform()\n",
    "\n",
    "<br>\n",
    "\n",
    "## pipe()方法\n",
    "首先我们来看pipe()这个方法，我们可以将自己定义好的函数，以链路的形式一个接着一个传给我们要处理的数据集上"
   ]
  },
  {
   "cell_type": "code",
   "execution_count": 35,
   "metadata": {},
   "outputs": [],
   "source": [
    "def extract_city_name(df):\n",
    "    df[\"state_name\"] = df[\"state_and_code\"].str.split(\",\").str.get(0)\n",
    "    return df\n",
    "\n",
    "def add_country_name(df, country_name=None):\n",
    "    df[\"state_and_country\"] = df[\"state_name\"] + country_name\n",
    "    return df"
   ]
  },
  {
   "cell_type": "markdown",
   "metadata": {},
   "source": [
    "然后我们用pip()这个方法来将上面我们定义的函数串联起来"
   ]
  },
  {
   "cell_type": "code",
   "execution_count": null,
   "metadata": {},
   "outputs": [],
   "source": [
    "df_p = pd.DataFrame({\"city_and_code\": [\"Arizona, AZ\"]})\n",
    "df_p = pd.DataFrame({\"state_and_code\": [\"Arizona, AZ\"]})\n",
    "df_p.pipe(extract_city_name).pipe(add_country_name, country_name=\"_USA\")\n"
   ]
  },
  {
   "cell_type": "markdown",
   "metadata": {},
   "source": [
    "```\n",
    "|    | state_and_code   | state_name   | state_and_country   |\n",
    "|---:|:-----------------|:-------------|:--------------------|\n",
    "|  0 | Arizona, AZ      | Arizona      | Arizona_USA         |\n",
    "```"
   ]
  },
  {
   "cell_type": "markdown",
   "metadata": {},
   "source": [
    "<br>\n",
    "\n",
    "## apply()方法和applymap()方法\n",
    "apply()方法可以对表格中的数据按照行或者是列方向进行处理，默认是按照列方向，如下\n"
   ]
  },
  {
   "cell_type": "code",
   "execution_count": null,
   "metadata": {},
   "outputs": [],
   "source": [
    "df.apply(np.mean)"
   ]
  },
  {
   "cell_type": "markdown",
   "metadata": {},
   "source": [
    "```\n",
    "A   -0.101751\n",
    "B   -0.360288\n",
    "C   -0.637433\n",
    "dtype: float64\n",
    "```"
   ]
  },
  {
   "cell_type": "markdown",
   "metadata": {},
   "source": [
    "当然，我们也可以通过axis参数来进行调节"
   ]
  },
  {
   "cell_type": "code",
   "execution_count": null,
   "metadata": {},
   "outputs": [],
   "source": [
    "df.apply(np.mean, axis = 1)"
   ]
  },
  {
   "cell_type": "markdown",
   "metadata": {},
   "source": [
    "```\n",
    "0   -0.803675\n",
    "1   -0.179640\n",
    "2   -1.200973\n",
    "3    0.156888\n",
    "4    0.381631\n",
    "5    0.049274\n",
    "6    1.174923\n",
    "7    0.612591\n",
    "dtype: float64\n",
    "```"
   ]
  },
  {
   "cell_type": "markdown",
   "metadata": {},
   "source": [
    "除此之外，我们也可以直接调用匿名函数lambda的形式\n"
   ]
  },
  {
   "cell_type": "code",
   "execution_count": null,
   "metadata": {},
   "outputs": [],
   "source": [
    "df.apply(lambda x: x.max() - x.min())"
   ]
  },
  {
   "cell_type": "markdown",
   "metadata": {},
   "source": [
    "```\n",
    "A    1.922863\n",
    "B    2.874672\n",
    "C    1.943930\n",
    "dtype: float64\n",
    "```"
   ]
  },
  {
   "cell_type": "markdown",
   "metadata": {},
   "source": [
    "也可以调用自己定义的函数方法"
   ]
  },
  {
   "cell_type": "code",
   "execution_count": null,
   "metadata": {},
   "outputs": [],
   "source": [
    "df = pd.DataFrame(np.random.randn(5, 3), columns=[\"A\", \"B\", \"C\"])\n",
    "def normalize(x):\n",
    "    return (x - x.mean()) / x.std()"
   ]
  },
  {
   "cell_type": "markdown",
   "metadata": {},
   "source": [
    "我们用上apply()方法\n"
   ]
  },
  {
   "cell_type": "code",
   "execution_count": null,
   "metadata": {},
   "outputs": [],
   "source": [
    "df.apply(normalize)"
   ]
  },
  {
   "cell_type": "markdown",
   "metadata": {},
   "source": [
    "```\n",
    "          A         B         C\n",
    "0  1.149795  0.390263 -0.813770\n",
    "1  0.805843 -0.532374  0.859627\n",
    "2  0.047824 -0.085334 -0.067179\n",
    "3 -0.903319 -1.215023  1.149538\n",
    "4 -1.100144  1.442467 -1.128216\n",
    "```"
   ]
  },
  {
   "cell_type": "markdown",
   "metadata": {},
   "source": [
    "apply()方法作用于数据集当中的每个行或者是列，而applymap()方法则是对数据集当中的所有元素都进行处理"
   ]
  },
  {
   "cell_type": "code",
   "execution_count": null,
   "metadata": {},
   "outputs": [],
   "source": [
    "df = pd.DataFrame({'key1' : ['a', 'c', 'b', 'b', 'd'],\n",
    "                   'key2' : ['one', 'two', 'three', 'two', 'one'],\n",
    "                   'data1' : np.arange(1, 6),\n",
    "                   'data2' : np.arange(10,15)})\n",
    "df"
   ]
  },
  {
   "cell_type": "markdown",
   "metadata": {},
   "source": [
    "```\n",
    "  key1   key2  data1  data2\n",
    "0    a    one      1     10\n",
    "1    c    two      2     11\n",
    "2    b  three      3     12\n",
    "3    b   four      4     13\n",
    "4    d   five      5     14\n",
    "```"
   ]
  },
  {
   "cell_type": "markdown",
   "metadata": {},
   "source": [
    "我们来自定义一个函数\n"
   ]
  },
  {
   "cell_type": "code",
   "execution_count": null,
   "metadata": {},
   "outputs": [],
   "source": [
    "\n",
    "def add_A(x):\n",
    "    return \"A\" + str(x)\n",
    "    \n",
    "df.applymap(add_A)"
   ]
  },
  {
   "cell_type": "markdown",
   "metadata": {},
   "source": [
    "```\n",
    "  key1    key2 data1 data2\n",
    "0   Aa    Aone    A1   A10\n",
    "1   Ac    Atwo    A2   A11\n",
    "2   Ab  Athree    A3   A12\n",
    "3   Ab   Afour    A4   A13\n",
    "4   Ad   Afive    A5   A14\n",
    "```"
   ]
  },
  {
   "cell_type": "markdown",
   "metadata": {},
   "source": [
    "我们然后也可以通过lambda()自定义函数方法，然后来去除掉这个A"
   ]
  },
  {
   "cell_type": "code",
   "execution_count": null,
   "metadata": {},
   "outputs": [],
   "source": [
    "df.applymap(add_A).applymap(lambda x: x.split(\"A\")[1])"
   ]
  },
  {
   "cell_type": "markdown",
   "metadata": {},
   "source": [
    "```\n",
    "  key1   key2 data1 data2\n",
    "0    a    one     1    10\n",
    "1    c    two     2    11\n",
    "2    b  three     3    12\n",
    "3    b   four     4    13\n",
    "4    d   five     5    14\n",
    "```\n",
    "\n"
   ]
  },
  {
   "cell_type": "markdown",
   "metadata": {},
   "source": [
    "<br>\n",
    "\n",
    "## agg()方法和transform()方法\n",
    "agg()方法本意上是聚合函数，我们可以将用于统计分析的一系列方法都放置其中，并且放置多个\n"
   ]
  },
  {
   "cell_type": "code",
   "execution_count": 41,
   "metadata": {},
   "outputs": [
    {
     "data": {
      "text/plain": [
       "A    2.042573\n",
       "B    2.189269\n",
       "C   -1.066976\n",
       "dtype: float64"
      ]
     },
     "execution_count": 41,
     "metadata": {},
     "output_type": "execute_result"
    }
   ],
   "source": [
    "df = pd.DataFrame(np.random.randn(5, 3), \n",
    "                  columns=[\"A\", \"B\", \"C\"])\n",
    "df.agg(np.sum)"
   ]
  },
  {
   "cell_type": "markdown",
   "metadata": {},
   "source": [
    "当然，当中的np.sum部分也可以用字符串来表示，例如\n"
   ]
  },
  {
   "cell_type": "code",
   "execution_count": 42,
   "metadata": {},
   "outputs": [
    {
     "data": {
      "text/plain": [
       "A    2.042573\n",
       "B    2.189269\n",
       "C   -1.066976\n",
       "dtype: float64"
      ]
     },
     "execution_count": 42,
     "metadata": {},
     "output_type": "execute_result"
    }
   ],
   "source": [
    "\n",
    "df.agg(\"sum\")"
   ]
  },
  {
   "cell_type": "markdown",
   "metadata": {},
   "source": [
    "我们尝试在当中放置多个统计分析的函数方法\n"
   ]
  },
  {
   "cell_type": "code",
   "execution_count": null,
   "metadata": {},
   "outputs": [],
   "source": [
    "df.agg([\"sum\", \"mean\", \"median\"])"
   ]
  },
  {
   "cell_type": "markdown",
   "metadata": {},
   "source": [
    "当然我们也可以和lambda匿名函数混合着搭配"
   ]
  },
  {
   "cell_type": "code",
   "execution_count": null,
   "metadata": {},
   "outputs": [],
   "source": [
    "df.agg([\"sum\", lambda x: x.mean()])"
   ]
  },
  {
   "cell_type": "markdown",
   "metadata": {},
   "source": [
    "```\n",
    "                 A         B         C\n",
    "sum      -0.066486 -1.288341 -1.236244\n",
    "<lambda> -0.013297 -0.257668 -0.247249\n",
    "```"
   ]
  },
  {
   "cell_type": "markdown",
   "metadata": {},
   "source": [
    "或者和自己定义的函数方法混合着用\n"
   ]
  },
  {
   "cell_type": "code",
   "execution_count": null,
   "metadata": {},
   "outputs": [],
   "source": [
    "def my_mean(x):\n",
    "    return x.mean()\n",
    "    \n",
    "df.agg([\"sum\", my_mean])"
   ]
  },
  {
   "cell_type": "markdown",
   "metadata": {},
   "source": [
    "```\n",
    "                A         B         C\n",
    "sum     -4.850201 -1.544773  0.429007\n",
    "my_mean -0.970040 -0.308955  0.085801\n",
    "```"
   ]
  },
  {
   "cell_type": "markdown",
   "metadata": {},
   "source": [
    "与此同时，我们在agg()方法中添加字典，实现不同的列使用不同的函数方法"
   ]
  },
  {
   "cell_type": "code",
   "execution_count": null,
   "metadata": {},
   "outputs": [],
   "source": [
    "df.agg({\"A\": \"sum\", \"B\": \"mean\"})\n"
   ]
  },
  {
   "cell_type": "markdown",
   "metadata": {},
   "source": [
    "```\n",
    "A   -0.801753\n",
    "B    0.097550\n",
    "dtype: float64\n",
    "```"
   ]
  },
  {
   "cell_type": "markdown",
   "metadata": {},
   "source": [
    "<br>\n",
    "\n",
    "## 索引和列名的重命名\n",
    "针对索引和列名的重命名，我们可以通过pandas当中的rename()方法来实现，例如我们有这样一个数据集"
   ]
  },
  {
   "cell_type": "code",
   "execution_count": null,
   "metadata": {},
   "outputs": [],
   "source": [
    "df1 = pd.DataFrame(np.random.randn(5, 3), \n",
    "                   columns=[\"A\", \"B\", \"C\"],\n",
    "                   index = [\"a\", \"b\", \"c\", \"d\", \"e\"])\n",
    "df1"
   ]
  },
  {
   "cell_type": "markdown",
   "metadata": {},
   "source": [
    "```\n",
    "          A         B         C\n",
    "a  0.343690  0.869984 -1.929814\n",
    "b  1.025613  0.470155 -0.242463\n",
    "c -0.400908 -0.362684  0.226857\n",
    "d -1.339706 -0.302005 -1.784452\n",
    "e -0.957026 -0.813600  0.215098\n",
    "```"
   ]
  },
  {
   "cell_type": "markdown",
   "metadata": {},
   "source": [
    "我们可以这样来操作"
   ]
  },
  {
   "cell_type": "code",
   "execution_count": null,
   "metadata": {},
   "outputs": [],
   "source": [
    "df1.rename(columns={\"A\": \"one\", \"B\": \"two\", \"C\": \"three\"},\n",
    "           index={\"a\": \"apple\", \"b\": \"banana\", \"c\": \"cat\"})"
   ]
  },
  {
   "cell_type": "markdown",
   "metadata": {},
   "source": [
    "```\n",
    "             one       two     three\n",
    "apple   0.383813  0.588964 -0.162386\n",
    "banana -0.462068 -2.938896  0.935492\n",
    "cat    -0.059807 -1.987281  0.095432\n",
    "d      -0.085230  2.013733 -1.324039\n",
    "e      -0.678352  0.306776  0.808697\n",
    "```"
   ]
  },
  {
   "cell_type": "markdown",
   "metadata": {},
   "source": [
    "当然我们可以拆开来，单独对行或者是列进行重命名，对列的重命名可以这么来做"
   ]
  },
  {
   "cell_type": "code",
   "execution_count": null,
   "metadata": {},
   "outputs": [],
   "source": [
    "df1.rename({\"A\": \"one\", \"B\": \"two\", \"C\": \"three\"}, \n",
    "           axis = \"columns\")\n"
   ]
  },
  {
   "cell_type": "markdown",
   "metadata": {},
   "source": [
    "```\n",
    "        one       two     three\n",
    "a -0.997108 -1.383011  0.474298\n",
    "b  1.009910  0.286303  1.120783\n",
    "c  1.130700 -0.566922  1.841451\n",
    "d -0.350438 -0.171079 -0.079804\n",
    "e  0.988050 -0.524604  0.653306\n",
    "```"
   ]
  },
  {
   "cell_type": "markdown",
   "metadata": {},
   "source": [
    "<br>\n",
    "\n",
    "## 排序\n",
    "在pandas当中，我们可以针对数据集当中的值来进行排序\n",
    "\n"
   ]
  },
  {
   "cell_type": "code",
   "execution_count": null,
   "metadata": {},
   "outputs": [],
   "source": [
    "df1 = pd.DataFrame(\n",
    "    {\"one\": [2, 1, 1, 1], \n",
    "     \"two\": [1, 3, 2, 4], \n",
    "     \"three\": [5, 4, 3, 2]}\n",
    ")\n",
    "\n",
    "df1"
   ]
  },
  {
   "cell_type": "markdown",
   "metadata": {},
   "source": [
    "```\n",
    "   one  two  three\n",
    "0    2    1      5\n",
    "1    1    3      4\n",
    "2    1    2      3\n",
    "3    1    4      2\n",
    "```"
   ]
  },
  {
   "cell_type": "markdown",
   "metadata": {},
   "source": [
    "我们按照“three”这一列当中的数值来进行排序\n"
   ]
  },
  {
   "cell_type": "code",
   "execution_count": null,
   "metadata": {},
   "outputs": [],
   "source": [
    "df1.sort_values(by = \"three\")"
   ]
  },
  {
   "cell_type": "markdown",
   "metadata": {},
   "source": [
    "```\n",
    "   one  two  three\n",
    "3    1    4      2\n",
    "2    1    2      3\n",
    "1    1    3      4\n",
    "0    2    1      5\n",
    "```"
   ]
  },
  {
   "cell_type": "markdown",
   "metadata": {},
   "source": [
    "我们也可以依照多列进行排序\n"
   ]
  },
  {
   "cell_type": "code",
   "execution_count": null,
   "metadata": {},
   "outputs": [],
   "source": [
    "df1.sort_values(by = [\"one\", \"two\"])"
   ]
  },
  {
   "cell_type": "markdown",
   "metadata": {},
   "source": [
    "```\n",
    "   one  two  three\n",
    "2    1    2      3\n",
    "1    1    3      4\n",
    "3    1    4      2\n",
    "0    2    1      5\n",
    "```"
   ]
  },
  {
   "cell_type": "markdown",
   "metadata": {},
   "source": [
    "在“one”这一列相等的时候，比较“two”这一列数值的大小，在排序的过程当中，默认采用的都是升序，我们可以改成降序来进行编排\n"
   ]
  },
  {
   "cell_type": "code",
   "execution_count": null,
   "metadata": {},
   "outputs": [],
   "source": [
    "df1.sort_values(\"two\", ascending=False)"
   ]
  },
  {
   "cell_type": "markdown",
   "metadata": {},
   "source": [
    "```\n",
    "   one  two  three\n",
    "3    1    4      2\n",
    "1    1    3      4\n",
    "2    1    2      3\n",
    "0    2    1      5\n",
    "```"
   ]
  },
  {
   "cell_type": "markdown",
   "metadata": {},
   "source": [
    "<br>\n",
    "\n",
    "## 数据类型的转换\n",
    "最后涉及到的是数据类型的转换，在这之前，我们先得知道如何来查看数据的类型，pandas当中有相应的方法可以处理\n"
   ]
  },
  {
   "cell_type": "code",
   "execution_count": null,
   "metadata": {},
   "outputs": [],
   "source": [
    "df2 = pd.DataFrame(\n",
    "    {\n",
    "        \"A\": pd.Series(np.random.randn(5), dtype=\"float16\"),\n",
    "        \"B\": pd.Series(np.random.randn(5)),\n",
    "        \"C\": pd.Series(np.array(np.random.randn(5), dtype=\"uint8\")),\n",
    "    }\n",
    ")\n",
    "\n",
    "df2"
   ]
  },
  {
   "cell_type": "markdown",
   "metadata": {},
   "source": [
    "```\n",
    "          A         B    C\n",
    "0 -0.498779 -0.501512    0\n",
    "1 -0.055817 -0.528227  254\n",
    "2 -0.914551  0.763298    1\n",
    "3 -0.916016  1.366833    0\n",
    "4  1.993164  1.834457    0\n",
    "```"
   ]
  },
  {
   "cell_type": "markdown",
   "metadata": {},
   "source": [
    "我们通过dtypes属性来查看数据的类型\n"
   ]
  },
  {
   "cell_type": "markdown",
   "metadata": {},
   "source": [
    "```\n",
    "A    float16\n",
    "B    float64\n",
    "C      uint8\n",
    "dtype: object\n",
    "```"
   ]
  },
  {
   "cell_type": "markdown",
   "metadata": {},
   "source": [
    "\n",
    "而通过astype()方法来实现数据类型的转换\n"
   ]
  },
  {
   "cell_type": "code",
   "execution_count": null,
   "metadata": {},
   "outputs": [],
   "source": [
    "df2[\"B\"].astype(\"int64\")"
   ]
  },
  {
   "cell_type": "markdown",
   "metadata": {},
   "source": [
    "```\n",
    "0    0\n",
    "1    0\n",
    "2    0\n",
    "3    2\n",
    "4    1\n",
    "Name: B, dtype: int64\n",
    "```     "
   ]
  },
  {
   "cell_type": "markdown",
   "metadata": {},
   "source": [
    "<br>\n",
    "\n",
    "## 根据数据类型来筛选\n",
    "与此同时，我们也可以根据相对应的数据类型来进行筛选，运用pandas当中的select_dtypes方法，我们先来创建一个数据集包含了各种数据类型的"
   ]
  },
  {
   "cell_type": "code",
   "execution_count": null,
   "metadata": {},
   "outputs": [],
   "source": [
    "df = pd.DataFrame(\n",
    "    {\n",
    "        \"string_1\": list(\"abcde\"),\n",
    "        \"int64_1\": list(range(1, 6)),\n",
    "        \"uint8_1\": np.arange(3, 8).astype(\"u1\"),\n",
    "        \"float64_1\": np.arange(4.0, 9.0),\n",
    "        \"bool1\": [True, False, True, True, False],\n",
    "        \"bool2\": [False, True, False, False, True],\n",
    "        \"dates_1\": pd.date_range(\"now\", periods=5),\n",
    "        \"category_1\": pd.Series(list(\"ABCDE\")).astype(\"category\"),\n",
    "    }\n",
    ")\n",
    "\n",
    "df"
   ]
  },
  {
   "cell_type": "markdown",
   "metadata": {},
   "source": [
    "```\n",
    "  string_1  int64_1  uint8_1  ...  bool2                      dates_1  category_1\n",
    "0      a      1      3  ...  False 2021-11-10 10:43:05.957685         A\n",
    "1      b      2      4  ...   True 2021-11-11 10:43:05.957685         B\n",
    "2      c      3      5  ...  False 2021-11-12 10:43:05.957685         C\n",
    "3      d      4      6  ...  False 2021-11-13 10:43:05.957685         D\n",
    "4      e      5      7  ...   True 2021-11-14 10:43:05.957685         E\n",
    "```    "
   ]
  },
  {
   "cell_type": "markdown",
   "metadata": {},
   "source": [
    "我们先来查看一下各个列的数据类型\n"
   ]
  },
  {
   "cell_type": "code",
   "execution_count": null,
   "metadata": {},
   "outputs": [],
   "source": [
    "\n",
    "df.dtypes\n"
   ]
  },
  {
   "cell_type": "markdown",
   "metadata": {},
   "source": [
    "```\n",
    "string_1              object\n",
    "int64_1                int64\n",
    "uint8_1                uint8\n",
    "float64_1            float64\n",
    "bool1                   bool\n",
    "bool2                   bool\n",
    "dates_1       datetime64[ns]\n",
    "category_1          category\n",
    "dtype: object\n",
    "```"
   ]
  },
  {
   "cell_type": "markdown",
   "metadata": {},
   "source": [
    "我们筛选类型为布尔值的数据\n"
   ]
  },
  {
   "cell_type": "code",
   "execution_count": null,
   "metadata": {},
   "outputs": [],
   "source": [
    "df.select_dtypes(include=[bool])"
   ]
  },
  {
   "cell_type": "markdown",
   "metadata": {},
   "source": [
    "```\n",
    "   bool1  bool2\n",
    "0   True  False\n",
    "1  False   True\n",
    "2   True  False\n",
    "3   True  False\n",
    "4  False   True\n",
    "```"
   ]
  },
  {
   "cell_type": "markdown",
   "metadata": {},
   "source": [
    "筛选出数据类型为整型的数据"
   ]
  },
  {
   "cell_type": "code",
   "execution_count": null,
   "metadata": {},
   "outputs": [],
   "source": [
    "df.select_dtypes(include=['int64'])"
   ]
  },
  {
   "cell_type": "markdown",
   "metadata": {},
   "source": []
  }
 ],
 "metadata": {
  "kernelspec": {
   "display_name": "Python 3",
   "language": "python",
   "name": "python3"
  },
  "language_info": {
   "codemirror_mode": {
    "name": "ipython",
    "version": 3
   },
   "file_extension": ".py",
   "mimetype": "text/x-python",
   "name": "python",
   "nbconvert_exporter": "python",
   "pygments_lexer": "ipython3",
   "version": "3.7.5"
  },
  "toc": {
   "base_numbering": 1,
   "nav_menu": {},
   "number_sections": false,
   "sideBar": true,
   "skip_h1_title": false,
   "title_cell": "Table of Contents",
   "title_sidebar": "Contents",
   "toc_cell": false,
   "toc_position": {},
   "toc_section_display": true,
   "toc_window_display": false
  }
 },
 "nbformat": 4,
 "nbformat_minor": 4
}
