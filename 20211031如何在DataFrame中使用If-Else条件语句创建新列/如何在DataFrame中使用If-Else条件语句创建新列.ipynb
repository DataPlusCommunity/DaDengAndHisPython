{
 "cells": [
  {
   "cell_type": "markdown",
   "metadata": {},
   "source": [
    "img/pandas-add-column-to-df-1536x1120.png)\n",
    "\n",
    "\n",
    "有时我们希望根据 DataFrame 其他列(字段) 的值向 DataFrame 添加一列。\n",
    "\n",
    "虽然这听起来很简单，但如果我们尝试使用 if-else 条件来完成它可能会变得有点复杂。 值得庆幸的是，使用 numpy 两个函数**np.where()、np.select()** 就能实现这一需求。\n",
    "\n",
    "\n",
    "## 导入数据\n",
    "我们有一个包含 4,000 多条 Dataquest 推文的数据集,字段包括：\n",
    "- date  twitter发送的日期\n",
    "- time  推文发送时间\n",
    "- tweet   推文内容\n",
    "- mentions    谁提到了该推文\n",
    "- photos    图片链接\n",
    "- replies_count  推文回复数\n",
    "- retweets_count  推文再转发数\n",
    "- likes_count  推文获得的点赞数\n"
   ]
  },
  {
   "cell_type": "code",
   "execution_count": null,
   "metadata": {},
   "outputs": [],
   "source": [
    "import pandas as pd\n",
    "import numpy as np\n",
    "\n",
    "df = pd.read_csv('tweets.csv')\n",
    "df.head()"
   ]
  },
  {
   "cell_type": "code",
   "execution_count": null,
   "metadata": {},
   "outputs": [],
   "source": [
    "![](img/df1.png)"
   ]
  },
  {
   "cell_type": "markdown",
   "metadata": {},
   "source": [
    "<br><br>\n",
    "\n",
    "## 问题\n",
    "\n",
    "我们看到数据集中的**photos**字段是图片链接\n",
    "- 如果某条记录有信息，会显示图片链接列表\n",
    "- 如果不含图片，该字段对应的数据是空列表\n",
    "\n",
    "我们只想查看带有图片的推文是否获得更多交互，因此我们实际上并不需要图片 URL。 让我们尝试创建一个名为 **has_image** 的新列，该列将包含布尔值\n",
    "\n",
    "- 如果推文包含图像，则为 True，否则为 False。\n",
    "\n",
    "\n",
    "那么我们如何创建一个**has_image**字段？\n",
    "\n",
    "\n",
    "\n",
    "\n",
    "\n",
    "\n",
    "<br><br>\n",
    "\n",
    "## np.where()\n",
    "\n",
    "np.where(condition, value if condition is true, value if condition is false)\n",
    "\n",
    "为此，我们将使用 numpy 的内置 where() 函数。 这个函数依次接受三个参数：我们要测试的条件，如果条件为真则分配给新列的值，如果条件为假则分配给新列的值。 它看起来像这样：\n",
    "\n",
    "\n"
   ]
  },
  {
   "cell_type": "code",
   "execution_count": null,
   "metadata": {},
   "outputs": [],
   "source": [
    "df['has_image'] = np.where(df['photos']!='[]', True, False)\n",
    "df.head()"
   ]
  },
  {
   "cell_type": "code",
   "execution_count": null,
   "metadata": {},
   "outputs": [],
   "source": [
    "![](img/df2.png)"
   ]
  },
  {
   "cell_type": "markdown",
   "metadata": {},
   "source": [
    "## np.select()\n",
    "\n",
    "这种方法很好用，但如果我们新建列的值不止True、False呢？\n",
    "\n",
    "例如我们把**likes_count** 进行分类，不同取值范围定义为不同的类别\n",
    "\n",
    "\n",
    "- tier_4  少于2个赞\n",
    "- tier_3  3-9 个赞\n",
    "- tier_2  10-15 个赞\n",
    "- tier_1  16+ 个赞\n",
    "\n",
    "\n",
    "为此，我们可以使用名为 **np.select()** 的函数。我们将给它两个参数：一个我们的条件列表，以及一个我们想要分配给新列中每一行的值的相关列表。\n",
    "\n",
    "这意味着顺序很重要：如果满足条件列表中的第一个条件，则值列表中的第一个值将分配给该行的新列。如果满足第二个条件，则将分配第二个值，依此类推。\n",
    "\n",
    "让我们来看看它在 Python 代码中的表现："
   ]
  },
  {
   "cell_type": "code",
   "execution_count": null,
   "metadata": {},
   "outputs": [],
   "source": [
    "# create a list of our conditions\n",
    "conditions = [\n",
    "    (df['likes_count'] <= 2),\n",
    "    (df['likes_count'] > 2) & (df['likes_count'] <= 9),\n",
    "    (df['likes_count'] > 9) & (df['likes_count'] <= 15),\n",
    "    (df['likes_count'] > 15)\n",
    "    ]\n",
    "\n",
    "# create a list of the values we want to assign for each condition\n",
    "values = ['tier_4', 'tier_3', 'tier_2', 'tier_1']\n",
    "\n",
    "# create a new column and use np.select to assign values to it using our lists as arguments\n",
    "df['tier'] = np.select(conditions, values)\n",
    "\n",
    "# display updated DataFrame\n",
    "df.head()"
   ]
  },
  {
   "cell_type": "code",
   "execution_count": null,
   "metadata": {},
   "outputs": [],
   "source": [
    "![](img/df2.png)"
   ]
  }
 ],
 "metadata": {
  "kernelspec": {
   "display_name": "Python 3",
   "language": "python",
   "name": "python3"
  },
  "language_info": {
   "codemirror_mode": {
    "name": "ipython",
    "version": 3
   },
   "file_extension": ".py",
   "mimetype": "text/x-python",
   "name": "python",
   "nbconvert_exporter": "python",
   "pygments_lexer": "ipython3",
   "version": "3.7.5"
  }
 },
 "nbformat": 4,
 "nbformat_minor": 4
}
